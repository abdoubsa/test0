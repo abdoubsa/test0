{
  "nbformat": 4,
  "nbformat_minor": 0,
  "metadata": {
    "colab": {
      "provenance": [],
      "gpuType": "T4",
      "include_colab_link": true
    },
    "kernelspec": {
      "name": "python3",
      "display_name": "Python 3"
    },
    "language_info": {
      "name": "python"
    },
    "accelerator": "GPU"
  },
  "cells": [
    {
      "cell_type": "markdown",
      "metadata": {
        "id": "view-in-github",
        "colab_type": "text"
      },
      "source": [
        "<a href=\"https://colab.research.google.com/github/abdoubsa/test0/blob/master/playerDetection.ipynb\" target=\"_parent\"><img src=\"https://colab.research.google.com/assets/colab-badge.svg\" alt=\"Open In Colab\"/></a>"
      ]
    },
    {
      "cell_type": "code",
      "execution_count": 1,
      "metadata": {
        "colab": {
          "base_uri": "https://localhost:8080/"
        },
        "id": "N1LX1gVEINCK",
        "outputId": "b008963f-13e7-4438-b1e0-7d4686348992"
      },
      "outputs": [
        {
          "output_type": "stream",
          "name": "stdout",
          "text": [
            "Collecting ultralytics\n",
            "  Downloading ultralytics-8.3.169-py3-none-any.whl.metadata (37 kB)\n",
            "Requirement already satisfied: numpy>=1.23.0 in /usr/local/lib/python3.11/dist-packages (from ultralytics) (2.0.2)\n",
            "Requirement already satisfied: matplotlib>=3.3.0 in /usr/local/lib/python3.11/dist-packages (from ultralytics) (3.10.0)\n",
            "Requirement already satisfied: opencv-python>=4.6.0 in /usr/local/lib/python3.11/dist-packages (from ultralytics) (4.12.0.88)\n",
            "Requirement already satisfied: pillow>=7.1.2 in /usr/local/lib/python3.11/dist-packages (from ultralytics) (11.3.0)\n",
            "Requirement already satisfied: pyyaml>=5.3.1 in /usr/local/lib/python3.11/dist-packages (from ultralytics) (6.0.2)\n",
            "Requirement already satisfied: requests>=2.23.0 in /usr/local/lib/python3.11/dist-packages (from ultralytics) (2.32.3)\n",
            "Requirement already satisfied: scipy>=1.4.1 in /usr/local/lib/python3.11/dist-packages (from ultralytics) (1.16.0)\n",
            "Requirement already satisfied: torch>=1.8.0 in /usr/local/lib/python3.11/dist-packages (from ultralytics) (2.6.0+cu124)\n",
            "Requirement already satisfied: torchvision>=0.9.0 in /usr/local/lib/python3.11/dist-packages (from ultralytics) (0.21.0+cu124)\n",
            "Requirement already satisfied: tqdm>=4.64.0 in /usr/local/lib/python3.11/dist-packages (from ultralytics) (4.67.1)\n",
            "Requirement already satisfied: psutil in /usr/local/lib/python3.11/dist-packages (from ultralytics) (5.9.5)\n",
            "Requirement already satisfied: py-cpuinfo in /usr/local/lib/python3.11/dist-packages (from ultralytics) (9.0.0)\n",
            "Requirement already satisfied: pandas>=1.1.4 in /usr/local/lib/python3.11/dist-packages (from ultralytics) (2.2.2)\n",
            "Collecting ultralytics-thop>=2.0.0 (from ultralytics)\n",
            "  Downloading ultralytics_thop-2.0.14-py3-none-any.whl.metadata (9.4 kB)\n",
            "Requirement already satisfied: contourpy>=1.0.1 in /usr/local/lib/python3.11/dist-packages (from matplotlib>=3.3.0->ultralytics) (1.3.2)\n",
            "Requirement already satisfied: cycler>=0.10 in /usr/local/lib/python3.11/dist-packages (from matplotlib>=3.3.0->ultralytics) (0.12.1)\n",
            "Requirement already satisfied: fonttools>=4.22.0 in /usr/local/lib/python3.11/dist-packages (from matplotlib>=3.3.0->ultralytics) (4.59.0)\n",
            "Requirement already satisfied: kiwisolver>=1.3.1 in /usr/local/lib/python3.11/dist-packages (from matplotlib>=3.3.0->ultralytics) (1.4.8)\n",
            "Requirement already satisfied: packaging>=20.0 in /usr/local/lib/python3.11/dist-packages (from matplotlib>=3.3.0->ultralytics) (25.0)\n",
            "Requirement already satisfied: pyparsing>=2.3.1 in /usr/local/lib/python3.11/dist-packages (from matplotlib>=3.3.0->ultralytics) (3.2.3)\n",
            "Requirement already satisfied: python-dateutil>=2.7 in /usr/local/lib/python3.11/dist-packages (from matplotlib>=3.3.0->ultralytics) (2.9.0.post0)\n",
            "Requirement already satisfied: pytz>=2020.1 in /usr/local/lib/python3.11/dist-packages (from pandas>=1.1.4->ultralytics) (2025.2)\n",
            "Requirement already satisfied: tzdata>=2022.7 in /usr/local/lib/python3.11/dist-packages (from pandas>=1.1.4->ultralytics) (2025.2)\n",
            "Requirement already satisfied: charset-normalizer<4,>=2 in /usr/local/lib/python3.11/dist-packages (from requests>=2.23.0->ultralytics) (3.4.2)\n",
            "Requirement already satisfied: idna<4,>=2.5 in /usr/local/lib/python3.11/dist-packages (from requests>=2.23.0->ultralytics) (3.10)\n",
            "Requirement already satisfied: urllib3<3,>=1.21.1 in /usr/local/lib/python3.11/dist-packages (from requests>=2.23.0->ultralytics) (2.5.0)\n",
            "Requirement already satisfied: certifi>=2017.4.17 in /usr/local/lib/python3.11/dist-packages (from requests>=2.23.0->ultralytics) (2025.7.14)\n",
            "Requirement already satisfied: filelock in /usr/local/lib/python3.11/dist-packages (from torch>=1.8.0->ultralytics) (3.18.0)\n",
            "Requirement already satisfied: typing-extensions>=4.10.0 in /usr/local/lib/python3.11/dist-packages (from torch>=1.8.0->ultralytics) (4.14.1)\n",
            "Requirement already satisfied: networkx in /usr/local/lib/python3.11/dist-packages (from torch>=1.8.0->ultralytics) (3.5)\n",
            "Requirement already satisfied: jinja2 in /usr/local/lib/python3.11/dist-packages (from torch>=1.8.0->ultralytics) (3.1.6)\n",
            "Requirement already satisfied: fsspec in /usr/local/lib/python3.11/dist-packages (from torch>=1.8.0->ultralytics) (2025.7.0)\n",
            "Collecting nvidia-cuda-nvrtc-cu12==12.4.127 (from torch>=1.8.0->ultralytics)\n",
            "  Downloading nvidia_cuda_nvrtc_cu12-12.4.127-py3-none-manylinux2014_x86_64.whl.metadata (1.5 kB)\n",
            "Collecting nvidia-cuda-runtime-cu12==12.4.127 (from torch>=1.8.0->ultralytics)\n",
            "  Downloading nvidia_cuda_runtime_cu12-12.4.127-py3-none-manylinux2014_x86_64.whl.metadata (1.5 kB)\n",
            "Collecting nvidia-cuda-cupti-cu12==12.4.127 (from torch>=1.8.0->ultralytics)\n",
            "  Downloading nvidia_cuda_cupti_cu12-12.4.127-py3-none-manylinux2014_x86_64.whl.metadata (1.6 kB)\n",
            "Collecting nvidia-cudnn-cu12==9.1.0.70 (from torch>=1.8.0->ultralytics)\n",
            "  Downloading nvidia_cudnn_cu12-9.1.0.70-py3-none-manylinux2014_x86_64.whl.metadata (1.6 kB)\n",
            "Collecting nvidia-cublas-cu12==12.4.5.8 (from torch>=1.8.0->ultralytics)\n",
            "  Downloading nvidia_cublas_cu12-12.4.5.8-py3-none-manylinux2014_x86_64.whl.metadata (1.5 kB)\n",
            "Collecting nvidia-cufft-cu12==11.2.1.3 (from torch>=1.8.0->ultralytics)\n",
            "  Downloading nvidia_cufft_cu12-11.2.1.3-py3-none-manylinux2014_x86_64.whl.metadata (1.5 kB)\n",
            "Collecting nvidia-curand-cu12==10.3.5.147 (from torch>=1.8.0->ultralytics)\n",
            "  Downloading nvidia_curand_cu12-10.3.5.147-py3-none-manylinux2014_x86_64.whl.metadata (1.5 kB)\n",
            "Collecting nvidia-cusolver-cu12==11.6.1.9 (from torch>=1.8.0->ultralytics)\n",
            "  Downloading nvidia_cusolver_cu12-11.6.1.9-py3-none-manylinux2014_x86_64.whl.metadata (1.6 kB)\n",
            "Collecting nvidia-cusparse-cu12==12.3.1.170 (from torch>=1.8.0->ultralytics)\n",
            "  Downloading nvidia_cusparse_cu12-12.3.1.170-py3-none-manylinux2014_x86_64.whl.metadata (1.6 kB)\n",
            "Requirement already satisfied: nvidia-cusparselt-cu12==0.6.2 in /usr/local/lib/python3.11/dist-packages (from torch>=1.8.0->ultralytics) (0.6.2)\n",
            "Requirement already satisfied: nvidia-nccl-cu12==2.21.5 in /usr/local/lib/python3.11/dist-packages (from torch>=1.8.0->ultralytics) (2.21.5)\n",
            "Requirement already satisfied: nvidia-nvtx-cu12==12.4.127 in /usr/local/lib/python3.11/dist-packages (from torch>=1.8.0->ultralytics) (12.4.127)\n",
            "Collecting nvidia-nvjitlink-cu12==12.4.127 (from torch>=1.8.0->ultralytics)\n",
            "  Downloading nvidia_nvjitlink_cu12-12.4.127-py3-none-manylinux2014_x86_64.whl.metadata (1.5 kB)\n",
            "Requirement already satisfied: triton==3.2.0 in /usr/local/lib/python3.11/dist-packages (from torch>=1.8.0->ultralytics) (3.2.0)\n",
            "Requirement already satisfied: sympy==1.13.1 in /usr/local/lib/python3.11/dist-packages (from torch>=1.8.0->ultralytics) (1.13.1)\n",
            "Requirement already satisfied: mpmath<1.4,>=1.1.0 in /usr/local/lib/python3.11/dist-packages (from sympy==1.13.1->torch>=1.8.0->ultralytics) (1.3.0)\n",
            "Requirement already satisfied: six>=1.5 in /usr/local/lib/python3.11/dist-packages (from python-dateutil>=2.7->matplotlib>=3.3.0->ultralytics) (1.17.0)\n",
            "Requirement already satisfied: MarkupSafe>=2.0 in /usr/local/lib/python3.11/dist-packages (from jinja2->torch>=1.8.0->ultralytics) (3.0.2)\n",
            "Downloading ultralytics-8.3.169-py3-none-any.whl (1.0 MB)\n",
            "\u001b[2K   \u001b[90m━━━━━━━━━━━━━━━━━━━━━━━━━━━━━━━━━━━━━━━━\u001b[0m \u001b[32m1.0/1.0 MB\u001b[0m \u001b[31m26.6 MB/s\u001b[0m eta \u001b[36m0:00:00\u001b[0m\n",
            "\u001b[?25hDownloading nvidia_cublas_cu12-12.4.5.8-py3-none-manylinux2014_x86_64.whl (363.4 MB)\n",
            "\u001b[2K   \u001b[90m━━━━━━━━━━━━━━━━━━━━━━━━━━━━━━━━━━━━━━━━\u001b[0m \u001b[32m363.4/363.4 MB\u001b[0m \u001b[31m4.4 MB/s\u001b[0m eta \u001b[36m0:00:00\u001b[0m\n",
            "\u001b[?25hDownloading nvidia_cuda_cupti_cu12-12.4.127-py3-none-manylinux2014_x86_64.whl (13.8 MB)\n",
            "\u001b[2K   \u001b[90m━━━━━━━━━━━━━━━━━━━━━━━━━━━━━━━━━━━━━━━━\u001b[0m \u001b[32m13.8/13.8 MB\u001b[0m \u001b[31m127.1 MB/s\u001b[0m eta \u001b[36m0:00:00\u001b[0m\n",
            "\u001b[?25hDownloading nvidia_cuda_nvrtc_cu12-12.4.127-py3-none-manylinux2014_x86_64.whl (24.6 MB)\n",
            "\u001b[2K   \u001b[90m━━━━━━━━━━━━━━━━━━━━━━━━━━━━━━━━━━━━━━━━\u001b[0m \u001b[32m24.6/24.6 MB\u001b[0m \u001b[31m101.8 MB/s\u001b[0m eta \u001b[36m0:00:00\u001b[0m\n",
            "\u001b[?25hDownloading nvidia_cuda_runtime_cu12-12.4.127-py3-none-manylinux2014_x86_64.whl (883 kB)\n",
            "\u001b[2K   \u001b[90m━━━━━━━━━━━━━━━━━━━━━━━━━━━━━━━━━━━━━━━━\u001b[0m \u001b[32m883.7/883.7 kB\u001b[0m \u001b[31m64.4 MB/s\u001b[0m eta \u001b[36m0:00:00\u001b[0m\n",
            "\u001b[?25hDownloading nvidia_cudnn_cu12-9.1.0.70-py3-none-manylinux2014_x86_64.whl (664.8 MB)\n",
            "\u001b[2K   \u001b[90m━━━━━━━━━━━━━━━━━━━━━━━━━━━━━━━━━━━━━━━━\u001b[0m \u001b[32m664.8/664.8 MB\u001b[0m \u001b[31m2.8 MB/s\u001b[0m eta \u001b[36m0:00:00\u001b[0m\n",
            "\u001b[?25hDownloading nvidia_cufft_cu12-11.2.1.3-py3-none-manylinux2014_x86_64.whl (211.5 MB)\n",
            "\u001b[2K   \u001b[90m━━━━━━━━━━━━━━━━━━━━━━━━━━━━━━━━━━━━━━━━\u001b[0m \u001b[32m211.5/211.5 MB\u001b[0m \u001b[31m5.2 MB/s\u001b[0m eta \u001b[36m0:00:00\u001b[0m\n",
            "\u001b[?25hDownloading nvidia_curand_cu12-10.3.5.147-py3-none-manylinux2014_x86_64.whl (56.3 MB)\n",
            "\u001b[2K   \u001b[90m━━━━━━━━━━━━━━━━━━━━━━━━━━━━━━━━━━━━━━━━\u001b[0m \u001b[32m56.3/56.3 MB\u001b[0m \u001b[31m12.6 MB/s\u001b[0m eta \u001b[36m0:00:00\u001b[0m\n",
            "\u001b[?25hDownloading nvidia_cusolver_cu12-11.6.1.9-py3-none-manylinux2014_x86_64.whl (127.9 MB)\n",
            "\u001b[2K   \u001b[90m━━━━━━━━━━━━━━━━━━━━━━━━━━━━━━━━━━━━━━━━\u001b[0m \u001b[32m127.9/127.9 MB\u001b[0m \u001b[31m7.4 MB/s\u001b[0m eta \u001b[36m0:00:00\u001b[0m\n",
            "\u001b[?25hDownloading nvidia_cusparse_cu12-12.3.1.170-py3-none-manylinux2014_x86_64.whl (207.5 MB)\n",
            "\u001b[2K   \u001b[90m━━━━━━━━━━━━━━━━━━━━━━━━━━━━━━━━━━━━━━━━\u001b[0m \u001b[32m207.5/207.5 MB\u001b[0m \u001b[31m4.9 MB/s\u001b[0m eta \u001b[36m0:00:00\u001b[0m\n",
            "\u001b[?25hDownloading nvidia_nvjitlink_cu12-12.4.127-py3-none-manylinux2014_x86_64.whl (21.1 MB)\n",
            "\u001b[2K   \u001b[90m━━━━━━━━━━━━━━━━━━━━━━━━━━━━━━━━━━━━━━━━\u001b[0m \u001b[32m21.1/21.1 MB\u001b[0m \u001b[31m106.4 MB/s\u001b[0m eta \u001b[36m0:00:00\u001b[0m\n",
            "\u001b[?25hDownloading ultralytics_thop-2.0.14-py3-none-any.whl (26 kB)\n",
            "Installing collected packages: nvidia-nvjitlink-cu12, nvidia-curand-cu12, nvidia-cufft-cu12, nvidia-cuda-runtime-cu12, nvidia-cuda-nvrtc-cu12, nvidia-cuda-cupti-cu12, nvidia-cublas-cu12, nvidia-cusparse-cu12, nvidia-cudnn-cu12, nvidia-cusolver-cu12, ultralytics-thop, ultralytics\n",
            "  Attempting uninstall: nvidia-nvjitlink-cu12\n",
            "    Found existing installation: nvidia-nvjitlink-cu12 12.5.82\n",
            "    Uninstalling nvidia-nvjitlink-cu12-12.5.82:\n",
            "      Successfully uninstalled nvidia-nvjitlink-cu12-12.5.82\n",
            "  Attempting uninstall: nvidia-curand-cu12\n",
            "    Found existing installation: nvidia-curand-cu12 10.3.6.82\n",
            "    Uninstalling nvidia-curand-cu12-10.3.6.82:\n",
            "      Successfully uninstalled nvidia-curand-cu12-10.3.6.82\n",
            "  Attempting uninstall: nvidia-cufft-cu12\n",
            "    Found existing installation: nvidia-cufft-cu12 11.2.3.61\n",
            "    Uninstalling nvidia-cufft-cu12-11.2.3.61:\n",
            "      Successfully uninstalled nvidia-cufft-cu12-11.2.3.61\n",
            "  Attempting uninstall: nvidia-cuda-runtime-cu12\n",
            "    Found existing installation: nvidia-cuda-runtime-cu12 12.5.82\n",
            "    Uninstalling nvidia-cuda-runtime-cu12-12.5.82:\n",
            "      Successfully uninstalled nvidia-cuda-runtime-cu12-12.5.82\n",
            "  Attempting uninstall: nvidia-cuda-nvrtc-cu12\n",
            "    Found existing installation: nvidia-cuda-nvrtc-cu12 12.5.82\n",
            "    Uninstalling nvidia-cuda-nvrtc-cu12-12.5.82:\n",
            "      Successfully uninstalled nvidia-cuda-nvrtc-cu12-12.5.82\n",
            "  Attempting uninstall: nvidia-cuda-cupti-cu12\n",
            "    Found existing installation: nvidia-cuda-cupti-cu12 12.5.82\n",
            "    Uninstalling nvidia-cuda-cupti-cu12-12.5.82:\n",
            "      Successfully uninstalled nvidia-cuda-cupti-cu12-12.5.82\n",
            "  Attempting uninstall: nvidia-cublas-cu12\n",
            "    Found existing installation: nvidia-cublas-cu12 12.5.3.2\n",
            "    Uninstalling nvidia-cublas-cu12-12.5.3.2:\n",
            "      Successfully uninstalled nvidia-cublas-cu12-12.5.3.2\n",
            "  Attempting uninstall: nvidia-cusparse-cu12\n",
            "    Found existing installation: nvidia-cusparse-cu12 12.5.1.3\n",
            "    Uninstalling nvidia-cusparse-cu12-12.5.1.3:\n",
            "      Successfully uninstalled nvidia-cusparse-cu12-12.5.1.3\n",
            "  Attempting uninstall: nvidia-cudnn-cu12\n",
            "    Found existing installation: nvidia-cudnn-cu12 9.3.0.75\n",
            "    Uninstalling nvidia-cudnn-cu12-9.3.0.75:\n",
            "      Successfully uninstalled nvidia-cudnn-cu12-9.3.0.75\n",
            "  Attempting uninstall: nvidia-cusolver-cu12\n",
            "    Found existing installation: nvidia-cusolver-cu12 11.6.3.83\n",
            "    Uninstalling nvidia-cusolver-cu12-11.6.3.83:\n",
            "      Successfully uninstalled nvidia-cusolver-cu12-11.6.3.83\n",
            "Successfully installed nvidia-cublas-cu12-12.4.5.8 nvidia-cuda-cupti-cu12-12.4.127 nvidia-cuda-nvrtc-cu12-12.4.127 nvidia-cuda-runtime-cu12-12.4.127 nvidia-cudnn-cu12-9.1.0.70 nvidia-cufft-cu12-11.2.1.3 nvidia-curand-cu12-10.3.5.147 nvidia-cusolver-cu12-11.6.1.9 nvidia-cusparse-cu12-12.3.1.170 nvidia-nvjitlink-cu12-12.4.127 ultralytics-8.3.169 ultralytics-thop-2.0.14\n"
          ]
        }
      ],
      "source": [
        "!pip install ultralytics\n"
      ]
    },
    {
      "cell_type": "code",
      "source": [
        "# Unzip images to a custom data folder\n",
        "!unzip -q /content/data.zip -d /content/custom_data_new"
      ],
      "metadata": {
        "id": "XBno6HnlqzMT"
      },
      "execution_count": 13,
      "outputs": []
    },
    {
      "cell_type": "code",
      "source": [
        "# Split the data into training and validation data (90% - 10%)\n",
        "!wget -O /content/train_val_split.py https://raw.githubusercontent.com/EdjeElectronics/Train-and-Deploy-YOLO-Models/refs/heads/main/utils/train_val_split.py\n",
        "\n",
        "!python train_val_split.py --datapath=\"/content/custom_data_new\" --train_pct=0.9"
      ],
      "metadata": {
        "colab": {
          "base_uri": "https://localhost:8080/"
        },
        "id": "lBzj9eQYq37k",
        "outputId": "7e56299c-4483-4ed7-9083-6724c71e15eb"
      },
      "execution_count": 16,
      "outputs": [
        {
          "output_type": "stream",
          "name": "stdout",
          "text": [
            "--2025-07-23 20:34:13--  https://raw.githubusercontent.com/EdjeElectronics/Train-and-Deploy-YOLO-Models/refs/heads/main/utils/train_val_split.py\n",
            "Resolving raw.githubusercontent.com (raw.githubusercontent.com)... 185.199.109.133, 185.199.110.133, 185.199.111.133, ...\n",
            "Connecting to raw.githubusercontent.com (raw.githubusercontent.com)|185.199.109.133|:443... connected.\n",
            "HTTP request sent, awaiting response... 200 OK\n",
            "Length: 3203 (3.1K) [text/plain]\n",
            "Saving to: ‘/content/train_val_split.py’\n",
            "\n",
            "\r          /content/   0%[                    ]       0  --.-KB/s               \r/content/train_val_ 100%[===================>]   3.13K  --.-KB/s    in 0s      \n",
            "\n",
            "2025-07-23 20:34:13 (48.4 MB/s) - ‘/content/train_val_split.py’ saved [3203/3203]\n",
            "\n",
            "Number of image files: 1042\n",
            "Number of annotation files: 1042\n",
            "Images moving to train: 937\n",
            "Images moving to validation: 105\n"
          ]
        }
      ]
    },
    {
      "cell_type": "code",
      "source": [
        "from ultralytics import YOLO\n",
        "\n",
        "# Load model (YOLOv8n is the smallest; you can try YOLOv8s or YOLOv8m later)\n",
        "model = YOLO('yolov8s.pt')  # or 'yolov8s.pt'\n",
        "\n",
        "# Train\n",
        "model.train(\n",
        "    data='player_data.yaml',\n",
        "    epochs=100,\n",
        "    imgsz=768,\n",
        "    batch=16,\n",
        "    name='player_detection'\n",
        ")\n"
      ],
      "metadata": {
        "colab": {
          "base_uri": "https://localhost:8080/"
        },
        "id": "CicggHE2q8sY",
        "outputId": "c7a0140d-2a90-4820-c598-5f2199d7e652"
      },
      "execution_count": 17,
      "outputs": [
        {
          "output_type": "stream",
          "name": "stdout",
          "text": [
            "Downloading https://github.com/ultralytics/assets/releases/download/v8.3.0/yolov8s.pt to 'yolov8s.pt'...\n"
          ]
        },
        {
          "output_type": "stream",
          "name": "stderr",
          "text": [
            "100%|██████████| 21.5M/21.5M [00:00<00:00, 247MB/s]"
          ]
        },
        {
          "output_type": "stream",
          "name": "stdout",
          "text": [
            "Ultralytics 8.3.169 🚀 Python-3.11.13 torch-2.6.0+cu124 CUDA:0 (Tesla T4, 15095MiB)\n",
            "\u001b[34m\u001b[1mengine/trainer: \u001b[0magnostic_nms=False, amp=True, augment=False, auto_augment=randaugment, batch=16, bgr=0.0, box=7.5, cache=False, cfg=None, classes=None, close_mosaic=10, cls=0.5, conf=None, copy_paste=0.0, copy_paste_mode=flip, cos_lr=False, cutmix=0.0, data=player_data.yaml, degrees=0.0, deterministic=True, device=None, dfl=1.5, dnn=False, dropout=0.0, dynamic=False, embed=None, epochs=100, erasing=0.4, exist_ok=False, fliplr=0.5, flipud=0.0, format=torchscript, fraction=1.0, freeze=None, half=False, hsv_h=0.015, hsv_s=0.7, hsv_v=0.4, imgsz=768, int8=False, iou=0.7, keras=False, kobj=1.0, line_width=None, lr0=0.01, lrf=0.01, mask_ratio=4, max_det=300, mixup=0.0, mode=train, model=yolov8s.pt, momentum=0.937, mosaic=1.0, multi_scale=False, name=player_detection4, nbs=64, nms=False, opset=None, optimize=False, optimizer=auto, overlap_mask=True, patience=100, perspective=0.0, plots=True, pose=12.0, pretrained=True, profile=False, project=None, rect=False, resume=False, retina_masks=False, save=True, save_conf=False, save_crop=False, save_dir=runs/detect/player_detection4, save_frames=False, save_json=False, save_period=-1, save_txt=False, scale=0.5, seed=0, shear=0.0, show=False, show_boxes=True, show_conf=True, show_labels=True, simplify=True, single_cls=False, source=None, split=val, stream_buffer=False, task=detect, time=None, tracker=botsort.yaml, translate=0.1, val=True, verbose=True, vid_stride=1, visualize=False, warmup_bias_lr=0.1, warmup_epochs=3.0, warmup_momentum=0.8, weight_decay=0.0005, workers=8, workspace=None\n",
            "Overriding model.yaml nc=80 with nc=3\n"
          ]
        },
        {
          "output_type": "stream",
          "name": "stderr",
          "text": [
            "\n"
          ]
        },
        {
          "output_type": "stream",
          "name": "stdout",
          "text": [
            "\n",
            "                   from  n    params  module                                       arguments                     \n",
            "  0                  -1  1       928  ultralytics.nn.modules.conv.Conv             [3, 32, 3, 2]                 \n",
            "  1                  -1  1     18560  ultralytics.nn.modules.conv.Conv             [32, 64, 3, 2]                \n",
            "  2                  -1  1     29056  ultralytics.nn.modules.block.C2f             [64, 64, 1, True]             \n",
            "  3                  -1  1     73984  ultralytics.nn.modules.conv.Conv             [64, 128, 3, 2]               \n",
            "  4                  -1  2    197632  ultralytics.nn.modules.block.C2f             [128, 128, 2, True]           \n",
            "  5                  -1  1    295424  ultralytics.nn.modules.conv.Conv             [128, 256, 3, 2]              \n",
            "  6                  -1  2    788480  ultralytics.nn.modules.block.C2f             [256, 256, 2, True]           \n",
            "  7                  -1  1   1180672  ultralytics.nn.modules.conv.Conv             [256, 512, 3, 2]              \n",
            "  8                  -1  1   1838080  ultralytics.nn.modules.block.C2f             [512, 512, 1, True]           \n",
            "  9                  -1  1    656896  ultralytics.nn.modules.block.SPPF            [512, 512, 5]                 \n",
            " 10                  -1  1         0  torch.nn.modules.upsampling.Upsample         [None, 2, 'nearest']          \n",
            " 11             [-1, 6]  1         0  ultralytics.nn.modules.conv.Concat           [1]                           \n",
            " 12                  -1  1    591360  ultralytics.nn.modules.block.C2f             [768, 256, 1]                 \n",
            " 13                  -1  1         0  torch.nn.modules.upsampling.Upsample         [None, 2, 'nearest']          \n",
            " 14             [-1, 4]  1         0  ultralytics.nn.modules.conv.Concat           [1]                           \n",
            " 15                  -1  1    148224  ultralytics.nn.modules.block.C2f             [384, 128, 1]                 \n",
            " 16                  -1  1    147712  ultralytics.nn.modules.conv.Conv             [128, 128, 3, 2]              \n",
            " 17            [-1, 12]  1         0  ultralytics.nn.modules.conv.Concat           [1]                           \n",
            " 18                  -1  1    493056  ultralytics.nn.modules.block.C2f             [384, 256, 1]                 \n",
            " 19                  -1  1    590336  ultralytics.nn.modules.conv.Conv             [256, 256, 3, 2]              \n",
            " 20             [-1, 9]  1         0  ultralytics.nn.modules.conv.Concat           [1]                           \n",
            " 21                  -1  1   1969152  ultralytics.nn.modules.block.C2f             [768, 512, 1]                 \n",
            " 22        [15, 18, 21]  1   2117209  ultralytics.nn.modules.head.Detect           [3, [128, 256, 512]]          \n",
            "Model summary: 129 layers, 11,136,761 parameters, 11,136,745 gradients, 28.7 GFLOPs\n",
            "\n",
            "Transferred 349/355 items from pretrained weights\n",
            "Freezing layer 'model.22.dfl.conv.weight'\n",
            "\u001b[34m\u001b[1mAMP: \u001b[0mrunning Automatic Mixed Precision (AMP) checks...\n",
            "\u001b[34m\u001b[1mAMP: \u001b[0mchecks passed ✅\n",
            "\u001b[34m\u001b[1mtrain: \u001b[0mFast image access ✅ (ping: 0.0±0.0 ms, read: 1327.8±464.4 MB/s, size: 54.4 KB)\n"
          ]
        },
        {
          "output_type": "stream",
          "name": "stderr",
          "text": [
            "\u001b[34m\u001b[1mtrain: \u001b[0mScanning /content/data/train/labels... 1042 images, 0 backgrounds, 0 corrupt: 100%|██████████| 1042/1042 [00:00<00:00, 2152.10it/s]\n"
          ]
        },
        {
          "output_type": "stream",
          "name": "stdout",
          "text": [
            "\u001b[34m\u001b[1mtrain: \u001b[0mNew cache created: /content/data/train/labels.cache\n",
            "WARNING ⚠️ Box and segment counts should be equal, but got len(segments) = 895, len(boxes) = 23886. To resolve this only boxes will be used and all segments will be removed. To avoid this please supply either a detect or segment dataset, not a detect-segment mixed dataset.\n",
            "\u001b[34m\u001b[1malbumentations: \u001b[0mBlur(p=0.01, blur_limit=(3, 7)), MedianBlur(p=0.01, blur_limit=(3, 7)), ToGray(p=0.01, method='weighted_average', num_output_channels=3), CLAHE(p=0.01, clip_limit=(1.0, 4.0), tile_grid_size=(8, 8))\n",
            "\u001b[34m\u001b[1mval: \u001b[0mFast image access ✅ (ping: 0.0±0.0 ms, read: 389.3±34.9 MB/s, size: 56.4 KB)\n"
          ]
        },
        {
          "output_type": "stream",
          "name": "stderr",
          "text": [
            "\u001b[34m\u001b[1mval: \u001b[0mScanning /content/data/validation/labels... 283 images, 0 backgrounds, 0 corrupt: 100%|██████████| 283/283 [00:00<00:00, 753.97it/s]\n"
          ]
        },
        {
          "output_type": "stream",
          "name": "stdout",
          "text": [
            "\u001b[34m\u001b[1mval: \u001b[0mNew cache created: /content/data/validation/labels.cache\n",
            "WARNING ⚠️ Box and segment counts should be equal, but got len(segments) = 1883, len(boxes) = 6687. To resolve this only boxes will be used and all segments will be removed. To avoid this please supply either a detect or segment dataset, not a detect-segment mixed dataset.\n",
            "Plotting labels to runs/detect/player_detection4/labels.jpg... \n",
            "\u001b[34m\u001b[1moptimizer:\u001b[0m 'optimizer=auto' found, ignoring 'lr0=0.01' and 'momentum=0.937' and determining best 'optimizer', 'lr0' and 'momentum' automatically... \n",
            "\u001b[34m\u001b[1moptimizer:\u001b[0m AdamW(lr=0.001429, momentum=0.9) with parameter groups 57 weight(decay=0.0), 64 weight(decay=0.0005), 63 bias(decay=0.0)\n",
            "Image sizes 768 train, 768 val\n",
            "Using 2 dataloader workers\n",
            "Logging results to \u001b[1mruns/detect/player_detection4\u001b[0m\n",
            "Starting training for 100 epochs...\n",
            "\n",
            "      Epoch    GPU_mem   box_loss   cls_loss   dfl_loss  Instances       Size\n"
          ]
        },
        {
          "output_type": "stream",
          "name": "stderr",
          "text": [
            "      1/100       6.1G      1.458      1.264     0.9663         62        768: 100%|██████████| 66/66 [00:31<00:00,  2.08it/s]\n",
            "                 Class     Images  Instances      Box(P          R      mAP50  mAP50-95): 100%|██████████| 9/9 [00:04<00:00,  2.09it/s]"
          ]
        },
        {
          "output_type": "stream",
          "name": "stdout",
          "text": [
            "                   all        283       6687      0.907      0.225      0.209      0.135\n"
          ]
        },
        {
          "output_type": "stream",
          "name": "stderr",
          "text": [
            "\n"
          ]
        },
        {
          "output_type": "stream",
          "name": "stdout",
          "text": [
            "\n",
            "      Epoch    GPU_mem   box_loss   cls_loss   dfl_loss  Instances       Size\n"
          ]
        },
        {
          "output_type": "stream",
          "name": "stderr",
          "text": [
            "      2/100      7.17G      1.288     0.7904     0.9165         96        768: 100%|██████████| 66/66 [00:29<00:00,  2.27it/s]\n",
            "                 Class     Images  Instances      Box(P          R      mAP50  mAP50-95): 100%|██████████| 9/9 [00:03<00:00,  2.26it/s]"
          ]
        },
        {
          "output_type": "stream",
          "name": "stdout",
          "text": [
            "                   all        283       6687      0.636      0.287      0.229      0.142\n"
          ]
        },
        {
          "output_type": "stream",
          "name": "stderr",
          "text": [
            "\n"
          ]
        },
        {
          "output_type": "stream",
          "name": "stdout",
          "text": [
            "\n",
            "      Epoch    GPU_mem   box_loss   cls_loss   dfl_loss  Instances       Size\n"
          ]
        },
        {
          "output_type": "stream",
          "name": "stderr",
          "text": [
            "      3/100      7.17G      1.302     0.7778     0.9242         76        768: 100%|██████████| 66/66 [00:28<00:00,  2.29it/s]\n",
            "                 Class     Images  Instances      Box(P          R      mAP50  mAP50-95): 100%|██████████| 9/9 [00:04<00:00,  1.91it/s]"
          ]
        },
        {
          "output_type": "stream",
          "name": "stdout",
          "text": [
            "                   all        283       6687      0.908       0.23      0.258      0.159\n"
          ]
        },
        {
          "output_type": "stream",
          "name": "stderr",
          "text": [
            "\n"
          ]
        },
        {
          "output_type": "stream",
          "name": "stdout",
          "text": [
            "\n",
            "      Epoch    GPU_mem   box_loss   cls_loss   dfl_loss  Instances       Size\n"
          ]
        },
        {
          "output_type": "stream",
          "name": "stderr",
          "text": [
            "      4/100      7.17G      1.238     0.7754     0.9188         22        768: 100%|██████████| 66/66 [00:29<00:00,  2.27it/s]\n",
            "                 Class     Images  Instances      Box(P          R      mAP50  mAP50-95): 100%|██████████| 9/9 [00:03<00:00,  2.30it/s]"
          ]
        },
        {
          "output_type": "stream",
          "name": "stdout",
          "text": [
            "                   all        283       6687      0.794      0.315      0.362      0.226\n"
          ]
        },
        {
          "output_type": "stream",
          "name": "stderr",
          "text": [
            "\n"
          ]
        },
        {
          "output_type": "stream",
          "name": "stdout",
          "text": [
            "\n",
            "      Epoch    GPU_mem   box_loss   cls_loss   dfl_loss  Instances       Size\n"
          ]
        },
        {
          "output_type": "stream",
          "name": "stderr",
          "text": [
            "      5/100      7.17G      1.185     0.7212     0.8987         88        768: 100%|██████████| 66/66 [00:29<00:00,  2.25it/s]\n",
            "                 Class     Images  Instances      Box(P          R      mAP50  mAP50-95): 100%|██████████| 9/9 [00:04<00:00,  2.07it/s]"
          ]
        },
        {
          "output_type": "stream",
          "name": "stdout",
          "text": [
            "                   all        283       6687       0.71      0.253      0.355      0.215\n"
          ]
        },
        {
          "output_type": "stream",
          "name": "stderr",
          "text": [
            "\n"
          ]
        },
        {
          "output_type": "stream",
          "name": "stdout",
          "text": [
            "\n",
            "      Epoch    GPU_mem   box_loss   cls_loss   dfl_loss  Instances       Size\n"
          ]
        },
        {
          "output_type": "stream",
          "name": "stderr",
          "text": [
            "      6/100      7.17G      1.205     0.6922     0.8981        111        768: 100%|██████████| 66/66 [00:29<00:00,  2.22it/s]\n",
            "                 Class     Images  Instances      Box(P          R      mAP50  mAP50-95): 100%|██████████| 9/9 [00:04<00:00,  2.20it/s]"
          ]
        },
        {
          "output_type": "stream",
          "name": "stdout",
          "text": [
            "                   all        283       6687      0.841      0.252      0.381      0.223\n"
          ]
        },
        {
          "output_type": "stream",
          "name": "stderr",
          "text": [
            "\n"
          ]
        },
        {
          "output_type": "stream",
          "name": "stdout",
          "text": [
            "\n",
            "      Epoch    GPU_mem   box_loss   cls_loss   dfl_loss  Instances       Size\n"
          ]
        },
        {
          "output_type": "stream",
          "name": "stderr",
          "text": [
            "      7/100      7.17G      1.161     0.6885      0.894         22        768: 100%|██████████| 66/66 [00:29<00:00,  2.24it/s]\n",
            "                 Class     Images  Instances      Box(P          R      mAP50  mAP50-95): 100%|██████████| 9/9 [00:04<00:00,  2.24it/s]"
          ]
        },
        {
          "output_type": "stream",
          "name": "stdout",
          "text": [
            "                   all        283       6687      0.733      0.308      0.421      0.239\n"
          ]
        },
        {
          "output_type": "stream",
          "name": "stderr",
          "text": [
            "\n"
          ]
        },
        {
          "output_type": "stream",
          "name": "stdout",
          "text": [
            "\n",
            "      Epoch    GPU_mem   box_loss   cls_loss   dfl_loss  Instances       Size\n"
          ]
        },
        {
          "output_type": "stream",
          "name": "stderr",
          "text": [
            "      8/100      7.17G       1.16     0.7018     0.9001        100        768: 100%|██████████| 66/66 [00:28<00:00,  2.30it/s]\n",
            "                 Class     Images  Instances      Box(P          R      mAP50  mAP50-95): 100%|██████████| 9/9 [00:04<00:00,  1.92it/s]"
          ]
        },
        {
          "output_type": "stream",
          "name": "stdout",
          "text": [
            "                   all        283       6687      0.621      0.353      0.392       0.24\n"
          ]
        },
        {
          "output_type": "stream",
          "name": "stderr",
          "text": [
            "\n"
          ]
        },
        {
          "output_type": "stream",
          "name": "stdout",
          "text": [
            "\n",
            "      Epoch    GPU_mem   box_loss   cls_loss   dfl_loss  Instances       Size\n"
          ]
        },
        {
          "output_type": "stream",
          "name": "stderr",
          "text": [
            "      9/100      7.17G      1.136     0.6743      0.891        100        768: 100%|██████████| 66/66 [00:28<00:00,  2.31it/s]\n",
            "                 Class     Images  Instances      Box(P          R      mAP50  mAP50-95): 100%|██████████| 9/9 [00:03<00:00,  2.31it/s]"
          ]
        },
        {
          "output_type": "stream",
          "name": "stdout",
          "text": [
            "                   all        283       6687      0.835      0.251      0.338      0.207\n"
          ]
        },
        {
          "output_type": "stream",
          "name": "stderr",
          "text": [
            "\n"
          ]
        },
        {
          "output_type": "stream",
          "name": "stdout",
          "text": [
            "\n",
            "      Epoch    GPU_mem   box_loss   cls_loss   dfl_loss  Instances       Size\n"
          ]
        },
        {
          "output_type": "stream",
          "name": "stderr",
          "text": [
            "     10/100      7.17G      1.122     0.6527     0.8852         21        768: 100%|██████████| 66/66 [00:28<00:00,  2.28it/s]\n",
            "                 Class     Images  Instances      Box(P          R      mAP50  mAP50-95): 100%|██████████| 9/9 [00:04<00:00,  1.94it/s]"
          ]
        },
        {
          "output_type": "stream",
          "name": "stdout",
          "text": [
            "                   all        283       6687      0.567      0.388      0.405      0.254\n"
          ]
        },
        {
          "output_type": "stream",
          "name": "stderr",
          "text": [
            "\n"
          ]
        },
        {
          "output_type": "stream",
          "name": "stdout",
          "text": [
            "\n",
            "      Epoch    GPU_mem   box_loss   cls_loss   dfl_loss  Instances       Size\n"
          ]
        },
        {
          "output_type": "stream",
          "name": "stderr",
          "text": [
            "     11/100      7.17G       1.09     0.6392     0.8794        116        768: 100%|██████████| 66/66 [00:28<00:00,  2.30it/s]\n",
            "                 Class     Images  Instances      Box(P          R      mAP50  mAP50-95): 100%|██████████| 9/9 [00:03<00:00,  2.27it/s]"
          ]
        },
        {
          "output_type": "stream",
          "name": "stdout",
          "text": [
            "                   all        283       6687      0.763      0.259      0.453      0.291\n"
          ]
        },
        {
          "output_type": "stream",
          "name": "stderr",
          "text": [
            "\n"
          ]
        },
        {
          "output_type": "stream",
          "name": "stdout",
          "text": [
            "\n",
            "      Epoch    GPU_mem   box_loss   cls_loss   dfl_loss  Instances       Size\n"
          ]
        },
        {
          "output_type": "stream",
          "name": "stderr",
          "text": [
            "     12/100      7.17G      1.097      0.643     0.8854         42        768: 100%|██████████| 66/66 [00:28<00:00,  2.28it/s]\n",
            "                 Class     Images  Instances      Box(P          R      mAP50  mAP50-95): 100%|██████████| 9/9 [00:04<00:00,  2.20it/s]"
          ]
        },
        {
          "output_type": "stream",
          "name": "stdout",
          "text": [
            "                   all        283       6687      0.668      0.325       0.43      0.282\n"
          ]
        },
        {
          "output_type": "stream",
          "name": "stderr",
          "text": [
            "\n"
          ]
        },
        {
          "output_type": "stream",
          "name": "stdout",
          "text": [
            "\n",
            "      Epoch    GPU_mem   box_loss   cls_loss   dfl_loss  Instances       Size\n"
          ]
        },
        {
          "output_type": "stream",
          "name": "stderr",
          "text": [
            "     13/100      7.17G      1.126     0.6628     0.8922         32        768: 100%|██████████| 66/66 [00:28<00:00,  2.28it/s]\n",
            "                 Class     Images  Instances      Box(P          R      mAP50  mAP50-95): 100%|██████████| 9/9 [00:04<00:00,  2.07it/s]"
          ]
        },
        {
          "output_type": "stream",
          "name": "stdout",
          "text": [
            "                   all        283       6687      0.631      0.442      0.464       0.29\n"
          ]
        },
        {
          "output_type": "stream",
          "name": "stderr",
          "text": [
            "\n"
          ]
        },
        {
          "output_type": "stream",
          "name": "stdout",
          "text": [
            "\n",
            "      Epoch    GPU_mem   box_loss   cls_loss   dfl_loss  Instances       Size\n"
          ]
        },
        {
          "output_type": "stream",
          "name": "stderr",
          "text": [
            "     14/100      7.17G      1.087     0.6344     0.8801        107        768: 100%|██████████| 66/66 [00:28<00:00,  2.30it/s]\n",
            "                 Class     Images  Instances      Box(P          R      mAP50  mAP50-95): 100%|██████████| 9/9 [00:03<00:00,  2.34it/s]"
          ]
        },
        {
          "output_type": "stream",
          "name": "stdout",
          "text": [
            "                   all        283       6687      0.718      0.286      0.437      0.277\n"
          ]
        },
        {
          "output_type": "stream",
          "name": "stderr",
          "text": [
            "\n"
          ]
        },
        {
          "output_type": "stream",
          "name": "stdout",
          "text": [
            "\n",
            "      Epoch    GPU_mem   box_loss   cls_loss   dfl_loss  Instances       Size\n"
          ]
        },
        {
          "output_type": "stream",
          "name": "stderr",
          "text": [
            "     15/100      7.17G      1.065     0.6242     0.8767        102        768: 100%|██████████| 66/66 [00:28<00:00,  2.31it/s]\n",
            "                 Class     Images  Instances      Box(P          R      mAP50  mAP50-95): 100%|██████████| 9/9 [00:04<00:00,  1.92it/s]"
          ]
        },
        {
          "output_type": "stream",
          "name": "stdout",
          "text": [
            "                   all        283       6687      0.731      0.249      0.399      0.252\n"
          ]
        },
        {
          "output_type": "stream",
          "name": "stderr",
          "text": [
            "\n"
          ]
        },
        {
          "output_type": "stream",
          "name": "stdout",
          "text": [
            "\n",
            "      Epoch    GPU_mem   box_loss   cls_loss   dfl_loss  Instances       Size\n"
          ]
        },
        {
          "output_type": "stream",
          "name": "stderr",
          "text": [
            "     16/100      7.17G      1.105     0.6501     0.8838         55        768: 100%|██████████| 66/66 [00:29<00:00,  2.27it/s]\n",
            "                 Class     Images  Instances      Box(P          R      mAP50  mAP50-95): 100%|██████████| 9/9 [00:03<00:00,  2.33it/s]"
          ]
        },
        {
          "output_type": "stream",
          "name": "stdout",
          "text": [
            "                   all        283       6687      0.519      0.261      0.403      0.242\n"
          ]
        },
        {
          "output_type": "stream",
          "name": "stderr",
          "text": [
            "\n"
          ]
        },
        {
          "output_type": "stream",
          "name": "stdout",
          "text": [
            "\n",
            "      Epoch    GPU_mem   box_loss   cls_loss   dfl_loss  Instances       Size\n"
          ]
        },
        {
          "output_type": "stream",
          "name": "stderr",
          "text": [
            "     17/100      7.17G      1.078     0.6348     0.8772         42        768: 100%|██████████| 66/66 [00:28<00:00,  2.28it/s]\n",
            "                 Class     Images  Instances      Box(P          R      mAP50  mAP50-95): 100%|██████████| 9/9 [00:04<00:00,  2.04it/s]"
          ]
        },
        {
          "output_type": "stream",
          "name": "stdout",
          "text": [
            "                   all        283       6687      0.494      0.329      0.442      0.284\n"
          ]
        },
        {
          "output_type": "stream",
          "name": "stderr",
          "text": [
            "\n"
          ]
        },
        {
          "output_type": "stream",
          "name": "stdout",
          "text": [
            "\n",
            "      Epoch    GPU_mem   box_loss   cls_loss   dfl_loss  Instances       Size\n"
          ]
        },
        {
          "output_type": "stream",
          "name": "stderr",
          "text": [
            "     18/100      7.17G      1.044     0.6187     0.8723         53        768: 100%|██████████| 66/66 [00:29<00:00,  2.27it/s]\n",
            "                 Class     Images  Instances      Box(P          R      mAP50  mAP50-95): 100%|██████████| 9/9 [00:03<00:00,  2.29it/s]"
          ]
        },
        {
          "output_type": "stream",
          "name": "stdout",
          "text": [
            "                   all        283       6687      0.748      0.388      0.466      0.294\n"
          ]
        },
        {
          "output_type": "stream",
          "name": "stderr",
          "text": [
            "\n"
          ]
        },
        {
          "output_type": "stream",
          "name": "stdout",
          "text": [
            "\n",
            "      Epoch    GPU_mem   box_loss   cls_loss   dfl_loss  Instances       Size\n"
          ]
        },
        {
          "output_type": "stream",
          "name": "stderr",
          "text": [
            "     19/100      7.17G      1.055     0.6266     0.8767         40        768: 100%|██████████| 66/66 [00:29<00:00,  2.26it/s]\n",
            "                 Class     Images  Instances      Box(P          R      mAP50  mAP50-95): 100%|██████████| 9/9 [00:03<00:00,  2.28it/s]"
          ]
        },
        {
          "output_type": "stream",
          "name": "stdout",
          "text": [
            "                   all        283       6687      0.783      0.431      0.452      0.324\n"
          ]
        },
        {
          "output_type": "stream",
          "name": "stderr",
          "text": [
            "\n"
          ]
        },
        {
          "output_type": "stream",
          "name": "stdout",
          "text": [
            "\n",
            "      Epoch    GPU_mem   box_loss   cls_loss   dfl_loss  Instances       Size\n"
          ]
        },
        {
          "output_type": "stream",
          "name": "stderr",
          "text": [
            "     20/100      7.17G      1.042     0.6448     0.8811         50        768: 100%|██████████| 66/66 [00:28<00:00,  2.28it/s]\n",
            "                 Class     Images  Instances      Box(P          R      mAP50  mAP50-95): 100%|██████████| 9/9 [00:04<00:00,  2.07it/s]"
          ]
        },
        {
          "output_type": "stream",
          "name": "stdout",
          "text": [
            "                   all        283       6687      0.742      0.378      0.481      0.321\n"
          ]
        },
        {
          "output_type": "stream",
          "name": "stderr",
          "text": [
            "\n"
          ]
        },
        {
          "output_type": "stream",
          "name": "stdout",
          "text": [
            "\n",
            "      Epoch    GPU_mem   box_loss   cls_loss   dfl_loss  Instances       Size\n"
          ]
        },
        {
          "output_type": "stream",
          "name": "stderr",
          "text": [
            "     21/100      7.17G       1.05     0.6187     0.8694         56        768: 100%|██████████| 66/66 [00:28<00:00,  2.28it/s]\n",
            "                 Class     Images  Instances      Box(P          R      mAP50  mAP50-95): 100%|██████████| 9/9 [00:03<00:00,  2.37it/s]"
          ]
        },
        {
          "output_type": "stream",
          "name": "stdout",
          "text": [
            "                   all        283       6687      0.736      0.416      0.473      0.311\n"
          ]
        },
        {
          "output_type": "stream",
          "name": "stderr",
          "text": [
            "\n"
          ]
        },
        {
          "output_type": "stream",
          "name": "stdout",
          "text": [
            "\n",
            "      Epoch    GPU_mem   box_loss   cls_loss   dfl_loss  Instances       Size\n"
          ]
        },
        {
          "output_type": "stream",
          "name": "stderr",
          "text": [
            "     22/100      7.19G      1.036      0.618     0.8786         58        768: 100%|██████████| 66/66 [00:28<00:00,  2.28it/s]\n",
            "                 Class     Images  Instances      Box(P          R      mAP50  mAP50-95): 100%|██████████| 9/9 [00:04<00:00,  1.88it/s]"
          ]
        },
        {
          "output_type": "stream",
          "name": "stdout",
          "text": [
            "                   all        283       6687      0.568      0.406       0.47      0.324\n"
          ]
        },
        {
          "output_type": "stream",
          "name": "stderr",
          "text": [
            "\n"
          ]
        },
        {
          "output_type": "stream",
          "name": "stdout",
          "text": [
            "\n",
            "      Epoch    GPU_mem   box_loss   cls_loss   dfl_loss  Instances       Size\n"
          ]
        },
        {
          "output_type": "stream",
          "name": "stderr",
          "text": [
            "     23/100      7.19G      1.057     0.6013     0.8684         22        768: 100%|██████████| 66/66 [00:29<00:00,  2.27it/s]\n",
            "                 Class     Images  Instances      Box(P          R      mAP50  mAP50-95): 100%|██████████| 9/9 [00:03<00:00,  2.39it/s]"
          ]
        },
        {
          "output_type": "stream",
          "name": "stdout",
          "text": [
            "                   all        283       6687      0.603      0.482      0.434      0.292\n"
          ]
        },
        {
          "output_type": "stream",
          "name": "stderr",
          "text": [
            "\n"
          ]
        },
        {
          "output_type": "stream",
          "name": "stdout",
          "text": [
            "\n",
            "      Epoch    GPU_mem   box_loss   cls_loss   dfl_loss  Instances       Size\n"
          ]
        },
        {
          "output_type": "stream",
          "name": "stderr",
          "text": [
            "     24/100      7.19G      1.022     0.6292     0.8784         56        768: 100%|██████████| 66/66 [00:29<00:00,  2.26it/s]\n",
            "                 Class     Images  Instances      Box(P          R      mAP50  mAP50-95): 100%|██████████| 9/9 [00:03<00:00,  2.30it/s]"
          ]
        },
        {
          "output_type": "stream",
          "name": "stdout",
          "text": [
            "                   all        283       6687      0.518      0.419      0.396      0.271\n"
          ]
        },
        {
          "output_type": "stream",
          "name": "stderr",
          "text": [
            "\n"
          ]
        },
        {
          "output_type": "stream",
          "name": "stdout",
          "text": [
            "\n",
            "      Epoch    GPU_mem   box_loss   cls_loss   dfl_loss  Instances       Size\n"
          ]
        },
        {
          "output_type": "stream",
          "name": "stderr",
          "text": [
            "     25/100      7.19G      1.011     0.5847     0.8644        106        768: 100%|██████████| 66/66 [00:28<00:00,  2.34it/s]\n",
            "                 Class     Images  Instances      Box(P          R      mAP50  mAP50-95): 100%|██████████| 9/9 [00:03<00:00,  2.29it/s]"
          ]
        },
        {
          "output_type": "stream",
          "name": "stdout",
          "text": [
            "                   all        283       6687      0.543      0.478      0.434      0.295\n"
          ]
        },
        {
          "output_type": "stream",
          "name": "stderr",
          "text": [
            "\n"
          ]
        },
        {
          "output_type": "stream",
          "name": "stdout",
          "text": [
            "\n",
            "      Epoch    GPU_mem   box_loss   cls_loss   dfl_loss  Instances       Size\n"
          ]
        },
        {
          "output_type": "stream",
          "name": "stderr",
          "text": [
            "     26/100      7.19G      1.005     0.6228     0.8795         43        768: 100%|██████████| 66/66 [00:29<00:00,  2.27it/s]\n",
            "                 Class     Images  Instances      Box(P          R      mAP50  mAP50-95): 100%|██████████| 9/9 [00:03<00:00,  2.30it/s]"
          ]
        },
        {
          "output_type": "stream",
          "name": "stdout",
          "text": [
            "                   all        283       6687      0.608      0.444       0.48      0.323\n"
          ]
        },
        {
          "output_type": "stream",
          "name": "stderr",
          "text": [
            "\n"
          ]
        },
        {
          "output_type": "stream",
          "name": "stdout",
          "text": [
            "\n",
            "      Epoch    GPU_mem   box_loss   cls_loss   dfl_loss  Instances       Size\n"
          ]
        },
        {
          "output_type": "stream",
          "name": "stderr",
          "text": [
            "     27/100      7.19G      1.013     0.6063     0.8718         66        768: 100%|██████████| 66/66 [00:28<00:00,  2.29it/s]\n",
            "                 Class     Images  Instances      Box(P          R      mAP50  mAP50-95): 100%|██████████| 9/9 [00:04<00:00,  2.02it/s]"
          ]
        },
        {
          "output_type": "stream",
          "name": "stdout",
          "text": [
            "                   all        283       6687      0.639      0.392      0.469      0.296\n"
          ]
        },
        {
          "output_type": "stream",
          "name": "stderr",
          "text": [
            "\n"
          ]
        },
        {
          "output_type": "stream",
          "name": "stdout",
          "text": [
            "\n",
            "      Epoch    GPU_mem   box_loss   cls_loss   dfl_loss  Instances       Size\n"
          ]
        },
        {
          "output_type": "stream",
          "name": "stderr",
          "text": [
            "     28/100      7.19G     0.9941     0.5959     0.8643         97        768: 100%|██████████| 66/66 [00:28<00:00,  2.31it/s]\n",
            "                 Class     Images  Instances      Box(P          R      mAP50  mAP50-95): 100%|██████████| 9/9 [00:03<00:00,  2.31it/s]"
          ]
        },
        {
          "output_type": "stream",
          "name": "stdout",
          "text": [
            "                   all        283       6687      0.566      0.531      0.468      0.307\n"
          ]
        },
        {
          "output_type": "stream",
          "name": "stderr",
          "text": [
            "\n"
          ]
        },
        {
          "output_type": "stream",
          "name": "stdout",
          "text": [
            "\n",
            "      Epoch    GPU_mem   box_loss   cls_loss   dfl_loss  Instances       Size\n"
          ]
        },
        {
          "output_type": "stream",
          "name": "stderr",
          "text": [
            "     29/100      7.19G      1.013     0.6014     0.8687         78        768: 100%|██████████| 66/66 [00:28<00:00,  2.29it/s]\n",
            "                 Class     Images  Instances      Box(P          R      mAP50  mAP50-95): 100%|██████████| 9/9 [00:04<00:00,  1.95it/s]"
          ]
        },
        {
          "output_type": "stream",
          "name": "stdout",
          "text": [
            "                   all        283       6687      0.768      0.466      0.497      0.338\n"
          ]
        },
        {
          "output_type": "stream",
          "name": "stderr",
          "text": [
            "\n"
          ]
        },
        {
          "output_type": "stream",
          "name": "stdout",
          "text": [
            "\n",
            "      Epoch    GPU_mem   box_loss   cls_loss   dfl_loss  Instances       Size\n"
          ]
        },
        {
          "output_type": "stream",
          "name": "stderr",
          "text": [
            "     30/100      7.19G     0.9976     0.5786     0.8614        130        768: 100%|██████████| 66/66 [00:28<00:00,  2.28it/s]\n",
            "                 Class     Images  Instances      Box(P          R      mAP50  mAP50-95): 100%|██████████| 9/9 [00:03<00:00,  2.39it/s]"
          ]
        },
        {
          "output_type": "stream",
          "name": "stdout",
          "text": [
            "                   all        283       6687      0.573      0.408      0.483      0.343\n"
          ]
        },
        {
          "output_type": "stream",
          "name": "stderr",
          "text": [
            "\n"
          ]
        },
        {
          "output_type": "stream",
          "name": "stdout",
          "text": [
            "\n",
            "      Epoch    GPU_mem   box_loss   cls_loss   dfl_loss  Instances       Size\n"
          ]
        },
        {
          "output_type": "stream",
          "name": "stderr",
          "text": [
            "     31/100      7.19G     0.9839       0.59     0.8654         84        768: 100%|██████████| 66/66 [00:28<00:00,  2.28it/s]\n",
            "                 Class     Images  Instances      Box(P          R      mAP50  mAP50-95): 100%|██████████| 9/9 [00:04<00:00,  2.09it/s]"
          ]
        },
        {
          "output_type": "stream",
          "name": "stdout",
          "text": [
            "                   all        283       6687      0.193      0.677       0.46      0.319\n"
          ]
        },
        {
          "output_type": "stream",
          "name": "stderr",
          "text": [
            "\n"
          ]
        },
        {
          "output_type": "stream",
          "name": "stdout",
          "text": [
            "\n",
            "      Epoch    GPU_mem   box_loss   cls_loss   dfl_loss  Instances       Size\n"
          ]
        },
        {
          "output_type": "stream",
          "name": "stderr",
          "text": [
            "     32/100      7.19G     0.9825     0.5946     0.8676        107        768: 100%|██████████| 66/66 [00:28<00:00,  2.29it/s]\n",
            "                 Class     Images  Instances      Box(P          R      mAP50  mAP50-95): 100%|██████████| 9/9 [00:03<00:00,  2.34it/s]"
          ]
        },
        {
          "output_type": "stream",
          "name": "stdout",
          "text": [
            "                   all        283       6687      0.725      0.466      0.473      0.326\n"
          ]
        },
        {
          "output_type": "stream",
          "name": "stderr",
          "text": [
            "\n"
          ]
        },
        {
          "output_type": "stream",
          "name": "stdout",
          "text": [
            "\n",
            "      Epoch    GPU_mem   box_loss   cls_loss   dfl_loss  Instances       Size\n"
          ]
        },
        {
          "output_type": "stream",
          "name": "stderr",
          "text": [
            "     33/100      7.19G     0.9952     0.6099      0.871         98        768: 100%|██████████| 66/66 [00:28<00:00,  2.30it/s]\n",
            "                 Class     Images  Instances      Box(P          R      mAP50  mAP50-95): 100%|██████████| 9/9 [00:03<00:00,  2.30it/s]"
          ]
        },
        {
          "output_type": "stream",
          "name": "stdout",
          "text": [
            "                   all        283       6687      0.568      0.526      0.474      0.323\n"
          ]
        },
        {
          "output_type": "stream",
          "name": "stderr",
          "text": [
            "\n"
          ]
        },
        {
          "output_type": "stream",
          "name": "stdout",
          "text": [
            "\n",
            "      Epoch    GPU_mem   box_loss   cls_loss   dfl_loss  Instances       Size\n"
          ]
        },
        {
          "output_type": "stream",
          "name": "stderr",
          "text": [
            "     34/100      7.19G     0.9773     0.5843     0.8661         59        768: 100%|██████████| 66/66 [00:28<00:00,  2.29it/s]\n",
            "                 Class     Images  Instances      Box(P          R      mAP50  mAP50-95): 100%|██████████| 9/9 [00:04<00:00,  2.04it/s]"
          ]
        },
        {
          "output_type": "stream",
          "name": "stdout",
          "text": [
            "                   all        283       6687      0.695      0.359      0.493      0.334\n"
          ]
        },
        {
          "output_type": "stream",
          "name": "stderr",
          "text": [
            "\n"
          ]
        },
        {
          "output_type": "stream",
          "name": "stdout",
          "text": [
            "\n",
            "      Epoch    GPU_mem   box_loss   cls_loss   dfl_loss  Instances       Size\n"
          ]
        },
        {
          "output_type": "stream",
          "name": "stderr",
          "text": [
            "     35/100      7.19G     0.9729     0.5876     0.8646         66        768: 100%|██████████| 66/66 [00:28<00:00,  2.28it/s]\n",
            "                 Class     Images  Instances      Box(P          R      mAP50  mAP50-95): 100%|██████████| 9/9 [00:03<00:00,  2.36it/s]"
          ]
        },
        {
          "output_type": "stream",
          "name": "stdout",
          "text": [
            "                   all        283       6687      0.633      0.488      0.474      0.334\n"
          ]
        },
        {
          "output_type": "stream",
          "name": "stderr",
          "text": [
            "\n"
          ]
        },
        {
          "output_type": "stream",
          "name": "stdout",
          "text": [
            "\n",
            "      Epoch    GPU_mem   box_loss   cls_loss   dfl_loss  Instances       Size\n"
          ]
        },
        {
          "output_type": "stream",
          "name": "stderr",
          "text": [
            "     36/100      7.19G     0.9586     0.5683     0.8582        166        768: 100%|██████████| 66/66 [00:28<00:00,  2.33it/s]\n",
            "                 Class     Images  Instances      Box(P          R      mAP50  mAP50-95): 100%|██████████| 9/9 [00:04<00:00,  1.97it/s]"
          ]
        },
        {
          "output_type": "stream",
          "name": "stdout",
          "text": [
            "                   all        283       6687       0.76      0.514      0.488      0.339\n"
          ]
        },
        {
          "output_type": "stream",
          "name": "stderr",
          "text": [
            "\n"
          ]
        },
        {
          "output_type": "stream",
          "name": "stdout",
          "text": [
            "\n",
            "      Epoch    GPU_mem   box_loss   cls_loss   dfl_loss  Instances       Size\n"
          ]
        },
        {
          "output_type": "stream",
          "name": "stderr",
          "text": [
            "     37/100      7.19G     0.9714     0.5623     0.8563         37        768: 100%|██████████| 66/66 [00:28<00:00,  2.31it/s]\n",
            "                 Class     Images  Instances      Box(P          R      mAP50  mAP50-95): 100%|██████████| 9/9 [00:03<00:00,  2.40it/s]"
          ]
        },
        {
          "output_type": "stream",
          "name": "stdout",
          "text": [
            "                   all        283       6687      0.511      0.414      0.472      0.324\n"
          ]
        },
        {
          "output_type": "stream",
          "name": "stderr",
          "text": [
            "\n"
          ]
        },
        {
          "output_type": "stream",
          "name": "stdout",
          "text": [
            "\n",
            "      Epoch    GPU_mem   box_loss   cls_loss   dfl_loss  Instances       Size\n"
          ]
        },
        {
          "output_type": "stream",
          "name": "stderr",
          "text": [
            "     38/100      7.19G     0.9404     0.5564     0.8531         30        768: 100%|██████████| 66/66 [00:29<00:00,  2.27it/s]\n",
            "                 Class     Images  Instances      Box(P          R      mAP50  mAP50-95): 100%|██████████| 9/9 [00:04<00:00,  1.93it/s]"
          ]
        },
        {
          "output_type": "stream",
          "name": "stdout",
          "text": [
            "                   all        283       6687       0.43      0.647      0.469      0.327\n"
          ]
        },
        {
          "output_type": "stream",
          "name": "stderr",
          "text": [
            "\n"
          ]
        },
        {
          "output_type": "stream",
          "name": "stdout",
          "text": [
            "\n",
            "      Epoch    GPU_mem   box_loss   cls_loss   dfl_loss  Instances       Size\n"
          ]
        },
        {
          "output_type": "stream",
          "name": "stderr",
          "text": [
            "     39/100      7.19G     0.9495     0.5734     0.8616         19        768: 100%|██████████| 66/66 [00:28<00:00,  2.31it/s]\n",
            "                 Class     Images  Instances      Box(P          R      mAP50  mAP50-95): 100%|██████████| 9/9 [00:03<00:00,  2.41it/s]"
          ]
        },
        {
          "output_type": "stream",
          "name": "stdout",
          "text": [
            "                   all        283       6687       0.64      0.516      0.491      0.334\n"
          ]
        },
        {
          "output_type": "stream",
          "name": "stderr",
          "text": [
            "\n"
          ]
        },
        {
          "output_type": "stream",
          "name": "stdout",
          "text": [
            "\n",
            "      Epoch    GPU_mem   box_loss   cls_loss   dfl_loss  Instances       Size\n"
          ]
        },
        {
          "output_type": "stream",
          "name": "stderr",
          "text": [
            "     40/100      7.19G     0.9511     0.5524     0.8573        120        768: 100%|██████████| 66/66 [00:28<00:00,  2.28it/s]\n",
            "                 Class     Images  Instances      Box(P          R      mAP50  mAP50-95): 100%|██████████| 9/9 [00:04<00:00,  2.13it/s]"
          ]
        },
        {
          "output_type": "stream",
          "name": "stdout",
          "text": [
            "                   all        283       6687      0.506      0.529      0.443      0.305\n"
          ]
        },
        {
          "output_type": "stream",
          "name": "stderr",
          "text": [
            "\n"
          ]
        },
        {
          "output_type": "stream",
          "name": "stdout",
          "text": [
            "\n",
            "      Epoch    GPU_mem   box_loss   cls_loss   dfl_loss  Instances       Size\n"
          ]
        },
        {
          "output_type": "stream",
          "name": "stderr",
          "text": [
            "     41/100      7.19G     0.9475     0.5781     0.8636         68        768: 100%|██████████| 66/66 [00:28<00:00,  2.31it/s]\n",
            "                 Class     Images  Instances      Box(P          R      mAP50  mAP50-95): 100%|██████████| 9/9 [00:03<00:00,  2.41it/s]"
          ]
        },
        {
          "output_type": "stream",
          "name": "stdout",
          "text": [
            "                   all        283       6687      0.579      0.507      0.479      0.333\n"
          ]
        },
        {
          "output_type": "stream",
          "name": "stderr",
          "text": [
            "\n"
          ]
        },
        {
          "output_type": "stream",
          "name": "stdout",
          "text": [
            "\n",
            "      Epoch    GPU_mem   box_loss   cls_loss   dfl_loss  Instances       Size\n"
          ]
        },
        {
          "output_type": "stream",
          "name": "stderr",
          "text": [
            "     42/100      7.19G     0.9211     0.5101     0.8413         25        768: 100%|██████████| 66/66 [00:28<00:00,  2.30it/s]\n",
            "                 Class     Images  Instances      Box(P          R      mAP50  mAP50-95): 100%|██████████| 9/9 [00:03<00:00,  2.26it/s]"
          ]
        },
        {
          "output_type": "stream",
          "name": "stdout",
          "text": [
            "                   all        283       6687      0.217      0.676       0.43      0.305\n"
          ]
        },
        {
          "output_type": "stream",
          "name": "stderr",
          "text": [
            "\n"
          ]
        },
        {
          "output_type": "stream",
          "name": "stdout",
          "text": [
            "\n",
            "      Epoch    GPU_mem   box_loss   cls_loss   dfl_loss  Instances       Size\n"
          ]
        },
        {
          "output_type": "stream",
          "name": "stderr",
          "text": [
            "     43/100      7.19G     0.9151     0.5569     0.8547         38        768: 100%|██████████| 66/66 [00:28<00:00,  2.30it/s]\n",
            "                 Class     Images  Instances      Box(P          R      mAP50  mAP50-95): 100%|██████████| 9/9 [00:03<00:00,  2.35it/s]"
          ]
        },
        {
          "output_type": "stream",
          "name": "stdout",
          "text": [
            "                   all        283       6687      0.549      0.318      0.464      0.324\n"
          ]
        },
        {
          "output_type": "stream",
          "name": "stderr",
          "text": [
            "\n"
          ]
        },
        {
          "output_type": "stream",
          "name": "stdout",
          "text": [
            "\n",
            "      Epoch    GPU_mem   box_loss   cls_loss   dfl_loss  Instances       Size\n"
          ]
        },
        {
          "output_type": "stream",
          "name": "stderr",
          "text": [
            "     44/100      7.19G     0.9134     0.5343      0.847         67        768: 100%|██████████| 66/66 [00:28<00:00,  2.30it/s]\n",
            "                 Class     Images  Instances      Box(P          R      mAP50  mAP50-95): 100%|██████████| 9/9 [00:03<00:00,  2.38it/s]"
          ]
        },
        {
          "output_type": "stream",
          "name": "stdout",
          "text": [
            "                   all        283       6687      0.208      0.704      0.452      0.317\n"
          ]
        },
        {
          "output_type": "stream",
          "name": "stderr",
          "text": [
            "\n"
          ]
        },
        {
          "output_type": "stream",
          "name": "stdout",
          "text": [
            "\n",
            "      Epoch    GPU_mem   box_loss   cls_loss   dfl_loss  Instances       Size\n"
          ]
        },
        {
          "output_type": "stream",
          "name": "stderr",
          "text": [
            "     45/100      7.19G     0.8916     0.5137      0.844         41        768: 100%|██████████| 66/66 [00:28<00:00,  2.35it/s]\n",
            "                 Class     Images  Instances      Box(P          R      mAP50  mAP50-95): 100%|██████████| 9/9 [00:03<00:00,  2.36it/s]"
          ]
        },
        {
          "output_type": "stream",
          "name": "stdout",
          "text": [
            "                   all        283       6687      0.534      0.428      0.466      0.322\n"
          ]
        },
        {
          "output_type": "stream",
          "name": "stderr",
          "text": [
            "\n"
          ]
        },
        {
          "output_type": "stream",
          "name": "stdout",
          "text": [
            "\n",
            "      Epoch    GPU_mem   box_loss   cls_loss   dfl_loss  Instances       Size\n"
          ]
        },
        {
          "output_type": "stream",
          "name": "stderr",
          "text": [
            "     46/100      7.19G     0.9198     0.5605     0.8545         49        768: 100%|██████████| 66/66 [00:28<00:00,  2.34it/s]\n",
            "                 Class     Images  Instances      Box(P          R      mAP50  mAP50-95): 100%|██████████| 9/9 [00:03<00:00,  2.34it/s]"
          ]
        },
        {
          "output_type": "stream",
          "name": "stdout",
          "text": [
            "                   all        283       6687      0.599      0.437      0.437       0.31\n"
          ]
        },
        {
          "output_type": "stream",
          "name": "stderr",
          "text": [
            "\n"
          ]
        },
        {
          "output_type": "stream",
          "name": "stdout",
          "text": [
            "\n",
            "      Epoch    GPU_mem   box_loss   cls_loss   dfl_loss  Instances       Size\n"
          ]
        },
        {
          "output_type": "stream",
          "name": "stderr",
          "text": [
            "     47/100      7.19G     0.9186      0.543      0.852         50        768: 100%|██████████| 66/66 [00:28<00:00,  2.34it/s]\n",
            "                 Class     Images  Instances      Box(P          R      mAP50  mAP50-95): 100%|██████████| 9/9 [00:03<00:00,  2.34it/s]"
          ]
        },
        {
          "output_type": "stream",
          "name": "stdout",
          "text": [
            "                   all        283       6687       0.53       0.47      0.462      0.324\n"
          ]
        },
        {
          "output_type": "stream",
          "name": "stderr",
          "text": [
            "\n"
          ]
        },
        {
          "output_type": "stream",
          "name": "stdout",
          "text": [
            "\n",
            "      Epoch    GPU_mem   box_loss   cls_loss   dfl_loss  Instances       Size\n"
          ]
        },
        {
          "output_type": "stream",
          "name": "stderr",
          "text": [
            "     48/100      7.19G      0.918     0.5429     0.8493         45        768: 100%|██████████| 66/66 [00:28<00:00,  2.30it/s]\n",
            "                 Class     Images  Instances      Box(P          R      mAP50  mAP50-95): 100%|██████████| 9/9 [00:03<00:00,  2.31it/s]"
          ]
        },
        {
          "output_type": "stream",
          "name": "stdout",
          "text": [
            "                   all        283       6687       0.72      0.467      0.448      0.315\n"
          ]
        },
        {
          "output_type": "stream",
          "name": "stderr",
          "text": [
            "\n"
          ]
        },
        {
          "output_type": "stream",
          "name": "stdout",
          "text": [
            "\n",
            "      Epoch    GPU_mem   box_loss   cls_loss   dfl_loss  Instances       Size\n"
          ]
        },
        {
          "output_type": "stream",
          "name": "stderr",
          "text": [
            "     49/100      7.19G     0.9048      0.523     0.8446         40        768: 100%|██████████| 66/66 [00:28<00:00,  2.30it/s]\n",
            "                 Class     Images  Instances      Box(P          R      mAP50  mAP50-95): 100%|██████████| 9/9 [00:04<00:00,  2.08it/s]"
          ]
        },
        {
          "output_type": "stream",
          "name": "stdout",
          "text": [
            "                   all        283       6687      0.516      0.445      0.445      0.319\n"
          ]
        },
        {
          "output_type": "stream",
          "name": "stderr",
          "text": [
            "\n"
          ]
        },
        {
          "output_type": "stream",
          "name": "stdout",
          "text": [
            "\n",
            "      Epoch    GPU_mem   box_loss   cls_loss   dfl_loss  Instances       Size\n"
          ]
        },
        {
          "output_type": "stream",
          "name": "stderr",
          "text": [
            "     50/100      7.19G     0.9021     0.5626     0.8576         62        768: 100%|██████████| 66/66 [00:28<00:00,  2.33it/s]\n",
            "                 Class     Images  Instances      Box(P          R      mAP50  mAP50-95): 100%|██████████| 9/9 [00:03<00:00,  2.40it/s]"
          ]
        },
        {
          "output_type": "stream",
          "name": "stdout",
          "text": [
            "                   all        283       6687      0.606      0.544       0.48       0.34\n"
          ]
        },
        {
          "output_type": "stream",
          "name": "stderr",
          "text": [
            "\n"
          ]
        },
        {
          "output_type": "stream",
          "name": "stdout",
          "text": [
            "\n",
            "      Epoch    GPU_mem   box_loss   cls_loss   dfl_loss  Instances       Size\n"
          ]
        },
        {
          "output_type": "stream",
          "name": "stderr",
          "text": [
            "     51/100      7.19G      0.873     0.5328     0.8484         51        768: 100%|██████████| 66/66 [00:28<00:00,  2.33it/s]\n",
            "                 Class     Images  Instances      Box(P          R      mAP50  mAP50-95): 100%|██████████| 9/9 [00:04<00:00,  2.06it/s]"
          ]
        },
        {
          "output_type": "stream",
          "name": "stdout",
          "text": [
            "                   all        283       6687      0.516      0.522      0.463      0.333\n"
          ]
        },
        {
          "output_type": "stream",
          "name": "stderr",
          "text": [
            "\n"
          ]
        },
        {
          "output_type": "stream",
          "name": "stdout",
          "text": [
            "\n",
            "      Epoch    GPU_mem   box_loss   cls_loss   dfl_loss  Instances       Size\n"
          ]
        },
        {
          "output_type": "stream",
          "name": "stderr",
          "text": [
            "     52/100      7.19G     0.8698     0.5277     0.8493         57        768: 100%|██████████| 66/66 [00:28<00:00,  2.34it/s]\n",
            "                 Class     Images  Instances      Box(P          R      mAP50  mAP50-95): 100%|██████████| 9/9 [00:03<00:00,  2.43it/s]"
          ]
        },
        {
          "output_type": "stream",
          "name": "stdout",
          "text": [
            "                   all        283       6687      0.525      0.583      0.461      0.333\n"
          ]
        },
        {
          "output_type": "stream",
          "name": "stderr",
          "text": [
            "\n"
          ]
        },
        {
          "output_type": "stream",
          "name": "stdout",
          "text": [
            "\n",
            "      Epoch    GPU_mem   box_loss   cls_loss   dfl_loss  Instances       Size\n"
          ]
        },
        {
          "output_type": "stream",
          "name": "stderr",
          "text": [
            "     53/100      7.19G     0.8792     0.5301     0.8467         62        768: 100%|██████████| 66/66 [00:28<00:00,  2.32it/s]\n",
            "                 Class     Images  Instances      Box(P          R      mAP50  mAP50-95): 100%|██████████| 9/9 [00:04<00:00,  2.07it/s]"
          ]
        },
        {
          "output_type": "stream",
          "name": "stdout",
          "text": [
            "                   all        283       6687      0.543      0.509      0.474      0.337\n"
          ]
        },
        {
          "output_type": "stream",
          "name": "stderr",
          "text": [
            "\n"
          ]
        },
        {
          "output_type": "stream",
          "name": "stdout",
          "text": [
            "\n",
            "      Epoch    GPU_mem   box_loss   cls_loss   dfl_loss  Instances       Size\n"
          ]
        },
        {
          "output_type": "stream",
          "name": "stderr",
          "text": [
            "     54/100      7.19G     0.8759     0.5232     0.8472         48        768: 100%|██████████| 66/66 [00:28<00:00,  2.35it/s]\n",
            "                 Class     Images  Instances      Box(P          R      mAP50  mAP50-95): 100%|██████████| 9/9 [00:03<00:00,  2.40it/s]"
          ]
        },
        {
          "output_type": "stream",
          "name": "stdout",
          "text": [
            "                   all        283       6687      0.559      0.527      0.451      0.328\n"
          ]
        },
        {
          "output_type": "stream",
          "name": "stderr",
          "text": [
            "\n"
          ]
        },
        {
          "output_type": "stream",
          "name": "stdout",
          "text": [
            "\n",
            "      Epoch    GPU_mem   box_loss   cls_loss   dfl_loss  Instances       Size\n"
          ]
        },
        {
          "output_type": "stream",
          "name": "stderr",
          "text": [
            "     55/100      7.19G     0.8643     0.5055     0.8402         60        768: 100%|██████████| 66/66 [00:28<00:00,  2.30it/s]\n",
            "                 Class     Images  Instances      Box(P          R      mAP50  mAP50-95): 100%|██████████| 9/9 [00:04<00:00,  2.06it/s]"
          ]
        },
        {
          "output_type": "stream",
          "name": "stdout",
          "text": [
            "                   all        283       6687      0.534      0.494      0.448      0.322\n"
          ]
        },
        {
          "output_type": "stream",
          "name": "stderr",
          "text": [
            "\n"
          ]
        },
        {
          "output_type": "stream",
          "name": "stdout",
          "text": [
            "\n",
            "      Epoch    GPU_mem   box_loss   cls_loss   dfl_loss  Instances       Size\n"
          ]
        },
        {
          "output_type": "stream",
          "name": "stderr",
          "text": [
            "     56/100      7.19G     0.8403     0.5194     0.8478         27        768: 100%|██████████| 66/66 [00:28<00:00,  2.30it/s]\n",
            "                 Class     Images  Instances      Box(P          R      mAP50  mAP50-95): 100%|██████████| 9/9 [00:04<00:00,  2.22it/s]"
          ]
        },
        {
          "output_type": "stream",
          "name": "stdout",
          "text": [
            "                   all        283       6687      0.242      0.715      0.434      0.321\n"
          ]
        },
        {
          "output_type": "stream",
          "name": "stderr",
          "text": [
            "\n"
          ]
        },
        {
          "output_type": "stream",
          "name": "stdout",
          "text": [
            "\n",
            "      Epoch    GPU_mem   box_loss   cls_loss   dfl_loss  Instances       Size\n"
          ]
        },
        {
          "output_type": "stream",
          "name": "stderr",
          "text": [
            "     57/100      7.19G     0.8572     0.5429     0.8494         53        768: 100%|██████████| 66/66 [00:29<00:00,  2.25it/s]\n",
            "                 Class     Images  Instances      Box(P          R      mAP50  mAP50-95): 100%|██████████| 9/9 [00:04<00:00,  1.96it/s]"
          ]
        },
        {
          "output_type": "stream",
          "name": "stdout",
          "text": [
            "                   all        283       6687       0.53      0.439      0.459       0.33\n"
          ]
        },
        {
          "output_type": "stream",
          "name": "stderr",
          "text": [
            "\n"
          ]
        },
        {
          "output_type": "stream",
          "name": "stdout",
          "text": [
            "\n",
            "      Epoch    GPU_mem   box_loss   cls_loss   dfl_loss  Instances       Size\n"
          ]
        },
        {
          "output_type": "stream",
          "name": "stderr",
          "text": [
            "     58/100      7.19G     0.8691     0.5254     0.8429         18        768: 100%|██████████| 66/66 [00:28<00:00,  2.32it/s]\n",
            "                 Class     Images  Instances      Box(P          R      mAP50  mAP50-95): 100%|██████████| 9/9 [00:03<00:00,  2.27it/s]"
          ]
        },
        {
          "output_type": "stream",
          "name": "stdout",
          "text": [
            "                   all        283       6687      0.486      0.403      0.407      0.297\n"
          ]
        },
        {
          "output_type": "stream",
          "name": "stderr",
          "text": [
            "\n"
          ]
        },
        {
          "output_type": "stream",
          "name": "stdout",
          "text": [
            "\n",
            "      Epoch    GPU_mem   box_loss   cls_loss   dfl_loss  Instances       Size\n"
          ]
        },
        {
          "output_type": "stream",
          "name": "stderr",
          "text": [
            "     59/100      7.19G     0.8556     0.4993     0.8379         55        768: 100%|██████████| 66/66 [00:28<00:00,  2.28it/s]\n",
            "                 Class     Images  Instances      Box(P          R      mAP50  mAP50-95): 100%|██████████| 9/9 [00:04<00:00,  2.20it/s]"
          ]
        },
        {
          "output_type": "stream",
          "name": "stdout",
          "text": [
            "                   all        283       6687      0.481      0.511      0.455      0.342\n"
          ]
        },
        {
          "output_type": "stream",
          "name": "stderr",
          "text": [
            "\n"
          ]
        },
        {
          "output_type": "stream",
          "name": "stdout",
          "text": [
            "\n",
            "      Epoch    GPU_mem   box_loss   cls_loss   dfl_loss  Instances       Size\n"
          ]
        },
        {
          "output_type": "stream",
          "name": "stderr",
          "text": [
            "     60/100      7.19G     0.8476     0.5061     0.8405         31        768: 100%|██████████| 66/66 [00:29<00:00,  2.26it/s]\n",
            "                 Class     Images  Instances      Box(P          R      mAP50  mAP50-95): 100%|██████████| 9/9 [00:04<00:00,  2.21it/s]"
          ]
        },
        {
          "output_type": "stream",
          "name": "stdout",
          "text": [
            "                   all        283       6687      0.484      0.563      0.434      0.317\n"
          ]
        },
        {
          "output_type": "stream",
          "name": "stderr",
          "text": [
            "\n"
          ]
        },
        {
          "output_type": "stream",
          "name": "stdout",
          "text": [
            "\n",
            "      Epoch    GPU_mem   box_loss   cls_loss   dfl_loss  Instances       Size\n"
          ]
        },
        {
          "output_type": "stream",
          "name": "stderr",
          "text": [
            "     61/100      7.19G     0.8675     0.5323     0.8494         78        768: 100%|██████████| 66/66 [00:29<00:00,  2.26it/s]\n",
            "                 Class     Images  Instances      Box(P          R      mAP50  mAP50-95): 100%|██████████| 9/9 [00:03<00:00,  2.39it/s]"
          ]
        },
        {
          "output_type": "stream",
          "name": "stdout",
          "text": [
            "                   all        283       6687      0.505      0.534      0.438      0.321\n"
          ]
        },
        {
          "output_type": "stream",
          "name": "stderr",
          "text": [
            "\n"
          ]
        },
        {
          "output_type": "stream",
          "name": "stdout",
          "text": [
            "\n",
            "      Epoch    GPU_mem   box_loss   cls_loss   dfl_loss  Instances       Size\n"
          ]
        },
        {
          "output_type": "stream",
          "name": "stderr",
          "text": [
            "     62/100      7.19G     0.8484     0.5061     0.8425         25        768: 100%|██████████| 66/66 [00:28<00:00,  2.29it/s]\n",
            "                 Class     Images  Instances      Box(P          R      mAP50  mAP50-95): 100%|██████████| 9/9 [00:04<00:00,  2.03it/s]"
          ]
        },
        {
          "output_type": "stream",
          "name": "stdout",
          "text": [
            "                   all        283       6687      0.448      0.486      0.417      0.316\n"
          ]
        },
        {
          "output_type": "stream",
          "name": "stderr",
          "text": [
            "\n"
          ]
        },
        {
          "output_type": "stream",
          "name": "stdout",
          "text": [
            "\n",
            "      Epoch    GPU_mem   box_loss   cls_loss   dfl_loss  Instances       Size\n"
          ]
        },
        {
          "output_type": "stream",
          "name": "stderr",
          "text": [
            "     63/100      7.19G     0.8373     0.5049     0.8385         38        768: 100%|██████████| 66/66 [00:29<00:00,  2.27it/s]\n",
            "                 Class     Images  Instances      Box(P          R      mAP50  mAP50-95): 100%|██████████| 9/9 [00:03<00:00,  2.35it/s]"
          ]
        },
        {
          "output_type": "stream",
          "name": "stdout",
          "text": [
            "                   all        283       6687      0.465      0.471      0.406        0.3\n"
          ]
        },
        {
          "output_type": "stream",
          "name": "stderr",
          "text": [
            "\n"
          ]
        },
        {
          "output_type": "stream",
          "name": "stdout",
          "text": [
            "\n",
            "      Epoch    GPU_mem   box_loss   cls_loss   dfl_loss  Instances       Size\n"
          ]
        },
        {
          "output_type": "stream",
          "name": "stderr",
          "text": [
            "     64/100      7.19G     0.8168     0.5028      0.841         49        768: 100%|██████████| 66/66 [00:28<00:00,  2.33it/s]\n",
            "                 Class     Images  Instances      Box(P          R      mAP50  mAP50-95): 100%|██████████| 9/9 [00:04<00:00,  2.03it/s]"
          ]
        },
        {
          "output_type": "stream",
          "name": "stdout",
          "text": [
            "                   all        283       6687      0.505      0.552      0.442      0.327\n"
          ]
        },
        {
          "output_type": "stream",
          "name": "stderr",
          "text": [
            "\n"
          ]
        },
        {
          "output_type": "stream",
          "name": "stdout",
          "text": [
            "\n",
            "      Epoch    GPU_mem   box_loss   cls_loss   dfl_loss  Instances       Size\n"
          ]
        },
        {
          "output_type": "stream",
          "name": "stderr",
          "text": [
            "     65/100      7.19G     0.8133     0.4784     0.8316         88        768: 100%|██████████| 66/66 [00:28<00:00,  2.34it/s]\n",
            "                 Class     Images  Instances      Box(P          R      mAP50  mAP50-95): 100%|██████████| 9/9 [00:03<00:00,  2.36it/s]"
          ]
        },
        {
          "output_type": "stream",
          "name": "stdout",
          "text": [
            "                   all        283       6687      0.511      0.477      0.453      0.331\n"
          ]
        },
        {
          "output_type": "stream",
          "name": "stderr",
          "text": [
            "\n"
          ]
        },
        {
          "output_type": "stream",
          "name": "stdout",
          "text": [
            "\n",
            "      Epoch    GPU_mem   box_loss   cls_loss   dfl_loss  Instances       Size\n"
          ]
        },
        {
          "output_type": "stream",
          "name": "stderr",
          "text": [
            "     66/100      7.19G     0.8267     0.4827      0.833         50        768: 100%|██████████| 66/66 [00:28<00:00,  2.34it/s]\n",
            "                 Class     Images  Instances      Box(P          R      mAP50  mAP50-95): 100%|██████████| 9/9 [00:04<00:00,  2.02it/s]"
          ]
        },
        {
          "output_type": "stream",
          "name": "stdout",
          "text": [
            "                   all        283       6687      0.247      0.684       0.42       0.31\n"
          ]
        },
        {
          "output_type": "stream",
          "name": "stderr",
          "text": [
            "\n"
          ]
        },
        {
          "output_type": "stream",
          "name": "stdout",
          "text": [
            "\n",
            "      Epoch    GPU_mem   box_loss   cls_loss   dfl_loss  Instances       Size\n"
          ]
        },
        {
          "output_type": "stream",
          "name": "stderr",
          "text": [
            "     67/100      7.19G     0.8097     0.4912     0.8381         51        768: 100%|██████████| 66/66 [00:28<00:00,  2.31it/s]\n",
            "                 Class     Images  Instances      Box(P          R      mAP50  mAP50-95): 100%|██████████| 9/9 [00:03<00:00,  2.42it/s]"
          ]
        },
        {
          "output_type": "stream",
          "name": "stdout",
          "text": [
            "                   all        283       6687      0.528      0.514      0.457      0.334\n"
          ]
        },
        {
          "output_type": "stream",
          "name": "stderr",
          "text": [
            "\n"
          ]
        },
        {
          "output_type": "stream",
          "name": "stdout",
          "text": [
            "\n",
            "      Epoch    GPU_mem   box_loss   cls_loss   dfl_loss  Instances       Size\n"
          ]
        },
        {
          "output_type": "stream",
          "name": "stderr",
          "text": [
            "     68/100      7.19G     0.8109     0.4909     0.8374         47        768: 100%|██████████| 66/66 [00:28<00:00,  2.32it/s]\n",
            "                 Class     Images  Instances      Box(P          R      mAP50  mAP50-95): 100%|██████████| 9/9 [00:04<00:00,  2.06it/s]"
          ]
        },
        {
          "output_type": "stream",
          "name": "stdout",
          "text": [
            "                   all        283       6687      0.463      0.434      0.429      0.325\n"
          ]
        },
        {
          "output_type": "stream",
          "name": "stderr",
          "text": [
            "\n"
          ]
        },
        {
          "output_type": "stream",
          "name": "stdout",
          "text": [
            "\n",
            "      Epoch    GPU_mem   box_loss   cls_loss   dfl_loss  Instances       Size\n"
          ]
        },
        {
          "output_type": "stream",
          "name": "stderr",
          "text": [
            "     69/100      7.19G     0.7903     0.4772     0.8312        102        768: 100%|██████████| 66/66 [00:28<00:00,  2.33it/s]\n",
            "                 Class     Images  Instances      Box(P          R      mAP50  mAP50-95): 100%|██████████| 9/9 [00:03<00:00,  2.39it/s]"
          ]
        },
        {
          "output_type": "stream",
          "name": "stdout",
          "text": [
            "                   all        283       6687      0.517      0.502      0.445       0.34\n"
          ]
        },
        {
          "output_type": "stream",
          "name": "stderr",
          "text": [
            "\n"
          ]
        },
        {
          "output_type": "stream",
          "name": "stdout",
          "text": [
            "\n",
            "      Epoch    GPU_mem   box_loss   cls_loss   dfl_loss  Instances       Size\n"
          ]
        },
        {
          "output_type": "stream",
          "name": "stderr",
          "text": [
            "     70/100       7.2G     0.7995     0.5019     0.8413         51        768: 100%|██████████| 66/66 [00:28<00:00,  2.31it/s]\n",
            "                 Class     Images  Instances      Box(P          R      mAP50  mAP50-95): 100%|██████████| 9/9 [00:04<00:00,  2.10it/s]"
          ]
        },
        {
          "output_type": "stream",
          "name": "stdout",
          "text": [
            "                   all        283       6687      0.475      0.453      0.429      0.324\n"
          ]
        },
        {
          "output_type": "stream",
          "name": "stderr",
          "text": [
            "\n"
          ]
        },
        {
          "output_type": "stream",
          "name": "stdout",
          "text": [
            "\n",
            "      Epoch    GPU_mem   box_loss   cls_loss   dfl_loss  Instances       Size\n"
          ]
        },
        {
          "output_type": "stream",
          "name": "stderr",
          "text": [
            "     71/100       7.2G     0.8028     0.4781     0.8306        111        768: 100%|██████████| 66/66 [00:28<00:00,  2.32it/s]\n",
            "                 Class     Images  Instances      Box(P          R      mAP50  mAP50-95): 100%|██████████| 9/9 [00:03<00:00,  2.35it/s]"
          ]
        },
        {
          "output_type": "stream",
          "name": "stdout",
          "text": [
            "                   all        283       6687      0.478      0.487       0.41      0.311\n"
          ]
        },
        {
          "output_type": "stream",
          "name": "stderr",
          "text": [
            "\n"
          ]
        },
        {
          "output_type": "stream",
          "name": "stdout",
          "text": [
            "\n",
            "      Epoch    GPU_mem   box_loss   cls_loss   dfl_loss  Instances       Size\n"
          ]
        },
        {
          "output_type": "stream",
          "name": "stderr",
          "text": [
            "     72/100      7.21G     0.7893     0.4753      0.834         54        768: 100%|██████████| 66/66 [00:28<00:00,  2.30it/s]\n",
            "                 Class     Images  Instances      Box(P          R      mAP50  mAP50-95): 100%|██████████| 9/9 [00:04<00:00,  2.25it/s]"
          ]
        },
        {
          "output_type": "stream",
          "name": "stdout",
          "text": [
            "                   all        283       6687      0.489      0.488       0.43      0.325\n"
          ]
        },
        {
          "output_type": "stream",
          "name": "stderr",
          "text": [
            "\n"
          ]
        },
        {
          "output_type": "stream",
          "name": "stdout",
          "text": [
            "\n",
            "      Epoch    GPU_mem   box_loss   cls_loss   dfl_loss  Instances       Size\n"
          ]
        },
        {
          "output_type": "stream",
          "name": "stderr",
          "text": [
            "     73/100      7.21G     0.7991     0.4926     0.8345         96        768: 100%|██████████| 66/66 [00:28<00:00,  2.29it/s]\n",
            "                 Class     Images  Instances      Box(P          R      mAP50  mAP50-95): 100%|██████████| 9/9 [00:04<00:00,  2.23it/s]"
          ]
        },
        {
          "output_type": "stream",
          "name": "stdout",
          "text": [
            "                   all        283       6687      0.464      0.514      0.407      0.304\n"
          ]
        },
        {
          "output_type": "stream",
          "name": "stderr",
          "text": [
            "\n"
          ]
        },
        {
          "output_type": "stream",
          "name": "stdout",
          "text": [
            "\n",
            "      Epoch    GPU_mem   box_loss   cls_loss   dfl_loss  Instances       Size\n"
          ]
        },
        {
          "output_type": "stream",
          "name": "stderr",
          "text": [
            "     74/100      7.21G     0.7962     0.4924     0.8363        114        768: 100%|██████████| 66/66 [00:28<00:00,  2.28it/s]\n",
            "                 Class     Images  Instances      Box(P          R      mAP50  mAP50-95): 100%|██████████| 9/9 [00:03<00:00,  2.29it/s]"
          ]
        },
        {
          "output_type": "stream",
          "name": "stdout",
          "text": [
            "                   all        283       6687      0.502      0.444       0.43      0.322\n"
          ]
        },
        {
          "output_type": "stream",
          "name": "stderr",
          "text": [
            "\n"
          ]
        },
        {
          "output_type": "stream",
          "name": "stdout",
          "text": [
            "\n",
            "      Epoch    GPU_mem   box_loss   cls_loss   dfl_loss  Instances       Size\n"
          ]
        },
        {
          "output_type": "stream",
          "name": "stderr",
          "text": [
            "     75/100      7.21G     0.7945     0.4765     0.8328         81        768: 100%|██████████| 66/66 [00:28<00:00,  2.31it/s]\n",
            "                 Class     Images  Instances      Box(P          R      mAP50  mAP50-95): 100%|██████████| 9/9 [00:04<00:00,  1.99it/s]"
          ]
        },
        {
          "output_type": "stream",
          "name": "stdout",
          "text": [
            "                   all        283       6687      0.484      0.528      0.436      0.323\n"
          ]
        },
        {
          "output_type": "stream",
          "name": "stderr",
          "text": [
            "\n"
          ]
        },
        {
          "output_type": "stream",
          "name": "stdout",
          "text": [
            "\n",
            "      Epoch    GPU_mem   box_loss   cls_loss   dfl_loss  Instances       Size\n"
          ]
        },
        {
          "output_type": "stream",
          "name": "stderr",
          "text": [
            "     76/100      7.21G     0.7779     0.4825     0.8365        101        768: 100%|██████████| 66/66 [00:28<00:00,  2.32it/s]\n",
            "                 Class     Images  Instances      Box(P          R      mAP50  mAP50-95): 100%|██████████| 9/9 [00:03<00:00,  2.36it/s]"
          ]
        },
        {
          "output_type": "stream",
          "name": "stdout",
          "text": [
            "                   all        283       6687      0.484      0.528       0.44      0.332\n"
          ]
        },
        {
          "output_type": "stream",
          "name": "stderr",
          "text": [
            "\n"
          ]
        },
        {
          "output_type": "stream",
          "name": "stdout",
          "text": [
            "\n",
            "      Epoch    GPU_mem   box_loss   cls_loss   dfl_loss  Instances       Size\n"
          ]
        },
        {
          "output_type": "stream",
          "name": "stderr",
          "text": [
            "     77/100      7.21G     0.7751     0.4664     0.8295         43        768: 100%|██████████| 66/66 [00:28<00:00,  2.33it/s]\n",
            "                 Class     Images  Instances      Box(P          R      mAP50  mAP50-95): 100%|██████████| 9/9 [00:04<00:00,  2.04it/s]"
          ]
        },
        {
          "output_type": "stream",
          "name": "stdout",
          "text": [
            "                   all        283       6687      0.443      0.479      0.382      0.291\n"
          ]
        },
        {
          "output_type": "stream",
          "name": "stderr",
          "text": [
            "\n"
          ]
        },
        {
          "output_type": "stream",
          "name": "stdout",
          "text": [
            "\n",
            "      Epoch    GPU_mem   box_loss   cls_loss   dfl_loss  Instances       Size\n"
          ]
        },
        {
          "output_type": "stream",
          "name": "stderr",
          "text": [
            "     78/100      7.21G     0.7685     0.4755      0.832         76        768: 100%|██████████| 66/66 [00:28<00:00,  2.33it/s]\n",
            "                 Class     Images  Instances      Box(P          R      mAP50  mAP50-95): 100%|██████████| 9/9 [00:03<00:00,  2.35it/s]"
          ]
        },
        {
          "output_type": "stream",
          "name": "stdout",
          "text": [
            "                   all        283       6687       0.51      0.447      0.451       0.34\n"
          ]
        },
        {
          "output_type": "stream",
          "name": "stderr",
          "text": [
            "\n"
          ]
        },
        {
          "output_type": "stream",
          "name": "stdout",
          "text": [
            "\n",
            "      Epoch    GPU_mem   box_loss   cls_loss   dfl_loss  Instances       Size\n"
          ]
        },
        {
          "output_type": "stream",
          "name": "stderr",
          "text": [
            "     79/100      7.21G     0.7591     0.4776     0.8342         38        768: 100%|██████████| 66/66 [00:28<00:00,  2.35it/s]\n",
            "                 Class     Images  Instances      Box(P          R      mAP50  mAP50-95): 100%|██████████| 9/9 [00:04<00:00,  2.08it/s]"
          ]
        },
        {
          "output_type": "stream",
          "name": "stdout",
          "text": [
            "                   all        283       6687       0.53      0.489      0.459      0.351\n"
          ]
        },
        {
          "output_type": "stream",
          "name": "stderr",
          "text": [
            "\n"
          ]
        },
        {
          "output_type": "stream",
          "name": "stdout",
          "text": [
            "\n",
            "      Epoch    GPU_mem   box_loss   cls_loss   dfl_loss  Instances       Size\n"
          ]
        },
        {
          "output_type": "stream",
          "name": "stderr",
          "text": [
            "     80/100      7.21G     0.7559     0.4712     0.8291         42        768: 100%|██████████| 66/66 [00:27<00:00,  2.36it/s]\n",
            "                 Class     Images  Instances      Box(P          R      mAP50  mAP50-95): 100%|██████████| 9/9 [00:03<00:00,  2.48it/s]"
          ]
        },
        {
          "output_type": "stream",
          "name": "stdout",
          "text": [
            "                   all        283       6687      0.281      0.734      0.437      0.337\n"
          ]
        },
        {
          "output_type": "stream",
          "name": "stderr",
          "text": [
            "\n"
          ]
        },
        {
          "output_type": "stream",
          "name": "stdout",
          "text": [
            "\n",
            "      Epoch    GPU_mem   box_loss   cls_loss   dfl_loss  Instances       Size\n"
          ]
        },
        {
          "output_type": "stream",
          "name": "stderr",
          "text": [
            "     81/100      7.21G     0.7459     0.4509     0.8237         77        768: 100%|██████████| 66/66 [00:28<00:00,  2.30it/s]\n",
            "                 Class     Images  Instances      Box(P          R      mAP50  mAP50-95): 100%|██████████| 9/9 [00:04<00:00,  2.19it/s]"
          ]
        },
        {
          "output_type": "stream",
          "name": "stdout",
          "text": [
            "                   all        283       6687      0.482      0.485      0.439      0.336\n"
          ]
        },
        {
          "output_type": "stream",
          "name": "stderr",
          "text": [
            "\n"
          ]
        },
        {
          "output_type": "stream",
          "name": "stdout",
          "text": [
            "\n",
            "      Epoch    GPU_mem   box_loss   cls_loss   dfl_loss  Instances       Size\n"
          ]
        },
        {
          "output_type": "stream",
          "name": "stderr",
          "text": [
            "     82/100      7.21G     0.7512     0.4583     0.8256         56        768: 100%|██████████| 66/66 [00:28<00:00,  2.35it/s]\n",
            "                 Class     Images  Instances      Box(P          R      mAP50  mAP50-95): 100%|██████████| 9/9 [00:03<00:00,  2.45it/s]"
          ]
        },
        {
          "output_type": "stream",
          "name": "stdout",
          "text": [
            "                   all        283       6687      0.498      0.474      0.443      0.342\n"
          ]
        },
        {
          "output_type": "stream",
          "name": "stderr",
          "text": [
            "\n"
          ]
        },
        {
          "output_type": "stream",
          "name": "stdout",
          "text": [
            "\n",
            "      Epoch    GPU_mem   box_loss   cls_loss   dfl_loss  Instances       Size\n"
          ]
        },
        {
          "output_type": "stream",
          "name": "stderr",
          "text": [
            "     83/100      7.21G     0.7401     0.4475     0.8263         93        768: 100%|██████████| 66/66 [00:28<00:00,  2.35it/s]\n",
            "                 Class     Images  Instances      Box(P          R      mAP50  mAP50-95): 100%|██████████| 9/9 [00:04<00:00,  2.21it/s]"
          ]
        },
        {
          "output_type": "stream",
          "name": "stdout",
          "text": [
            "                   all        283       6687      0.372      0.341       0.38      0.294\n"
          ]
        },
        {
          "output_type": "stream",
          "name": "stderr",
          "text": [
            "\n"
          ]
        },
        {
          "output_type": "stream",
          "name": "stdout",
          "text": [
            "\n",
            "      Epoch    GPU_mem   box_loss   cls_loss   dfl_loss  Instances       Size\n"
          ]
        },
        {
          "output_type": "stream",
          "name": "stderr",
          "text": [
            "     84/100      7.21G     0.7398     0.4652      0.826         86        768: 100%|██████████| 66/66 [00:28<00:00,  2.35it/s]\n",
            "                 Class     Images  Instances      Box(P          R      mAP50  mAP50-95): 100%|██████████| 9/9 [00:03<00:00,  2.45it/s]"
          ]
        },
        {
          "output_type": "stream",
          "name": "stdout",
          "text": [
            "                   all        283       6687      0.479      0.502      0.409      0.319\n"
          ]
        },
        {
          "output_type": "stream",
          "name": "stderr",
          "text": [
            "\n"
          ]
        },
        {
          "output_type": "stream",
          "name": "stdout",
          "text": [
            "\n",
            "      Epoch    GPU_mem   box_loss   cls_loss   dfl_loss  Instances       Size\n"
          ]
        },
        {
          "output_type": "stream",
          "name": "stderr",
          "text": [
            "     85/100      7.21G      0.733      0.464     0.8307         59        768: 100%|██████████| 66/66 [00:28<00:00,  2.32it/s]\n",
            "                 Class     Images  Instances      Box(P          R      mAP50  mAP50-95): 100%|██████████| 9/9 [00:03<00:00,  2.31it/s]"
          ]
        },
        {
          "output_type": "stream",
          "name": "stdout",
          "text": [
            "                   all        283       6687      0.481      0.535      0.432      0.337\n"
          ]
        },
        {
          "output_type": "stream",
          "name": "stderr",
          "text": [
            "\n"
          ]
        },
        {
          "output_type": "stream",
          "name": "stdout",
          "text": [
            "\n",
            "      Epoch    GPU_mem   box_loss   cls_loss   dfl_loss  Instances       Size\n"
          ]
        },
        {
          "output_type": "stream",
          "name": "stderr",
          "text": [
            "     86/100      7.21G     0.7288     0.4474     0.8244         47        768: 100%|██████████| 66/66 [00:28<00:00,  2.34it/s]\n",
            "                 Class     Images  Instances      Box(P          R      mAP50  mAP50-95): 100%|██████████| 9/9 [00:03<00:00,  2.35it/s]"
          ]
        },
        {
          "output_type": "stream",
          "name": "stdout",
          "text": [
            "                   all        283       6687      0.385      0.658       0.43      0.332\n"
          ]
        },
        {
          "output_type": "stream",
          "name": "stderr",
          "text": [
            "\n"
          ]
        },
        {
          "output_type": "stream",
          "name": "stdout",
          "text": [
            "\n",
            "      Epoch    GPU_mem   box_loss   cls_loss   dfl_loss  Instances       Size\n"
          ]
        },
        {
          "output_type": "stream",
          "name": "stderr",
          "text": [
            "     87/100      7.21G     0.7175     0.4334     0.8206         31        768: 100%|██████████| 66/66 [00:28<00:00,  2.34it/s]\n",
            "                 Class     Images  Instances      Box(P          R      mAP50  mAP50-95): 100%|██████████| 9/9 [00:03<00:00,  2.33it/s]"
          ]
        },
        {
          "output_type": "stream",
          "name": "stdout",
          "text": [
            "                   all        283       6687      0.432      0.502      0.418      0.324\n"
          ]
        },
        {
          "output_type": "stream",
          "name": "stderr",
          "text": [
            "\n"
          ]
        },
        {
          "output_type": "stream",
          "name": "stdout",
          "text": [
            "\n",
            "      Epoch    GPU_mem   box_loss   cls_loss   dfl_loss  Instances       Size\n"
          ]
        },
        {
          "output_type": "stream",
          "name": "stderr",
          "text": [
            "     88/100      7.21G     0.7254     0.4428     0.8216         56        768: 100%|██████████| 66/66 [00:28<00:00,  2.30it/s]\n",
            "                 Class     Images  Instances      Box(P          R      mAP50  mAP50-95): 100%|██████████| 9/9 [00:04<00:00,  2.05it/s]"
          ]
        },
        {
          "output_type": "stream",
          "name": "stdout",
          "text": [
            "                   all        283       6687      0.393      0.532        0.4      0.315\n"
          ]
        },
        {
          "output_type": "stream",
          "name": "stderr",
          "text": [
            "\n"
          ]
        },
        {
          "output_type": "stream",
          "name": "stdout",
          "text": [
            "\n",
            "      Epoch    GPU_mem   box_loss   cls_loss   dfl_loss  Instances       Size\n"
          ]
        },
        {
          "output_type": "stream",
          "name": "stderr",
          "text": [
            "     89/100      7.21G     0.7196     0.4311     0.8228         37        768: 100%|██████████| 66/66 [00:28<00:00,  2.34it/s]\n",
            "                 Class     Images  Instances      Box(P          R      mAP50  mAP50-95): 100%|██████████| 9/9 [00:03<00:00,  2.39it/s]"
          ]
        },
        {
          "output_type": "stream",
          "name": "stdout",
          "text": [
            "                   all        283       6687      0.429       0.48      0.429      0.336\n"
          ]
        },
        {
          "output_type": "stream",
          "name": "stderr",
          "text": [
            "\n"
          ]
        },
        {
          "output_type": "stream",
          "name": "stdout",
          "text": [
            "\n",
            "      Epoch    GPU_mem   box_loss   cls_loss   dfl_loss  Instances       Size\n"
          ]
        },
        {
          "output_type": "stream",
          "name": "stderr",
          "text": [
            "     90/100      7.21G     0.7081     0.4364     0.8233         47        768: 100%|██████████| 66/66 [00:29<00:00,  2.25it/s]\n",
            "                 Class     Images  Instances      Box(P          R      mAP50  mAP50-95): 100%|██████████| 9/9 [00:04<00:00,  2.04it/s]"
          ]
        },
        {
          "output_type": "stream",
          "name": "stdout",
          "text": [
            "                   all        283       6687      0.409      0.451      0.424      0.332\n"
          ]
        },
        {
          "output_type": "stream",
          "name": "stderr",
          "text": [
            "\n"
          ]
        },
        {
          "output_type": "stream",
          "name": "stdout",
          "text": [
            "Closing dataloader mosaic\n",
            "\u001b[34m\u001b[1malbumentations: \u001b[0mBlur(p=0.01, blur_limit=(3, 7)), MedianBlur(p=0.01, blur_limit=(3, 7)), ToGray(p=0.01, method='weighted_average', num_output_channels=3), CLAHE(p=0.01, clip_limit=(1.0, 4.0), tile_grid_size=(8, 8))\n",
            "\n",
            "      Epoch    GPU_mem   box_loss   cls_loss   dfl_loss  Instances       Size\n"
          ]
        },
        {
          "output_type": "stream",
          "name": "stderr",
          "text": [
            "     91/100      7.21G     0.6957     0.4113     0.8203         42        768: 100%|██████████| 66/66 [00:28<00:00,  2.31it/s]\n",
            "                 Class     Images  Instances      Box(P          R      mAP50  mAP50-95): 100%|██████████| 9/9 [00:03<00:00,  2.43it/s]"
          ]
        },
        {
          "output_type": "stream",
          "name": "stdout",
          "text": [
            "                   all        283       6687       0.39      0.409       0.39      0.306\n"
          ]
        },
        {
          "output_type": "stream",
          "name": "stderr",
          "text": [
            "\n"
          ]
        },
        {
          "output_type": "stream",
          "name": "stdout",
          "text": [
            "\n",
            "      Epoch    GPU_mem   box_loss   cls_loss   dfl_loss  Instances       Size\n"
          ]
        },
        {
          "output_type": "stream",
          "name": "stderr",
          "text": [
            "     92/100      7.21G     0.6687     0.4015     0.8163         43        768: 100%|██████████| 66/66 [00:26<00:00,  2.47it/s]\n",
            "                 Class     Images  Instances      Box(P          R      mAP50  mAP50-95): 100%|██████████| 9/9 [00:04<00:00,  2.12it/s]"
          ]
        },
        {
          "output_type": "stream",
          "name": "stdout",
          "text": [
            "                   all        283       6687      0.443      0.407      0.425      0.334\n"
          ]
        },
        {
          "output_type": "stream",
          "name": "stderr",
          "text": [
            "\n"
          ]
        },
        {
          "output_type": "stream",
          "name": "stdout",
          "text": [
            "\n",
            "      Epoch    GPU_mem   box_loss   cls_loss   dfl_loss  Instances       Size\n"
          ]
        },
        {
          "output_type": "stream",
          "name": "stderr",
          "text": [
            "     93/100      7.21G     0.6593     0.4003     0.8146         45        768: 100%|██████████| 66/66 [00:26<00:00,  2.46it/s]\n",
            "                 Class     Images  Instances      Box(P          R      mAP50  mAP50-95): 100%|██████████| 9/9 [00:03<00:00,  2.40it/s]"
          ]
        },
        {
          "output_type": "stream",
          "name": "stdout",
          "text": [
            "                   all        283       6687      0.472      0.422      0.417      0.329\n"
          ]
        },
        {
          "output_type": "stream",
          "name": "stderr",
          "text": [
            "\n"
          ]
        },
        {
          "output_type": "stream",
          "name": "stdout",
          "text": [
            "\n",
            "      Epoch    GPU_mem   box_loss   cls_loss   dfl_loss  Instances       Size\n"
          ]
        },
        {
          "output_type": "stream",
          "name": "stderr",
          "text": [
            "     94/100      7.21G     0.6577     0.3958     0.8174         39        768: 100%|██████████| 66/66 [00:26<00:00,  2.46it/s]\n",
            "                 Class     Images  Instances      Box(P          R      mAP50  mAP50-95): 100%|██████████| 9/9 [00:03<00:00,  2.30it/s]"
          ]
        },
        {
          "output_type": "stream",
          "name": "stdout",
          "text": [
            "                   all        283       6687      0.423      0.508      0.426      0.333\n"
          ]
        },
        {
          "output_type": "stream",
          "name": "stderr",
          "text": [
            "\n"
          ]
        },
        {
          "output_type": "stream",
          "name": "stdout",
          "text": [
            "\n",
            "      Epoch    GPU_mem   box_loss   cls_loss   dfl_loss  Instances       Size\n"
          ]
        },
        {
          "output_type": "stream",
          "name": "stderr",
          "text": [
            "     95/100      7.21G     0.6496     0.3899     0.8146         41        768: 100%|██████████| 66/66 [00:26<00:00,  2.45it/s]\n",
            "                 Class     Images  Instances      Box(P          R      mAP50  mAP50-95): 100%|██████████| 9/9 [00:03<00:00,  2.43it/s]"
          ]
        },
        {
          "output_type": "stream",
          "name": "stdout",
          "text": [
            "                   all        283       6687      0.407      0.403      0.425      0.333\n"
          ]
        },
        {
          "output_type": "stream",
          "name": "stderr",
          "text": [
            "\n"
          ]
        },
        {
          "output_type": "stream",
          "name": "stdout",
          "text": [
            "\n",
            "      Epoch    GPU_mem   box_loss   cls_loss   dfl_loss  Instances       Size\n"
          ]
        },
        {
          "output_type": "stream",
          "name": "stderr",
          "text": [
            "     96/100      7.21G     0.6473     0.3941     0.8149         48        768: 100%|██████████| 66/66 [00:26<00:00,  2.47it/s]\n",
            "                 Class     Images  Instances      Box(P          R      mAP50  mAP50-95): 100%|██████████| 9/9 [00:03<00:00,  2.47it/s]"
          ]
        },
        {
          "output_type": "stream",
          "name": "stdout",
          "text": [
            "                   all        283       6687       0.42      0.427      0.424      0.333\n"
          ]
        },
        {
          "output_type": "stream",
          "name": "stderr",
          "text": [
            "\n"
          ]
        },
        {
          "output_type": "stream",
          "name": "stdout",
          "text": [
            "\n",
            "      Epoch    GPU_mem   box_loss   cls_loss   dfl_loss  Instances       Size\n"
          ]
        },
        {
          "output_type": "stream",
          "name": "stderr",
          "text": [
            "     97/100      7.21G     0.6307     0.3795     0.8084         45        768: 100%|██████████| 66/66 [00:26<00:00,  2.48it/s]\n",
            "                 Class     Images  Instances      Box(P          R      mAP50  mAP50-95): 100%|██████████| 9/9 [00:04<00:00,  2.04it/s]"
          ]
        },
        {
          "output_type": "stream",
          "name": "stdout",
          "text": [
            "                   all        283       6687      0.407      0.424      0.417      0.328\n"
          ]
        },
        {
          "output_type": "stream",
          "name": "stderr",
          "text": [
            "\n"
          ]
        },
        {
          "output_type": "stream",
          "name": "stdout",
          "text": [
            "\n",
            "      Epoch    GPU_mem   box_loss   cls_loss   dfl_loss  Instances       Size\n"
          ]
        },
        {
          "output_type": "stream",
          "name": "stderr",
          "text": [
            "     98/100      7.21G     0.6367     0.3873     0.8134         45        768: 100%|██████████| 66/66 [00:26<00:00,  2.47it/s]\n",
            "                 Class     Images  Instances      Box(P          R      mAP50  mAP50-95): 100%|██████████| 9/9 [00:03<00:00,  2.48it/s]"
          ]
        },
        {
          "output_type": "stream",
          "name": "stdout",
          "text": [
            "                   all        283       6687      0.427      0.418      0.411       0.32\n"
          ]
        },
        {
          "output_type": "stream",
          "name": "stderr",
          "text": [
            "\n"
          ]
        },
        {
          "output_type": "stream",
          "name": "stdout",
          "text": [
            "\n",
            "      Epoch    GPU_mem   box_loss   cls_loss   dfl_loss  Instances       Size\n"
          ]
        },
        {
          "output_type": "stream",
          "name": "stderr",
          "text": [
            "     99/100      7.21G     0.6288     0.3759     0.8097         44        768: 100%|██████████| 66/66 [00:26<00:00,  2.48it/s]\n",
            "                 Class     Images  Instances      Box(P          R      mAP50  mAP50-95): 100%|██████████| 9/9 [00:03<00:00,  2.36it/s]"
          ]
        },
        {
          "output_type": "stream",
          "name": "stdout",
          "text": [
            "                   all        283       6687      0.423      0.525      0.407      0.322\n"
          ]
        },
        {
          "output_type": "stream",
          "name": "stderr",
          "text": [
            "\n"
          ]
        },
        {
          "output_type": "stream",
          "name": "stdout",
          "text": [
            "\n",
            "      Epoch    GPU_mem   box_loss   cls_loss   dfl_loss  Instances       Size\n"
          ]
        },
        {
          "output_type": "stream",
          "name": "stderr",
          "text": [
            "    100/100      7.21G     0.6322     0.3808     0.8127         42        768: 100%|██████████| 66/66 [00:26<00:00,  2.49it/s]\n",
            "                 Class     Images  Instances      Box(P          R      mAP50  mAP50-95): 100%|██████████| 9/9 [00:03<00:00,  2.35it/s]"
          ]
        },
        {
          "output_type": "stream",
          "name": "stdout",
          "text": [
            "                   all        283       6687      0.427      0.433      0.407       0.32\n"
          ]
        },
        {
          "output_type": "stream",
          "name": "stderr",
          "text": [
            "\n"
          ]
        },
        {
          "output_type": "stream",
          "name": "stdout",
          "text": [
            "\n",
            "100 epochs completed in 0.920 hours.\n",
            "Optimizer stripped from runs/detect/player_detection4/weights/last.pt, 22.5MB\n",
            "Optimizer stripped from runs/detect/player_detection4/weights/best.pt, 22.5MB\n",
            "\n",
            "Validating runs/detect/player_detection4/weights/best.pt...\n",
            "Ultralytics 8.3.169 🚀 Python-3.11.13 torch-2.6.0+cu124 CUDA:0 (Tesla T4, 15095MiB)\n",
            "Model summary (fused): 72 layers, 11,126,745 parameters, 0 gradients, 28.4 GFLOPs\n"
          ]
        },
        {
          "output_type": "stream",
          "name": "stderr",
          "text": [
            "                 Class     Images  Instances      Box(P          R      mAP50  mAP50-95): 100%|██████████| 9/9 [00:08<00:00,  1.05it/s]\n"
          ]
        },
        {
          "output_type": "stream",
          "name": "stdout",
          "text": [
            "                   all        283       6687       0.53      0.488      0.459      0.351\n",
            "                  Ball        155        156      0.432     0.0245        0.1     0.0357\n",
            "             Something         75         75      0.538      0.682      0.561      0.423\n",
            "                Player        283       6456      0.621      0.758      0.716      0.595\n",
            "Speed: 0.5ms preprocess, 7.2ms inference, 0.0ms loss, 7.5ms postprocess per image\n",
            "Results saved to \u001b[1mruns/detect/player_detection4\u001b[0m\n"
          ]
        },
        {
          "output_type": "execute_result",
          "data": {
            "text/plain": [
              "ultralytics.utils.metrics.DetMetrics object with attributes:\n",
              "\n",
              "ap_class_index: array([0, 1, 2])\n",
              "box: ultralytics.utils.metrics.Metric object\n",
              "confusion_matrix: <ultralytics.utils.metrics.ConfusionMatrix object at 0x78c929a4aad0>\n",
              "curves: ['Precision-Recall(B)', 'F1-Confidence(B)', 'Precision-Confidence(B)', 'Recall-Confidence(B)']\n",
              "curves_results: [[array([          0,    0.001001,    0.002002,    0.003003,    0.004004,    0.005005,    0.006006,    0.007007,    0.008008,    0.009009,     0.01001,    0.011011,    0.012012,    0.013013,    0.014014,    0.015015,    0.016016,    0.017017,    0.018018,    0.019019,     0.02002,    0.021021,    0.022022,    0.023023,\n",
              "          0.024024,    0.025025,    0.026026,    0.027027,    0.028028,    0.029029,     0.03003,    0.031031,    0.032032,    0.033033,    0.034034,    0.035035,    0.036036,    0.037037,    0.038038,    0.039039,     0.04004,    0.041041,    0.042042,    0.043043,    0.044044,    0.045045,    0.046046,    0.047047,\n",
              "          0.048048,    0.049049,     0.05005,    0.051051,    0.052052,    0.053053,    0.054054,    0.055055,    0.056056,    0.057057,    0.058058,    0.059059,     0.06006,    0.061061,    0.062062,    0.063063,    0.064064,    0.065065,    0.066066,    0.067067,    0.068068,    0.069069,     0.07007,    0.071071,\n",
              "          0.072072,    0.073073,    0.074074,    0.075075,    0.076076,    0.077077,    0.078078,    0.079079,     0.08008,    0.081081,    0.082082,    0.083083,    0.084084,    0.085085,    0.086086,    0.087087,    0.088088,    0.089089,     0.09009,    0.091091,    0.092092,    0.093093,    0.094094,    0.095095,\n",
              "          0.096096,    0.097097,    0.098098,    0.099099,      0.1001,      0.1011,      0.1021,      0.1031,      0.1041,     0.10511,     0.10611,     0.10711,     0.10811,     0.10911,     0.11011,     0.11111,     0.11211,     0.11311,     0.11411,     0.11512,     0.11612,     0.11712,     0.11812,     0.11912,\n",
              "           0.12012,     0.12112,     0.12212,     0.12312,     0.12412,     0.12513,     0.12613,     0.12713,     0.12813,     0.12913,     0.13013,     0.13113,     0.13213,     0.13313,     0.13413,     0.13514,     0.13614,     0.13714,     0.13814,     0.13914,     0.14014,     0.14114,     0.14214,     0.14314,\n",
              "           0.14414,     0.14515,     0.14615,     0.14715,     0.14815,     0.14915,     0.15015,     0.15115,     0.15215,     0.15315,     0.15415,     0.15516,     0.15616,     0.15716,     0.15816,     0.15916,     0.16016,     0.16116,     0.16216,     0.16316,     0.16416,     0.16517,     0.16617,     0.16717,\n",
              "           0.16817,     0.16917,     0.17017,     0.17117,     0.17217,     0.17317,     0.17417,     0.17518,     0.17618,     0.17718,     0.17818,     0.17918,     0.18018,     0.18118,     0.18218,     0.18318,     0.18418,     0.18519,     0.18619,     0.18719,     0.18819,     0.18919,     0.19019,     0.19119,\n",
              "           0.19219,     0.19319,     0.19419,      0.1952,      0.1962,      0.1972,      0.1982,      0.1992,      0.2002,      0.2012,      0.2022,      0.2032,      0.2042,     0.20521,     0.20621,     0.20721,     0.20821,     0.20921,     0.21021,     0.21121,     0.21221,     0.21321,     0.21421,     0.21522,\n",
              "           0.21622,     0.21722,     0.21822,     0.21922,     0.22022,     0.22122,     0.22222,     0.22322,     0.22422,     0.22523,     0.22623,     0.22723,     0.22823,     0.22923,     0.23023,     0.23123,     0.23223,     0.23323,     0.23423,     0.23524,     0.23624,     0.23724,     0.23824,     0.23924,\n",
              "           0.24024,     0.24124,     0.24224,     0.24324,     0.24424,     0.24525,     0.24625,     0.24725,     0.24825,     0.24925,     0.25025,     0.25125,     0.25225,     0.25325,     0.25425,     0.25526,     0.25626,     0.25726,     0.25826,     0.25926,     0.26026,     0.26126,     0.26226,     0.26326,\n",
              "           0.26426,     0.26527,     0.26627,     0.26727,     0.26827,     0.26927,     0.27027,     0.27127,     0.27227,     0.27327,     0.27427,     0.27528,     0.27628,     0.27728,     0.27828,     0.27928,     0.28028,     0.28128,     0.28228,     0.28328,     0.28428,     0.28529,     0.28629,     0.28729,\n",
              "           0.28829,     0.28929,     0.29029,     0.29129,     0.29229,     0.29329,     0.29429,      0.2953,      0.2963,      0.2973,      0.2983,      0.2993,      0.3003,      0.3013,      0.3023,      0.3033,      0.3043,     0.30531,     0.30631,     0.30731,     0.30831,     0.30931,     0.31031,     0.31131,\n",
              "           0.31231,     0.31331,     0.31431,     0.31532,     0.31632,     0.31732,     0.31832,     0.31932,     0.32032,     0.32132,     0.32232,     0.32332,     0.32432,     0.32533,     0.32633,     0.32733,     0.32833,     0.32933,     0.33033,     0.33133,     0.33233,     0.33333,     0.33433,     0.33534,\n",
              "           0.33634,     0.33734,     0.33834,     0.33934,     0.34034,     0.34134,     0.34234,     0.34334,     0.34434,     0.34535,     0.34635,     0.34735,     0.34835,     0.34935,     0.35035,     0.35135,     0.35235,     0.35335,     0.35435,     0.35536,     0.35636,     0.35736,     0.35836,     0.35936,\n",
              "           0.36036,     0.36136,     0.36236,     0.36336,     0.36436,     0.36537,     0.36637,     0.36737,     0.36837,     0.36937,     0.37037,     0.37137,     0.37237,     0.37337,     0.37437,     0.37538,     0.37638,     0.37738,     0.37838,     0.37938,     0.38038,     0.38138,     0.38238,     0.38338,\n",
              "           0.38438,     0.38539,     0.38639,     0.38739,     0.38839,     0.38939,     0.39039,     0.39139,     0.39239,     0.39339,     0.39439,      0.3954,      0.3964,      0.3974,      0.3984,      0.3994,      0.4004,      0.4014,      0.4024,      0.4034,      0.4044,     0.40541,     0.40641,     0.40741,\n",
              "           0.40841,     0.40941,     0.41041,     0.41141,     0.41241,     0.41341,     0.41441,     0.41542,     0.41642,     0.41742,     0.41842,     0.41942,     0.42042,     0.42142,     0.42242,     0.42342,     0.42442,     0.42543,     0.42643,     0.42743,     0.42843,     0.42943,     0.43043,     0.43143,\n",
              "           0.43243,     0.43343,     0.43443,     0.43544,     0.43644,     0.43744,     0.43844,     0.43944,     0.44044,     0.44144,     0.44244,     0.44344,     0.44444,     0.44545,     0.44645,     0.44745,     0.44845,     0.44945,     0.45045,     0.45145,     0.45245,     0.45345,     0.45445,     0.45546,\n",
              "           0.45646,     0.45746,     0.45846,     0.45946,     0.46046,     0.46146,     0.46246,     0.46346,     0.46446,     0.46547,     0.46647,     0.46747,     0.46847,     0.46947,     0.47047,     0.47147,     0.47247,     0.47347,     0.47447,     0.47548,     0.47648,     0.47748,     0.47848,     0.47948,\n",
              "           0.48048,     0.48148,     0.48248,     0.48348,     0.48448,     0.48549,     0.48649,     0.48749,     0.48849,     0.48949,     0.49049,     0.49149,     0.49249,     0.49349,     0.49449,      0.4955,      0.4965,      0.4975,      0.4985,      0.4995,      0.5005,      0.5015,      0.5025,      0.5035,\n",
              "            0.5045,     0.50551,     0.50651,     0.50751,     0.50851,     0.50951,     0.51051,     0.51151,     0.51251,     0.51351,     0.51451,     0.51552,     0.51652,     0.51752,     0.51852,     0.51952,     0.52052,     0.52152,     0.52252,     0.52352,     0.52452,     0.52553,     0.52653,     0.52753,\n",
              "           0.52853,     0.52953,     0.53053,     0.53153,     0.53253,     0.53353,     0.53453,     0.53554,     0.53654,     0.53754,     0.53854,     0.53954,     0.54054,     0.54154,     0.54254,     0.54354,     0.54454,     0.54555,     0.54655,     0.54755,     0.54855,     0.54955,     0.55055,     0.55155,\n",
              "           0.55255,     0.55355,     0.55455,     0.55556,     0.55656,     0.55756,     0.55856,     0.55956,     0.56056,     0.56156,     0.56256,     0.56356,     0.56456,     0.56557,     0.56657,     0.56757,     0.56857,     0.56957,     0.57057,     0.57157,     0.57257,     0.57357,     0.57457,     0.57558,\n",
              "           0.57658,     0.57758,     0.57858,     0.57958,     0.58058,     0.58158,     0.58258,     0.58358,     0.58458,     0.58559,     0.58659,     0.58759,     0.58859,     0.58959,     0.59059,     0.59159,     0.59259,     0.59359,     0.59459,      0.5956,      0.5966,      0.5976,      0.5986,      0.5996,\n",
              "            0.6006,      0.6016,      0.6026,      0.6036,      0.6046,     0.60561,     0.60661,     0.60761,     0.60861,     0.60961,     0.61061,     0.61161,     0.61261,     0.61361,     0.61461,     0.61562,     0.61662,     0.61762,     0.61862,     0.61962,     0.62062,     0.62162,     0.62262,     0.62362,\n",
              "           0.62462,     0.62563,     0.62663,     0.62763,     0.62863,     0.62963,     0.63063,     0.63163,     0.63263,     0.63363,     0.63463,     0.63564,     0.63664,     0.63764,     0.63864,     0.63964,     0.64064,     0.64164,     0.64264,     0.64364,     0.64464,     0.64565,     0.64665,     0.64765,\n",
              "           0.64865,     0.64965,     0.65065,     0.65165,     0.65265,     0.65365,     0.65465,     0.65566,     0.65666,     0.65766,     0.65866,     0.65966,     0.66066,     0.66166,     0.66266,     0.66366,     0.66466,     0.66567,     0.66667,     0.66767,     0.66867,     0.66967,     0.67067,     0.67167,\n",
              "           0.67267,     0.67367,     0.67467,     0.67568,     0.67668,     0.67768,     0.67868,     0.67968,     0.68068,     0.68168,     0.68268,     0.68368,     0.68468,     0.68569,     0.68669,     0.68769,     0.68869,     0.68969,     0.69069,     0.69169,     0.69269,     0.69369,     0.69469,      0.6957,\n",
              "            0.6967,      0.6977,      0.6987,      0.6997,      0.7007,      0.7017,      0.7027,      0.7037,      0.7047,     0.70571,     0.70671,     0.70771,     0.70871,     0.70971,     0.71071,     0.71171,     0.71271,     0.71371,     0.71471,     0.71572,     0.71672,     0.71772,     0.71872,     0.71972,\n",
              "           0.72072,     0.72172,     0.72272,     0.72372,     0.72472,     0.72573,     0.72673,     0.72773,     0.72873,     0.72973,     0.73073,     0.73173,     0.73273,     0.73373,     0.73473,     0.73574,     0.73674,     0.73774,     0.73874,     0.73974,     0.74074,     0.74174,     0.74274,     0.74374,\n",
              "           0.74474,     0.74575,     0.74675,     0.74775,     0.74875,     0.74975,     0.75075,     0.75175,     0.75275,     0.75375,     0.75475,     0.75576,     0.75676,     0.75776,     0.75876,     0.75976,     0.76076,     0.76176,     0.76276,     0.76376,     0.76476,     0.76577,     0.76677,     0.76777,\n",
              "           0.76877,     0.76977,     0.77077,     0.77177,     0.77277,     0.77377,     0.77477,     0.77578,     0.77678,     0.77778,     0.77878,     0.77978,     0.78078,     0.78178,     0.78278,     0.78378,     0.78478,     0.78579,     0.78679,     0.78779,     0.78879,     0.78979,     0.79079,     0.79179,\n",
              "           0.79279,     0.79379,     0.79479,      0.7958,      0.7968,      0.7978,      0.7988,      0.7998,      0.8008,      0.8018,      0.8028,      0.8038,      0.8048,     0.80581,     0.80681,     0.80781,     0.80881,     0.80981,     0.81081,     0.81181,     0.81281,     0.81381,     0.81481,     0.81582,\n",
              "           0.81682,     0.81782,     0.81882,     0.81982,     0.82082,     0.82182,     0.82282,     0.82382,     0.82482,     0.82583,     0.82683,     0.82783,     0.82883,     0.82983,     0.83083,     0.83183,     0.83283,     0.83383,     0.83483,     0.83584,     0.83684,     0.83784,     0.83884,     0.83984,\n",
              "           0.84084,     0.84184,     0.84284,     0.84384,     0.84484,     0.84585,     0.84685,     0.84785,     0.84885,     0.84985,     0.85085,     0.85185,     0.85285,     0.85385,     0.85485,     0.85586,     0.85686,     0.85786,     0.85886,     0.85986,     0.86086,     0.86186,     0.86286,     0.86386,\n",
              "           0.86486,     0.86587,     0.86687,     0.86787,     0.86887,     0.86987,     0.87087,     0.87187,     0.87287,     0.87387,     0.87487,     0.87588,     0.87688,     0.87788,     0.87888,     0.87988,     0.88088,     0.88188,     0.88288,     0.88388,     0.88488,     0.88589,     0.88689,     0.88789,\n",
              "           0.88889,     0.88989,     0.89089,     0.89189,     0.89289,     0.89389,     0.89489,      0.8959,      0.8969,      0.8979,      0.8989,      0.8999,      0.9009,      0.9019,      0.9029,      0.9039,      0.9049,     0.90591,     0.90691,     0.90791,     0.90891,     0.90991,     0.91091,     0.91191,\n",
              "           0.91291,     0.91391,     0.91491,     0.91592,     0.91692,     0.91792,     0.91892,     0.91992,     0.92092,     0.92192,     0.92292,     0.92392,     0.92492,     0.92593,     0.92693,     0.92793,     0.92893,     0.92993,     0.93093,     0.93193,     0.93293,     0.93393,     0.93493,     0.93594,\n",
              "           0.93694,     0.93794,     0.93894,     0.93994,     0.94094,     0.94194,     0.94294,     0.94394,     0.94494,     0.94595,     0.94695,     0.94795,     0.94895,     0.94995,     0.95095,     0.95195,     0.95295,     0.95395,     0.95495,     0.95596,     0.95696,     0.95796,     0.95896,     0.95996,\n",
              "           0.96096,     0.96196,     0.96296,     0.96396,     0.96496,     0.96597,     0.96697,     0.96797,     0.96897,     0.96997,     0.97097,     0.97197,     0.97297,     0.97397,     0.97497,     0.97598,     0.97698,     0.97798,     0.97898,     0.97998,     0.98098,     0.98198,     0.98298,     0.98398,\n",
              "           0.98498,     0.98599,     0.98699,     0.98799,     0.98899,     0.98999,     0.99099,     0.99199,     0.99299,     0.99399,     0.99499,       0.996,       0.997,       0.998,       0.999,           1]), array([[        0.5,         0.5,         0.5, ...,  0.00012696,  6.3478e-05,           0],\n",
              "       [    0.59821,     0.59821,     0.59821, ...,   0.0053489,   0.0026744,           0],\n",
              "       [       0.96,        0.96,        0.96, ...,   0.0047469,   0.0023734,           0]]), 'Recall', 'Precision'], [array([          0,    0.001001,    0.002002,    0.003003,    0.004004,    0.005005,    0.006006,    0.007007,    0.008008,    0.009009,     0.01001,    0.011011,    0.012012,    0.013013,    0.014014,    0.015015,    0.016016,    0.017017,    0.018018,    0.019019,     0.02002,    0.021021,    0.022022,    0.023023,\n",
              "          0.024024,    0.025025,    0.026026,    0.027027,    0.028028,    0.029029,     0.03003,    0.031031,    0.032032,    0.033033,    0.034034,    0.035035,    0.036036,    0.037037,    0.038038,    0.039039,     0.04004,    0.041041,    0.042042,    0.043043,    0.044044,    0.045045,    0.046046,    0.047047,\n",
              "          0.048048,    0.049049,     0.05005,    0.051051,    0.052052,    0.053053,    0.054054,    0.055055,    0.056056,    0.057057,    0.058058,    0.059059,     0.06006,    0.061061,    0.062062,    0.063063,    0.064064,    0.065065,    0.066066,    0.067067,    0.068068,    0.069069,     0.07007,    0.071071,\n",
              "          0.072072,    0.073073,    0.074074,    0.075075,    0.076076,    0.077077,    0.078078,    0.079079,     0.08008,    0.081081,    0.082082,    0.083083,    0.084084,    0.085085,    0.086086,    0.087087,    0.088088,    0.089089,     0.09009,    0.091091,    0.092092,    0.093093,    0.094094,    0.095095,\n",
              "          0.096096,    0.097097,    0.098098,    0.099099,      0.1001,      0.1011,      0.1021,      0.1031,      0.1041,     0.10511,     0.10611,     0.10711,     0.10811,     0.10911,     0.11011,     0.11111,     0.11211,     0.11311,     0.11411,     0.11512,     0.11612,     0.11712,     0.11812,     0.11912,\n",
              "           0.12012,     0.12112,     0.12212,     0.12312,     0.12412,     0.12513,     0.12613,     0.12713,     0.12813,     0.12913,     0.13013,     0.13113,     0.13213,     0.13313,     0.13413,     0.13514,     0.13614,     0.13714,     0.13814,     0.13914,     0.14014,     0.14114,     0.14214,     0.14314,\n",
              "           0.14414,     0.14515,     0.14615,     0.14715,     0.14815,     0.14915,     0.15015,     0.15115,     0.15215,     0.15315,     0.15415,     0.15516,     0.15616,     0.15716,     0.15816,     0.15916,     0.16016,     0.16116,     0.16216,     0.16316,     0.16416,     0.16517,     0.16617,     0.16717,\n",
              "           0.16817,     0.16917,     0.17017,     0.17117,     0.17217,     0.17317,     0.17417,     0.17518,     0.17618,     0.17718,     0.17818,     0.17918,     0.18018,     0.18118,     0.18218,     0.18318,     0.18418,     0.18519,     0.18619,     0.18719,     0.18819,     0.18919,     0.19019,     0.19119,\n",
              "           0.19219,     0.19319,     0.19419,      0.1952,      0.1962,      0.1972,      0.1982,      0.1992,      0.2002,      0.2012,      0.2022,      0.2032,      0.2042,     0.20521,     0.20621,     0.20721,     0.20821,     0.20921,     0.21021,     0.21121,     0.21221,     0.21321,     0.21421,     0.21522,\n",
              "           0.21622,     0.21722,     0.21822,     0.21922,     0.22022,     0.22122,     0.22222,     0.22322,     0.22422,     0.22523,     0.22623,     0.22723,     0.22823,     0.22923,     0.23023,     0.23123,     0.23223,     0.23323,     0.23423,     0.23524,     0.23624,     0.23724,     0.23824,     0.23924,\n",
              "           0.24024,     0.24124,     0.24224,     0.24324,     0.24424,     0.24525,     0.24625,     0.24725,     0.24825,     0.24925,     0.25025,     0.25125,     0.25225,     0.25325,     0.25425,     0.25526,     0.25626,     0.25726,     0.25826,     0.25926,     0.26026,     0.26126,     0.26226,     0.26326,\n",
              "           0.26426,     0.26527,     0.26627,     0.26727,     0.26827,     0.26927,     0.27027,     0.27127,     0.27227,     0.27327,     0.27427,     0.27528,     0.27628,     0.27728,     0.27828,     0.27928,     0.28028,     0.28128,     0.28228,     0.28328,     0.28428,     0.28529,     0.28629,     0.28729,\n",
              "           0.28829,     0.28929,     0.29029,     0.29129,     0.29229,     0.29329,     0.29429,      0.2953,      0.2963,      0.2973,      0.2983,      0.2993,      0.3003,      0.3013,      0.3023,      0.3033,      0.3043,     0.30531,     0.30631,     0.30731,     0.30831,     0.30931,     0.31031,     0.31131,\n",
              "           0.31231,     0.31331,     0.31431,     0.31532,     0.31632,     0.31732,     0.31832,     0.31932,     0.32032,     0.32132,     0.32232,     0.32332,     0.32432,     0.32533,     0.32633,     0.32733,     0.32833,     0.32933,     0.33033,     0.33133,     0.33233,     0.33333,     0.33433,     0.33534,\n",
              "           0.33634,     0.33734,     0.33834,     0.33934,     0.34034,     0.34134,     0.34234,     0.34334,     0.34434,     0.34535,     0.34635,     0.34735,     0.34835,     0.34935,     0.35035,     0.35135,     0.35235,     0.35335,     0.35435,     0.35536,     0.35636,     0.35736,     0.35836,     0.35936,\n",
              "           0.36036,     0.36136,     0.36236,     0.36336,     0.36436,     0.36537,     0.36637,     0.36737,     0.36837,     0.36937,     0.37037,     0.37137,     0.37237,     0.37337,     0.37437,     0.37538,     0.37638,     0.37738,     0.37838,     0.37938,     0.38038,     0.38138,     0.38238,     0.38338,\n",
              "           0.38438,     0.38539,     0.38639,     0.38739,     0.38839,     0.38939,     0.39039,     0.39139,     0.39239,     0.39339,     0.39439,      0.3954,      0.3964,      0.3974,      0.3984,      0.3994,      0.4004,      0.4014,      0.4024,      0.4034,      0.4044,     0.40541,     0.40641,     0.40741,\n",
              "           0.40841,     0.40941,     0.41041,     0.41141,     0.41241,     0.41341,     0.41441,     0.41542,     0.41642,     0.41742,     0.41842,     0.41942,     0.42042,     0.42142,     0.42242,     0.42342,     0.42442,     0.42543,     0.42643,     0.42743,     0.42843,     0.42943,     0.43043,     0.43143,\n",
              "           0.43243,     0.43343,     0.43443,     0.43544,     0.43644,     0.43744,     0.43844,     0.43944,     0.44044,     0.44144,     0.44244,     0.44344,     0.44444,     0.44545,     0.44645,     0.44745,     0.44845,     0.44945,     0.45045,     0.45145,     0.45245,     0.45345,     0.45445,     0.45546,\n",
              "           0.45646,     0.45746,     0.45846,     0.45946,     0.46046,     0.46146,     0.46246,     0.46346,     0.46446,     0.46547,     0.46647,     0.46747,     0.46847,     0.46947,     0.47047,     0.47147,     0.47247,     0.47347,     0.47447,     0.47548,     0.47648,     0.47748,     0.47848,     0.47948,\n",
              "           0.48048,     0.48148,     0.48248,     0.48348,     0.48448,     0.48549,     0.48649,     0.48749,     0.48849,     0.48949,     0.49049,     0.49149,     0.49249,     0.49349,     0.49449,      0.4955,      0.4965,      0.4975,      0.4985,      0.4995,      0.5005,      0.5015,      0.5025,      0.5035,\n",
              "            0.5045,     0.50551,     0.50651,     0.50751,     0.50851,     0.50951,     0.51051,     0.51151,     0.51251,     0.51351,     0.51451,     0.51552,     0.51652,     0.51752,     0.51852,     0.51952,     0.52052,     0.52152,     0.52252,     0.52352,     0.52452,     0.52553,     0.52653,     0.52753,\n",
              "           0.52853,     0.52953,     0.53053,     0.53153,     0.53253,     0.53353,     0.53453,     0.53554,     0.53654,     0.53754,     0.53854,     0.53954,     0.54054,     0.54154,     0.54254,     0.54354,     0.54454,     0.54555,     0.54655,     0.54755,     0.54855,     0.54955,     0.55055,     0.55155,\n",
              "           0.55255,     0.55355,     0.55455,     0.55556,     0.55656,     0.55756,     0.55856,     0.55956,     0.56056,     0.56156,     0.56256,     0.56356,     0.56456,     0.56557,     0.56657,     0.56757,     0.56857,     0.56957,     0.57057,     0.57157,     0.57257,     0.57357,     0.57457,     0.57558,\n",
              "           0.57658,     0.57758,     0.57858,     0.57958,     0.58058,     0.58158,     0.58258,     0.58358,     0.58458,     0.58559,     0.58659,     0.58759,     0.58859,     0.58959,     0.59059,     0.59159,     0.59259,     0.59359,     0.59459,      0.5956,      0.5966,      0.5976,      0.5986,      0.5996,\n",
              "            0.6006,      0.6016,      0.6026,      0.6036,      0.6046,     0.60561,     0.60661,     0.60761,     0.60861,     0.60961,     0.61061,     0.61161,     0.61261,     0.61361,     0.61461,     0.61562,     0.61662,     0.61762,     0.61862,     0.61962,     0.62062,     0.62162,     0.62262,     0.62362,\n",
              "           0.62462,     0.62563,     0.62663,     0.62763,     0.62863,     0.62963,     0.63063,     0.63163,     0.63263,     0.63363,     0.63463,     0.63564,     0.63664,     0.63764,     0.63864,     0.63964,     0.64064,     0.64164,     0.64264,     0.64364,     0.64464,     0.64565,     0.64665,     0.64765,\n",
              "           0.64865,     0.64965,     0.65065,     0.65165,     0.65265,     0.65365,     0.65465,     0.65566,     0.65666,     0.65766,     0.65866,     0.65966,     0.66066,     0.66166,     0.66266,     0.66366,     0.66466,     0.66567,     0.66667,     0.66767,     0.66867,     0.66967,     0.67067,     0.67167,\n",
              "           0.67267,     0.67367,     0.67467,     0.67568,     0.67668,     0.67768,     0.67868,     0.67968,     0.68068,     0.68168,     0.68268,     0.68368,     0.68468,     0.68569,     0.68669,     0.68769,     0.68869,     0.68969,     0.69069,     0.69169,     0.69269,     0.69369,     0.69469,      0.6957,\n",
              "            0.6967,      0.6977,      0.6987,      0.6997,      0.7007,      0.7017,      0.7027,      0.7037,      0.7047,     0.70571,     0.70671,     0.70771,     0.70871,     0.70971,     0.71071,     0.71171,     0.71271,     0.71371,     0.71471,     0.71572,     0.71672,     0.71772,     0.71872,     0.71972,\n",
              "           0.72072,     0.72172,     0.72272,     0.72372,     0.72472,     0.72573,     0.72673,     0.72773,     0.72873,     0.72973,     0.73073,     0.73173,     0.73273,     0.73373,     0.73473,     0.73574,     0.73674,     0.73774,     0.73874,     0.73974,     0.74074,     0.74174,     0.74274,     0.74374,\n",
              "           0.74474,     0.74575,     0.74675,     0.74775,     0.74875,     0.74975,     0.75075,     0.75175,     0.75275,     0.75375,     0.75475,     0.75576,     0.75676,     0.75776,     0.75876,     0.75976,     0.76076,     0.76176,     0.76276,     0.76376,     0.76476,     0.76577,     0.76677,     0.76777,\n",
              "           0.76877,     0.76977,     0.77077,     0.77177,     0.77277,     0.77377,     0.77477,     0.77578,     0.77678,     0.77778,     0.77878,     0.77978,     0.78078,     0.78178,     0.78278,     0.78378,     0.78478,     0.78579,     0.78679,     0.78779,     0.78879,     0.78979,     0.79079,     0.79179,\n",
              "           0.79279,     0.79379,     0.79479,      0.7958,      0.7968,      0.7978,      0.7988,      0.7998,      0.8008,      0.8018,      0.8028,      0.8038,      0.8048,     0.80581,     0.80681,     0.80781,     0.80881,     0.80981,     0.81081,     0.81181,     0.81281,     0.81381,     0.81481,     0.81582,\n",
              "           0.81682,     0.81782,     0.81882,     0.81982,     0.82082,     0.82182,     0.82282,     0.82382,     0.82482,     0.82583,     0.82683,     0.82783,     0.82883,     0.82983,     0.83083,     0.83183,     0.83283,     0.83383,     0.83483,     0.83584,     0.83684,     0.83784,     0.83884,     0.83984,\n",
              "           0.84084,     0.84184,     0.84284,     0.84384,     0.84484,     0.84585,     0.84685,     0.84785,     0.84885,     0.84985,     0.85085,     0.85185,     0.85285,     0.85385,     0.85485,     0.85586,     0.85686,     0.85786,     0.85886,     0.85986,     0.86086,     0.86186,     0.86286,     0.86386,\n",
              "           0.86486,     0.86587,     0.86687,     0.86787,     0.86887,     0.86987,     0.87087,     0.87187,     0.87287,     0.87387,     0.87487,     0.87588,     0.87688,     0.87788,     0.87888,     0.87988,     0.88088,     0.88188,     0.88288,     0.88388,     0.88488,     0.88589,     0.88689,     0.88789,\n",
              "           0.88889,     0.88989,     0.89089,     0.89189,     0.89289,     0.89389,     0.89489,      0.8959,      0.8969,      0.8979,      0.8989,      0.8999,      0.9009,      0.9019,      0.9029,      0.9039,      0.9049,     0.90591,     0.90691,     0.90791,     0.90891,     0.90991,     0.91091,     0.91191,\n",
              "           0.91291,     0.91391,     0.91491,     0.91592,     0.91692,     0.91792,     0.91892,     0.91992,     0.92092,     0.92192,     0.92292,     0.92392,     0.92492,     0.92593,     0.92693,     0.92793,     0.92893,     0.92993,     0.93093,     0.93193,     0.93293,     0.93393,     0.93493,     0.93594,\n",
              "           0.93694,     0.93794,     0.93894,     0.93994,     0.94094,     0.94194,     0.94294,     0.94394,     0.94494,     0.94595,     0.94695,     0.94795,     0.94895,     0.94995,     0.95095,     0.95195,     0.95295,     0.95395,     0.95495,     0.95596,     0.95696,     0.95796,     0.95896,     0.95996,\n",
              "           0.96096,     0.96196,     0.96296,     0.96396,     0.96496,     0.96597,     0.96697,     0.96797,     0.96897,     0.96997,     0.97097,     0.97197,     0.97297,     0.97397,     0.97497,     0.97598,     0.97698,     0.97798,     0.97898,     0.97998,     0.98098,     0.98198,     0.98298,     0.98398,\n",
              "           0.98498,     0.98599,     0.98699,     0.98799,     0.98899,     0.98999,     0.99099,     0.99199,     0.99299,     0.99399,     0.99499,       0.996,       0.997,       0.998,       0.999,           1]), array([[   0.067347,    0.067347,     0.10661, ...,           0,           0,           0],\n",
              "       [    0.29915,     0.29915,     0.43271, ...,           0,           0,           0],\n",
              "       [     0.5182,      0.5182,     0.56233, ...,           0,           0,           0]]), 'Confidence', 'F1'], [array([          0,    0.001001,    0.002002,    0.003003,    0.004004,    0.005005,    0.006006,    0.007007,    0.008008,    0.009009,     0.01001,    0.011011,    0.012012,    0.013013,    0.014014,    0.015015,    0.016016,    0.017017,    0.018018,    0.019019,     0.02002,    0.021021,    0.022022,    0.023023,\n",
              "          0.024024,    0.025025,    0.026026,    0.027027,    0.028028,    0.029029,     0.03003,    0.031031,    0.032032,    0.033033,    0.034034,    0.035035,    0.036036,    0.037037,    0.038038,    0.039039,     0.04004,    0.041041,    0.042042,    0.043043,    0.044044,    0.045045,    0.046046,    0.047047,\n",
              "          0.048048,    0.049049,     0.05005,    0.051051,    0.052052,    0.053053,    0.054054,    0.055055,    0.056056,    0.057057,    0.058058,    0.059059,     0.06006,    0.061061,    0.062062,    0.063063,    0.064064,    0.065065,    0.066066,    0.067067,    0.068068,    0.069069,     0.07007,    0.071071,\n",
              "          0.072072,    0.073073,    0.074074,    0.075075,    0.076076,    0.077077,    0.078078,    0.079079,     0.08008,    0.081081,    0.082082,    0.083083,    0.084084,    0.085085,    0.086086,    0.087087,    0.088088,    0.089089,     0.09009,    0.091091,    0.092092,    0.093093,    0.094094,    0.095095,\n",
              "          0.096096,    0.097097,    0.098098,    0.099099,      0.1001,      0.1011,      0.1021,      0.1031,      0.1041,     0.10511,     0.10611,     0.10711,     0.10811,     0.10911,     0.11011,     0.11111,     0.11211,     0.11311,     0.11411,     0.11512,     0.11612,     0.11712,     0.11812,     0.11912,\n",
              "           0.12012,     0.12112,     0.12212,     0.12312,     0.12412,     0.12513,     0.12613,     0.12713,     0.12813,     0.12913,     0.13013,     0.13113,     0.13213,     0.13313,     0.13413,     0.13514,     0.13614,     0.13714,     0.13814,     0.13914,     0.14014,     0.14114,     0.14214,     0.14314,\n",
              "           0.14414,     0.14515,     0.14615,     0.14715,     0.14815,     0.14915,     0.15015,     0.15115,     0.15215,     0.15315,     0.15415,     0.15516,     0.15616,     0.15716,     0.15816,     0.15916,     0.16016,     0.16116,     0.16216,     0.16316,     0.16416,     0.16517,     0.16617,     0.16717,\n",
              "           0.16817,     0.16917,     0.17017,     0.17117,     0.17217,     0.17317,     0.17417,     0.17518,     0.17618,     0.17718,     0.17818,     0.17918,     0.18018,     0.18118,     0.18218,     0.18318,     0.18418,     0.18519,     0.18619,     0.18719,     0.18819,     0.18919,     0.19019,     0.19119,\n",
              "           0.19219,     0.19319,     0.19419,      0.1952,      0.1962,      0.1972,      0.1982,      0.1992,      0.2002,      0.2012,      0.2022,      0.2032,      0.2042,     0.20521,     0.20621,     0.20721,     0.20821,     0.20921,     0.21021,     0.21121,     0.21221,     0.21321,     0.21421,     0.21522,\n",
              "           0.21622,     0.21722,     0.21822,     0.21922,     0.22022,     0.22122,     0.22222,     0.22322,     0.22422,     0.22523,     0.22623,     0.22723,     0.22823,     0.22923,     0.23023,     0.23123,     0.23223,     0.23323,     0.23423,     0.23524,     0.23624,     0.23724,     0.23824,     0.23924,\n",
              "           0.24024,     0.24124,     0.24224,     0.24324,     0.24424,     0.24525,     0.24625,     0.24725,     0.24825,     0.24925,     0.25025,     0.25125,     0.25225,     0.25325,     0.25425,     0.25526,     0.25626,     0.25726,     0.25826,     0.25926,     0.26026,     0.26126,     0.26226,     0.26326,\n",
              "           0.26426,     0.26527,     0.26627,     0.26727,     0.26827,     0.26927,     0.27027,     0.27127,     0.27227,     0.27327,     0.27427,     0.27528,     0.27628,     0.27728,     0.27828,     0.27928,     0.28028,     0.28128,     0.28228,     0.28328,     0.28428,     0.28529,     0.28629,     0.28729,\n",
              "           0.28829,     0.28929,     0.29029,     0.29129,     0.29229,     0.29329,     0.29429,      0.2953,      0.2963,      0.2973,      0.2983,      0.2993,      0.3003,      0.3013,      0.3023,      0.3033,      0.3043,     0.30531,     0.30631,     0.30731,     0.30831,     0.30931,     0.31031,     0.31131,\n",
              "           0.31231,     0.31331,     0.31431,     0.31532,     0.31632,     0.31732,     0.31832,     0.31932,     0.32032,     0.32132,     0.32232,     0.32332,     0.32432,     0.32533,     0.32633,     0.32733,     0.32833,     0.32933,     0.33033,     0.33133,     0.33233,     0.33333,     0.33433,     0.33534,\n",
              "           0.33634,     0.33734,     0.33834,     0.33934,     0.34034,     0.34134,     0.34234,     0.34334,     0.34434,     0.34535,     0.34635,     0.34735,     0.34835,     0.34935,     0.35035,     0.35135,     0.35235,     0.35335,     0.35435,     0.35536,     0.35636,     0.35736,     0.35836,     0.35936,\n",
              "           0.36036,     0.36136,     0.36236,     0.36336,     0.36436,     0.36537,     0.36637,     0.36737,     0.36837,     0.36937,     0.37037,     0.37137,     0.37237,     0.37337,     0.37437,     0.37538,     0.37638,     0.37738,     0.37838,     0.37938,     0.38038,     0.38138,     0.38238,     0.38338,\n",
              "           0.38438,     0.38539,     0.38639,     0.38739,     0.38839,     0.38939,     0.39039,     0.39139,     0.39239,     0.39339,     0.39439,      0.3954,      0.3964,      0.3974,      0.3984,      0.3994,      0.4004,      0.4014,      0.4024,      0.4034,      0.4044,     0.40541,     0.40641,     0.40741,\n",
              "           0.40841,     0.40941,     0.41041,     0.41141,     0.41241,     0.41341,     0.41441,     0.41542,     0.41642,     0.41742,     0.41842,     0.41942,     0.42042,     0.42142,     0.42242,     0.42342,     0.42442,     0.42543,     0.42643,     0.42743,     0.42843,     0.42943,     0.43043,     0.43143,\n",
              "           0.43243,     0.43343,     0.43443,     0.43544,     0.43644,     0.43744,     0.43844,     0.43944,     0.44044,     0.44144,     0.44244,     0.44344,     0.44444,     0.44545,     0.44645,     0.44745,     0.44845,     0.44945,     0.45045,     0.45145,     0.45245,     0.45345,     0.45445,     0.45546,\n",
              "           0.45646,     0.45746,     0.45846,     0.45946,     0.46046,     0.46146,     0.46246,     0.46346,     0.46446,     0.46547,     0.46647,     0.46747,     0.46847,     0.46947,     0.47047,     0.47147,     0.47247,     0.47347,     0.47447,     0.47548,     0.47648,     0.47748,     0.47848,     0.47948,\n",
              "           0.48048,     0.48148,     0.48248,     0.48348,     0.48448,     0.48549,     0.48649,     0.48749,     0.48849,     0.48949,     0.49049,     0.49149,     0.49249,     0.49349,     0.49449,      0.4955,      0.4965,      0.4975,      0.4985,      0.4995,      0.5005,      0.5015,      0.5025,      0.5035,\n",
              "            0.5045,     0.50551,     0.50651,     0.50751,     0.50851,     0.50951,     0.51051,     0.51151,     0.51251,     0.51351,     0.51451,     0.51552,     0.51652,     0.51752,     0.51852,     0.51952,     0.52052,     0.52152,     0.52252,     0.52352,     0.52452,     0.52553,     0.52653,     0.52753,\n",
              "           0.52853,     0.52953,     0.53053,     0.53153,     0.53253,     0.53353,     0.53453,     0.53554,     0.53654,     0.53754,     0.53854,     0.53954,     0.54054,     0.54154,     0.54254,     0.54354,     0.54454,     0.54555,     0.54655,     0.54755,     0.54855,     0.54955,     0.55055,     0.55155,\n",
              "           0.55255,     0.55355,     0.55455,     0.55556,     0.55656,     0.55756,     0.55856,     0.55956,     0.56056,     0.56156,     0.56256,     0.56356,     0.56456,     0.56557,     0.56657,     0.56757,     0.56857,     0.56957,     0.57057,     0.57157,     0.57257,     0.57357,     0.57457,     0.57558,\n",
              "           0.57658,     0.57758,     0.57858,     0.57958,     0.58058,     0.58158,     0.58258,     0.58358,     0.58458,     0.58559,     0.58659,     0.58759,     0.58859,     0.58959,     0.59059,     0.59159,     0.59259,     0.59359,     0.59459,      0.5956,      0.5966,      0.5976,      0.5986,      0.5996,\n",
              "            0.6006,      0.6016,      0.6026,      0.6036,      0.6046,     0.60561,     0.60661,     0.60761,     0.60861,     0.60961,     0.61061,     0.61161,     0.61261,     0.61361,     0.61461,     0.61562,     0.61662,     0.61762,     0.61862,     0.61962,     0.62062,     0.62162,     0.62262,     0.62362,\n",
              "           0.62462,     0.62563,     0.62663,     0.62763,     0.62863,     0.62963,     0.63063,     0.63163,     0.63263,     0.63363,     0.63463,     0.63564,     0.63664,     0.63764,     0.63864,     0.63964,     0.64064,     0.64164,     0.64264,     0.64364,     0.64464,     0.64565,     0.64665,     0.64765,\n",
              "           0.64865,     0.64965,     0.65065,     0.65165,     0.65265,     0.65365,     0.65465,     0.65566,     0.65666,     0.65766,     0.65866,     0.65966,     0.66066,     0.66166,     0.66266,     0.66366,     0.66466,     0.66567,     0.66667,     0.66767,     0.66867,     0.66967,     0.67067,     0.67167,\n",
              "           0.67267,     0.67367,     0.67467,     0.67568,     0.67668,     0.67768,     0.67868,     0.67968,     0.68068,     0.68168,     0.68268,     0.68368,     0.68468,     0.68569,     0.68669,     0.68769,     0.68869,     0.68969,     0.69069,     0.69169,     0.69269,     0.69369,     0.69469,      0.6957,\n",
              "            0.6967,      0.6977,      0.6987,      0.6997,      0.7007,      0.7017,      0.7027,      0.7037,      0.7047,     0.70571,     0.70671,     0.70771,     0.70871,     0.70971,     0.71071,     0.71171,     0.71271,     0.71371,     0.71471,     0.71572,     0.71672,     0.71772,     0.71872,     0.71972,\n",
              "           0.72072,     0.72172,     0.72272,     0.72372,     0.72472,     0.72573,     0.72673,     0.72773,     0.72873,     0.72973,     0.73073,     0.73173,     0.73273,     0.73373,     0.73473,     0.73574,     0.73674,     0.73774,     0.73874,     0.73974,     0.74074,     0.74174,     0.74274,     0.74374,\n",
              "           0.74474,     0.74575,     0.74675,     0.74775,     0.74875,     0.74975,     0.75075,     0.75175,     0.75275,     0.75375,     0.75475,     0.75576,     0.75676,     0.75776,     0.75876,     0.75976,     0.76076,     0.76176,     0.76276,     0.76376,     0.76476,     0.76577,     0.76677,     0.76777,\n",
              "           0.76877,     0.76977,     0.77077,     0.77177,     0.77277,     0.77377,     0.77477,     0.77578,     0.77678,     0.77778,     0.77878,     0.77978,     0.78078,     0.78178,     0.78278,     0.78378,     0.78478,     0.78579,     0.78679,     0.78779,     0.78879,     0.78979,     0.79079,     0.79179,\n",
              "           0.79279,     0.79379,     0.79479,      0.7958,      0.7968,      0.7978,      0.7988,      0.7998,      0.8008,      0.8018,      0.8028,      0.8038,      0.8048,     0.80581,     0.80681,     0.80781,     0.80881,     0.80981,     0.81081,     0.81181,     0.81281,     0.81381,     0.81481,     0.81582,\n",
              "           0.81682,     0.81782,     0.81882,     0.81982,     0.82082,     0.82182,     0.82282,     0.82382,     0.82482,     0.82583,     0.82683,     0.82783,     0.82883,     0.82983,     0.83083,     0.83183,     0.83283,     0.83383,     0.83483,     0.83584,     0.83684,     0.83784,     0.83884,     0.83984,\n",
              "           0.84084,     0.84184,     0.84284,     0.84384,     0.84484,     0.84585,     0.84685,     0.84785,     0.84885,     0.84985,     0.85085,     0.85185,     0.85285,     0.85385,     0.85485,     0.85586,     0.85686,     0.85786,     0.85886,     0.85986,     0.86086,     0.86186,     0.86286,     0.86386,\n",
              "           0.86486,     0.86587,     0.86687,     0.86787,     0.86887,     0.86987,     0.87087,     0.87187,     0.87287,     0.87387,     0.87487,     0.87588,     0.87688,     0.87788,     0.87888,     0.87988,     0.88088,     0.88188,     0.88288,     0.88388,     0.88488,     0.88589,     0.88689,     0.88789,\n",
              "           0.88889,     0.88989,     0.89089,     0.89189,     0.89289,     0.89389,     0.89489,      0.8959,      0.8969,      0.8979,      0.8989,      0.8999,      0.9009,      0.9019,      0.9029,      0.9039,      0.9049,     0.90591,     0.90691,     0.90791,     0.90891,     0.90991,     0.91091,     0.91191,\n",
              "           0.91291,     0.91391,     0.91491,     0.91592,     0.91692,     0.91792,     0.91892,     0.91992,     0.92092,     0.92192,     0.92292,     0.92392,     0.92492,     0.92593,     0.92693,     0.92793,     0.92893,     0.92993,     0.93093,     0.93193,     0.93293,     0.93393,     0.93493,     0.93594,\n",
              "           0.93694,     0.93794,     0.93894,     0.93994,     0.94094,     0.94194,     0.94294,     0.94394,     0.94494,     0.94595,     0.94695,     0.94795,     0.94895,     0.94995,     0.95095,     0.95195,     0.95295,     0.95395,     0.95495,     0.95596,     0.95696,     0.95796,     0.95896,     0.95996,\n",
              "           0.96096,     0.96196,     0.96296,     0.96396,     0.96496,     0.96597,     0.96697,     0.96797,     0.96897,     0.96997,     0.97097,     0.97197,     0.97297,     0.97397,     0.97497,     0.97598,     0.97698,     0.97798,     0.97898,     0.97998,     0.98098,     0.98198,     0.98298,     0.98398,\n",
              "           0.98498,     0.98599,     0.98699,     0.98799,     0.98899,     0.98999,     0.99099,     0.99199,     0.99299,     0.99399,     0.99499,       0.996,       0.997,       0.998,       0.999,           1]), array([[   0.036585,    0.036585,    0.061563, ...,           1,           1,           1],\n",
              "       [    0.17812,     0.17812,     0.28164, ...,           1,           1,           1],\n",
              "       [    0.37424,     0.37424,     0.42547, ...,           1,           1,           1]]), 'Confidence', 'Precision'], [array([          0,    0.001001,    0.002002,    0.003003,    0.004004,    0.005005,    0.006006,    0.007007,    0.008008,    0.009009,     0.01001,    0.011011,    0.012012,    0.013013,    0.014014,    0.015015,    0.016016,    0.017017,    0.018018,    0.019019,     0.02002,    0.021021,    0.022022,    0.023023,\n",
              "          0.024024,    0.025025,    0.026026,    0.027027,    0.028028,    0.029029,     0.03003,    0.031031,    0.032032,    0.033033,    0.034034,    0.035035,    0.036036,    0.037037,    0.038038,    0.039039,     0.04004,    0.041041,    0.042042,    0.043043,    0.044044,    0.045045,    0.046046,    0.047047,\n",
              "          0.048048,    0.049049,     0.05005,    0.051051,    0.052052,    0.053053,    0.054054,    0.055055,    0.056056,    0.057057,    0.058058,    0.059059,     0.06006,    0.061061,    0.062062,    0.063063,    0.064064,    0.065065,    0.066066,    0.067067,    0.068068,    0.069069,     0.07007,    0.071071,\n",
              "          0.072072,    0.073073,    0.074074,    0.075075,    0.076076,    0.077077,    0.078078,    0.079079,     0.08008,    0.081081,    0.082082,    0.083083,    0.084084,    0.085085,    0.086086,    0.087087,    0.088088,    0.089089,     0.09009,    0.091091,    0.092092,    0.093093,    0.094094,    0.095095,\n",
              "          0.096096,    0.097097,    0.098098,    0.099099,      0.1001,      0.1011,      0.1021,      0.1031,      0.1041,     0.10511,     0.10611,     0.10711,     0.10811,     0.10911,     0.11011,     0.11111,     0.11211,     0.11311,     0.11411,     0.11512,     0.11612,     0.11712,     0.11812,     0.11912,\n",
              "           0.12012,     0.12112,     0.12212,     0.12312,     0.12412,     0.12513,     0.12613,     0.12713,     0.12813,     0.12913,     0.13013,     0.13113,     0.13213,     0.13313,     0.13413,     0.13514,     0.13614,     0.13714,     0.13814,     0.13914,     0.14014,     0.14114,     0.14214,     0.14314,\n",
              "           0.14414,     0.14515,     0.14615,     0.14715,     0.14815,     0.14915,     0.15015,     0.15115,     0.15215,     0.15315,     0.15415,     0.15516,     0.15616,     0.15716,     0.15816,     0.15916,     0.16016,     0.16116,     0.16216,     0.16316,     0.16416,     0.16517,     0.16617,     0.16717,\n",
              "           0.16817,     0.16917,     0.17017,     0.17117,     0.17217,     0.17317,     0.17417,     0.17518,     0.17618,     0.17718,     0.17818,     0.17918,     0.18018,     0.18118,     0.18218,     0.18318,     0.18418,     0.18519,     0.18619,     0.18719,     0.18819,     0.18919,     0.19019,     0.19119,\n",
              "           0.19219,     0.19319,     0.19419,      0.1952,      0.1962,      0.1972,      0.1982,      0.1992,      0.2002,      0.2012,      0.2022,      0.2032,      0.2042,     0.20521,     0.20621,     0.20721,     0.20821,     0.20921,     0.21021,     0.21121,     0.21221,     0.21321,     0.21421,     0.21522,\n",
              "           0.21622,     0.21722,     0.21822,     0.21922,     0.22022,     0.22122,     0.22222,     0.22322,     0.22422,     0.22523,     0.22623,     0.22723,     0.22823,     0.22923,     0.23023,     0.23123,     0.23223,     0.23323,     0.23423,     0.23524,     0.23624,     0.23724,     0.23824,     0.23924,\n",
              "           0.24024,     0.24124,     0.24224,     0.24324,     0.24424,     0.24525,     0.24625,     0.24725,     0.24825,     0.24925,     0.25025,     0.25125,     0.25225,     0.25325,     0.25425,     0.25526,     0.25626,     0.25726,     0.25826,     0.25926,     0.26026,     0.26126,     0.26226,     0.26326,\n",
              "           0.26426,     0.26527,     0.26627,     0.26727,     0.26827,     0.26927,     0.27027,     0.27127,     0.27227,     0.27327,     0.27427,     0.27528,     0.27628,     0.27728,     0.27828,     0.27928,     0.28028,     0.28128,     0.28228,     0.28328,     0.28428,     0.28529,     0.28629,     0.28729,\n",
              "           0.28829,     0.28929,     0.29029,     0.29129,     0.29229,     0.29329,     0.29429,      0.2953,      0.2963,      0.2973,      0.2983,      0.2993,      0.3003,      0.3013,      0.3023,      0.3033,      0.3043,     0.30531,     0.30631,     0.30731,     0.30831,     0.30931,     0.31031,     0.31131,\n",
              "           0.31231,     0.31331,     0.31431,     0.31532,     0.31632,     0.31732,     0.31832,     0.31932,     0.32032,     0.32132,     0.32232,     0.32332,     0.32432,     0.32533,     0.32633,     0.32733,     0.32833,     0.32933,     0.33033,     0.33133,     0.33233,     0.33333,     0.33433,     0.33534,\n",
              "           0.33634,     0.33734,     0.33834,     0.33934,     0.34034,     0.34134,     0.34234,     0.34334,     0.34434,     0.34535,     0.34635,     0.34735,     0.34835,     0.34935,     0.35035,     0.35135,     0.35235,     0.35335,     0.35435,     0.35536,     0.35636,     0.35736,     0.35836,     0.35936,\n",
              "           0.36036,     0.36136,     0.36236,     0.36336,     0.36436,     0.36537,     0.36637,     0.36737,     0.36837,     0.36937,     0.37037,     0.37137,     0.37237,     0.37337,     0.37437,     0.37538,     0.37638,     0.37738,     0.37838,     0.37938,     0.38038,     0.38138,     0.38238,     0.38338,\n",
              "           0.38438,     0.38539,     0.38639,     0.38739,     0.38839,     0.38939,     0.39039,     0.39139,     0.39239,     0.39339,     0.39439,      0.3954,      0.3964,      0.3974,      0.3984,      0.3994,      0.4004,      0.4014,      0.4024,      0.4034,      0.4044,     0.40541,     0.40641,     0.40741,\n",
              "           0.40841,     0.40941,     0.41041,     0.41141,     0.41241,     0.41341,     0.41441,     0.41542,     0.41642,     0.41742,     0.41842,     0.41942,     0.42042,     0.42142,     0.42242,     0.42342,     0.42442,     0.42543,     0.42643,     0.42743,     0.42843,     0.42943,     0.43043,     0.43143,\n",
              "           0.43243,     0.43343,     0.43443,     0.43544,     0.43644,     0.43744,     0.43844,     0.43944,     0.44044,     0.44144,     0.44244,     0.44344,     0.44444,     0.44545,     0.44645,     0.44745,     0.44845,     0.44945,     0.45045,     0.45145,     0.45245,     0.45345,     0.45445,     0.45546,\n",
              "           0.45646,     0.45746,     0.45846,     0.45946,     0.46046,     0.46146,     0.46246,     0.46346,     0.46446,     0.46547,     0.46647,     0.46747,     0.46847,     0.46947,     0.47047,     0.47147,     0.47247,     0.47347,     0.47447,     0.47548,     0.47648,     0.47748,     0.47848,     0.47948,\n",
              "           0.48048,     0.48148,     0.48248,     0.48348,     0.48448,     0.48549,     0.48649,     0.48749,     0.48849,     0.48949,     0.49049,     0.49149,     0.49249,     0.49349,     0.49449,      0.4955,      0.4965,      0.4975,      0.4985,      0.4995,      0.5005,      0.5015,      0.5025,      0.5035,\n",
              "            0.5045,     0.50551,     0.50651,     0.50751,     0.50851,     0.50951,     0.51051,     0.51151,     0.51251,     0.51351,     0.51451,     0.51552,     0.51652,     0.51752,     0.51852,     0.51952,     0.52052,     0.52152,     0.52252,     0.52352,     0.52452,     0.52553,     0.52653,     0.52753,\n",
              "           0.52853,     0.52953,     0.53053,     0.53153,     0.53253,     0.53353,     0.53453,     0.53554,     0.53654,     0.53754,     0.53854,     0.53954,     0.54054,     0.54154,     0.54254,     0.54354,     0.54454,     0.54555,     0.54655,     0.54755,     0.54855,     0.54955,     0.55055,     0.55155,\n",
              "           0.55255,     0.55355,     0.55455,     0.55556,     0.55656,     0.55756,     0.55856,     0.55956,     0.56056,     0.56156,     0.56256,     0.56356,     0.56456,     0.56557,     0.56657,     0.56757,     0.56857,     0.56957,     0.57057,     0.57157,     0.57257,     0.57357,     0.57457,     0.57558,\n",
              "           0.57658,     0.57758,     0.57858,     0.57958,     0.58058,     0.58158,     0.58258,     0.58358,     0.58458,     0.58559,     0.58659,     0.58759,     0.58859,     0.58959,     0.59059,     0.59159,     0.59259,     0.59359,     0.59459,      0.5956,      0.5966,      0.5976,      0.5986,      0.5996,\n",
              "            0.6006,      0.6016,      0.6026,      0.6036,      0.6046,     0.60561,     0.60661,     0.60761,     0.60861,     0.60961,     0.61061,     0.61161,     0.61261,     0.61361,     0.61461,     0.61562,     0.61662,     0.61762,     0.61862,     0.61962,     0.62062,     0.62162,     0.62262,     0.62362,\n",
              "           0.62462,     0.62563,     0.62663,     0.62763,     0.62863,     0.62963,     0.63063,     0.63163,     0.63263,     0.63363,     0.63463,     0.63564,     0.63664,     0.63764,     0.63864,     0.63964,     0.64064,     0.64164,     0.64264,     0.64364,     0.64464,     0.64565,     0.64665,     0.64765,\n",
              "           0.64865,     0.64965,     0.65065,     0.65165,     0.65265,     0.65365,     0.65465,     0.65566,     0.65666,     0.65766,     0.65866,     0.65966,     0.66066,     0.66166,     0.66266,     0.66366,     0.66466,     0.66567,     0.66667,     0.66767,     0.66867,     0.66967,     0.67067,     0.67167,\n",
              "           0.67267,     0.67367,     0.67467,     0.67568,     0.67668,     0.67768,     0.67868,     0.67968,     0.68068,     0.68168,     0.68268,     0.68368,     0.68468,     0.68569,     0.68669,     0.68769,     0.68869,     0.68969,     0.69069,     0.69169,     0.69269,     0.69369,     0.69469,      0.6957,\n",
              "            0.6967,      0.6977,      0.6987,      0.6997,      0.7007,      0.7017,      0.7027,      0.7037,      0.7047,     0.70571,     0.70671,     0.70771,     0.70871,     0.70971,     0.71071,     0.71171,     0.71271,     0.71371,     0.71471,     0.71572,     0.71672,     0.71772,     0.71872,     0.71972,\n",
              "           0.72072,     0.72172,     0.72272,     0.72372,     0.72472,     0.72573,     0.72673,     0.72773,     0.72873,     0.72973,     0.73073,     0.73173,     0.73273,     0.73373,     0.73473,     0.73574,     0.73674,     0.73774,     0.73874,     0.73974,     0.74074,     0.74174,     0.74274,     0.74374,\n",
              "           0.74474,     0.74575,     0.74675,     0.74775,     0.74875,     0.74975,     0.75075,     0.75175,     0.75275,     0.75375,     0.75475,     0.75576,     0.75676,     0.75776,     0.75876,     0.75976,     0.76076,     0.76176,     0.76276,     0.76376,     0.76476,     0.76577,     0.76677,     0.76777,\n",
              "           0.76877,     0.76977,     0.77077,     0.77177,     0.77277,     0.77377,     0.77477,     0.77578,     0.77678,     0.77778,     0.77878,     0.77978,     0.78078,     0.78178,     0.78278,     0.78378,     0.78478,     0.78579,     0.78679,     0.78779,     0.78879,     0.78979,     0.79079,     0.79179,\n",
              "           0.79279,     0.79379,     0.79479,      0.7958,      0.7968,      0.7978,      0.7988,      0.7998,      0.8008,      0.8018,      0.8028,      0.8038,      0.8048,     0.80581,     0.80681,     0.80781,     0.80881,     0.80981,     0.81081,     0.81181,     0.81281,     0.81381,     0.81481,     0.81582,\n",
              "           0.81682,     0.81782,     0.81882,     0.81982,     0.82082,     0.82182,     0.82282,     0.82382,     0.82482,     0.82583,     0.82683,     0.82783,     0.82883,     0.82983,     0.83083,     0.83183,     0.83283,     0.83383,     0.83483,     0.83584,     0.83684,     0.83784,     0.83884,     0.83984,\n",
              "           0.84084,     0.84184,     0.84284,     0.84384,     0.84484,     0.84585,     0.84685,     0.84785,     0.84885,     0.84985,     0.85085,     0.85185,     0.85285,     0.85385,     0.85485,     0.85586,     0.85686,     0.85786,     0.85886,     0.85986,     0.86086,     0.86186,     0.86286,     0.86386,\n",
              "           0.86486,     0.86587,     0.86687,     0.86787,     0.86887,     0.86987,     0.87087,     0.87187,     0.87287,     0.87387,     0.87487,     0.87588,     0.87688,     0.87788,     0.87888,     0.87988,     0.88088,     0.88188,     0.88288,     0.88388,     0.88488,     0.88589,     0.88689,     0.88789,\n",
              "           0.88889,     0.88989,     0.89089,     0.89189,     0.89289,     0.89389,     0.89489,      0.8959,      0.8969,      0.8979,      0.8989,      0.8999,      0.9009,      0.9019,      0.9029,      0.9039,      0.9049,     0.90591,     0.90691,     0.90791,     0.90891,     0.90991,     0.91091,     0.91191,\n",
              "           0.91291,     0.91391,     0.91491,     0.91592,     0.91692,     0.91792,     0.91892,     0.91992,     0.92092,     0.92192,     0.92292,     0.92392,     0.92492,     0.92593,     0.92693,     0.92793,     0.92893,     0.92993,     0.93093,     0.93193,     0.93293,     0.93393,     0.93493,     0.93594,\n",
              "           0.93694,     0.93794,     0.93894,     0.93994,     0.94094,     0.94194,     0.94294,     0.94394,     0.94494,     0.94595,     0.94695,     0.94795,     0.94895,     0.94995,     0.95095,     0.95195,     0.95295,     0.95395,     0.95495,     0.95596,     0.95696,     0.95796,     0.95896,     0.95996,\n",
              "           0.96096,     0.96196,     0.96296,     0.96396,     0.96496,     0.96597,     0.96697,     0.96797,     0.96897,     0.96997,     0.97097,     0.97197,     0.97297,     0.97397,     0.97497,     0.97598,     0.97698,     0.97798,     0.97898,     0.97998,     0.98098,     0.98198,     0.98298,     0.98398,\n",
              "           0.98498,     0.98599,     0.98699,     0.98799,     0.98899,     0.98999,     0.99099,     0.99199,     0.99299,     0.99399,     0.99499,       0.996,       0.997,       0.998,       0.999,           1]), array([[    0.42308,     0.42308,     0.39744, ...,           0,           0,           0],\n",
              "       [    0.93333,     0.93333,     0.93333, ...,           0,           0,           0],\n",
              "       [    0.84216,     0.84216,       0.829, ...,           0,           0,           0]]), 'Confidence', 'Recall']]\n",
              "fitness: np.float64(0.3620223962091882)\n",
              "keys: ['metrics/precision(B)', 'metrics/recall(B)', 'metrics/mAP50(B)', 'metrics/mAP50-95(B)']\n",
              "maps: array([    0.03574,      0.4228,     0.59516])\n",
              "names: {0: 'Ball', 1: 'Something', 2: 'Player'}\n",
              "nt_per_class: array([ 156,   75, 6456])\n",
              "nt_per_image: array([155,  75, 283])\n",
              "results_dict: {'metrics/precision(B)': np.float64(0.5300873584618886), 'metrics/recall(B)': np.float64(0.4882620782570539), 'metrics/mAP50(B)': np.float64(0.45914459510215194), 'metrics/mAP50-95(B)': np.float64(0.3512310407766367), 'fitness': np.float64(0.3620223962091882)}\n",
              "save_dir: PosixPath('runs/detect/player_detection4')\n",
              "speed: {'preprocess': 0.5280097879858336, 'inference': 7.20242925441783, 'loss': 0.0006291590126935975, 'postprocess': 7.4794293144895105}\n",
              "stats: {'tp': [], 'conf': [], 'pred_cls': [], 'target_cls': [], 'target_img': []}\n",
              "task: 'detect'"
            ]
          },
          "metadata": {},
          "execution_count": 17
        }
      ]
    },
    {
      "cell_type": "code",
      "source": [
        "# Unzip images to a custom data folder\n",
        "!unzip -q /content/valid.zip -d /content/custom_val"
      ],
      "metadata": {
        "id": "lHST269b3P_d"
      },
      "execution_count": 10,
      "outputs": []
    },
    {
      "cell_type": "code",
      "source": [
        "model = YOLO('/content/runs/detect/player_detection4/weights/best.pt')\n",
        "results = model.predict(source='/content/custom_val/images', save=True, save_txt=True)\n"
      ],
      "metadata": {
        "colab": {
          "base_uri": "https://localhost:8080/"
        },
        "id": "_WD3tdK22pQu",
        "outputId": "cbd694f2-7ff5-42e8-e036-711b4d791553"
      },
      "execution_count": 18,
      "outputs": [
        {
          "output_type": "stream",
          "name": "stdout",
          "text": [
            "\n",
            "image 1/351 /content/custom_val/images/08fd33_0_1_png_jpg.rf.465da3401e5a7a34e60c75267721ef2e.jpg: 768x768 25 Players, 20.1ms\n",
            "image 2/351 /content/custom_val/images/08fd33_0_2_png_jpg.rf.0292e6134a77f8e60242d2e12f86ff4d.jpg: 768x768 23 Players, 20.1ms\n",
            "image 3/351 /content/custom_val/images/08fd33_0_2_png_jpg.rf.3ed5552c7ff41edaf4429732201e8a2a.jpg: 768x768 24 Players, 20.0ms\n",
            "image 4/351 /content/custom_val/images/08fd33_0_2_png_jpg.rf.f5dad2790a53bcd20ae889bd029cb4c4.jpg: 768x768 24 Players, 18.2ms\n",
            "image 5/351 /content/custom_val/images/08fd33_0_5_png_jpg.rf.7fc7567eb5b27760050152ae5afa9450.jpg: 768x768 22 Players, 18.1ms\n",
            "image 6/351 /content/custom_val/images/08fd33_0_7_png_jpg.rf.1dd70efd842e764328276a0c080e6f6f.jpg: 768x768 22 Players, 18.1ms\n",
            "image 7/351 /content/custom_val/images/08fd33_3_10_png_jpg.rf.4c7104919747001f7871f1e582d6bfd4.jpg: 768x768 24 Players, 19.8ms\n",
            "image 8/351 /content/custom_val/images/08fd33_3_10_png_jpg.rf.bd3bdf13603edcc6004a1f19448a363f.jpg: 768x768 23 Players, 18.2ms\n",
            "image 9/351 /content/custom_val/images/08fd33_3_2_png_jpg.rf.2eb3272c01194c0d3c543e296f37d9fe.jpg: 768x768 22 Players, 15.1ms\n",
            "image 10/351 /content/custom_val/images/08fd33_6_1_png_jpg.rf.05c82e69b0e66506a46d91a7d6a54f5b.jpg: 768x768 22 Players, 15.1ms\n",
            "image 11/351 /content/custom_val/images/08fd33_6_1_png_jpg.rf.2a99348916f899ba037deedc83a6ec46.jpg: 768x768 22 Players, 15.0ms\n",
            "image 12/351 /content/custom_val/images/08fd33_6_1_png_jpg.rf.3e2222d49113f7cb5230d1762932100f.jpg: 768x768 22 Players, 15.2ms\n",
            "image 13/351 /content/custom_val/images/08fd33_6_1_png_jpg.rf.40797d0ef80653967b2634796f93dd82.jpg: 768x768 22 Players, 15.2ms\n",
            "image 14/351 /content/custom_val/images/08fd33_6_2_png_jpg.rf.7ec89830f0abf21f8298ce76181608b3.jpg: 768x768 22 Players, 15.2ms\n",
            "image 15/351 /content/custom_val/images/08fd33_6_2_png_jpg.rf.e19fb91a9798aff576e25f246415581b.jpg: 768x768 23 Players, 15.2ms\n",
            "image 16/351 /content/custom_val/images/08fd33_6_3_png_jpg.rf.2f75053d299805d5a0972a15d6a6f1a6.jpg: 768x768 22 Players, 15.2ms\n",
            "image 17/351 /content/custom_val/images/08fd33_6_3_png_jpg.rf.4dcf0e33b9518863bd4e7d211baf9802.jpg: 768x768 22 Players, 15.1ms\n",
            "image 18/351 /content/custom_val/images/08fd33_6_3_png_jpg.rf.78639f814c7293146ef8d5292cbc2223.jpg: 768x768 22 Players, 15.1ms\n",
            "image 19/351 /content/custom_val/images/08fd33_6_3_png_jpg.rf.d88987be0b5c077095430e7446d9c450.jpg: 768x768 23 Players, 15.1ms\n",
            "image 20/351 /content/custom_val/images/08fd33_6_5_png_jpg.rf.8b1b1108b22930b7e304ce85e1e12b58.jpg: 768x768 22 Players, 15.1ms\n",
            "image 21/351 /content/custom_val/images/08fd33_6_5_png_jpg.rf.bc3278653d2d7ce79a45490cffc68fb0.jpg: 768x768 22 Players, 15.1ms\n",
            "image 22/351 /content/custom_val/images/08fd33_6_5_png_jpg.rf.f8f2b8d08a6e0ce653b916c9e37bfc5c.jpg: 768x768 22 Players, 15.1ms\n",
            "image 23/351 /content/custom_val/images/08fd33_6_6_png_jpg.rf.6a929b3fd39b081deb3aca80cbab1899.jpg: 768x768 22 Players, 15.1ms\n",
            "image 24/351 /content/custom_val/images/08fd33_6_7_png_jpg.rf.a1a9c486f3a8f655aba26ecafee71ebd.jpg: 768x768 23 Players, 15.1ms\n",
            "image 25/351 /content/custom_val/images/08fd33_9_9_png_jpg.rf.07022e6f9bae556466b0bb682e895738.jpg: 768x768 23 Players, 15.1ms\n",
            "image 26/351 /content/custom_val/images/08fd33_9_9_png_jpg.rf.a1dc36127d84fa7a1672d4a77c11964c.jpg: 768x768 23 Players, 15.1ms\n",
            "image 27/351 /content/custom_val/images/08fd33_9_9_png_jpg.rf.e70c4398aef92bcf46cd11430f436798.jpg: 768x768 22 Players, 15.1ms\n",
            "image 28/351 /content/custom_val/images/08fd33_9_9_png_jpg.rf.f615c7f1642a3431c9e1f3dd751e0cd6.jpg: 768x768 22 Players, 15.7ms\n",
            "image 29/351 /content/custom_val/images/121364_7_8_png_jpg.rf.cab26bee016b6f6ec10eaf86f85cc4b5.jpg: 768x768 21 Players, 15.1ms\n",
            "image 30/351 /content/custom_val/images/121364_9_1_png_jpg.rf.5932db910c24c92fceecc105ffe9c148.jpg: 768x768 24 Players, 15.1ms\n",
            "image 31/351 /content/custom_val/images/121364_9_5_png_jpg.rf.49aa9b525e83d477de8a4284bbfc1eea.jpg: 768x768 22 Players, 15.1ms\n",
            "image 32/351 /content/custom_val/images/121364_9_5_png_jpg.rf.4f9879f29e9f5e42ce670833f4e25a5f.jpg: 768x768 22 Players, 15.1ms\n",
            "image 33/351 /content/custom_val/images/121364_9_6_png_jpg.rf.3774a60c25edfb915c654d55405ac6b0.jpg: 768x768 21 Players, 15.1ms\n",
            "image 34/351 /content/custom_val/images/121364_9_6_png_jpg.rf.9688385137b8324ca3cedaa3650b6cfc.jpg: 768x768 23 Players, 15.1ms\n",
            "image 35/351 /content/custom_val/images/121364_9_6_png_jpg.rf.b34e05900b042b7e21ca5c333ebc0f85.jpg: 768x768 23 Players, 15.2ms\n",
            "image 36/351 /content/custom_val/images/121364_9_7_png_jpg.rf.884bd712bfcad8382d1b114e72bd6856.jpg: 768x768 23 Players, 15.1ms\n",
            "image 37/351 /content/custom_val/images/121364_9_7_png_jpg.rf.964088ef1305f54cf0dddc47bdcd1494.jpg: 768x768 25 Players, 15.1ms\n",
            "image 38/351 /content/custom_val/images/2e57b9_1_10_png_jpg.rf.2a964e3bbce54fd9d5b35a4adb1b0de6.jpg: 768x768 23 Players, 15.1ms\n",
            "image 39/351 /content/custom_val/images/2e57b9_1_10_png_jpg.rf.dab62b1b37d983c7b410efd91fabc9c4.jpg: 768x768 23 Players, 15.1ms\n",
            "image 40/351 /content/custom_val/images/2e57b9_1_8_png_jpg.rf.43631f05892326a6c15b5917f03b2fb2.jpg: 768x768 24 Players, 15.5ms\n",
            "image 41/351 /content/custom_val/images/2e57b9_1_8_png_jpg.rf.617df29eb5ab07ff95f8e8de3b309ce9.jpg: 768x768 24 Players, 15.1ms\n",
            "image 42/351 /content/custom_val/images/2e57b9_1_8_png_jpg.rf.9f15087f233040cb2a9295e2cf7dfa8e.jpg: 768x768 24 Players, 15.1ms\n",
            "image 43/351 /content/custom_val/images/2e57b9_1_9_png_jpg.rf.19e7003dd07d9df81c71690508852f72.jpg: 768x768 24 Players, 15.1ms\n",
            "image 44/351 /content/custom_val/images/2e57b9_3_10_png_jpg.rf.f1d12d1ff65d505dc7a0b7efc7c1ddf5.jpg: 768x768 23 Players, 15.1ms\n",
            "image 45/351 /content/custom_val/images/2e57b9_3_9_png_jpg.rf.78602d2be25f700e18191639d36c59aa.jpg: 768x768 1 Something, 23 Players, 15.7ms\n",
            "image 46/351 /content/custom_val/images/2e57b9_7_10_png_jpg.rf.8ff66b77df1196f115a654c77eb95cfb.jpg: 768x768 23 Players, 15.7ms\n",
            "image 47/351 /content/custom_val/images/2e57b9_7_10_png_jpg.rf.b68364dd5a7e5de7d4fd806c32043e5b.jpg: 768x768 26 Players, 15.8ms\n",
            "image 48/351 /content/custom_val/images/4b770a_5_7_png_jpg.rf.55c31427a1deab531c76333f985975ba.jpg: 768x768 24 Players, 15.8ms\n",
            "image 49/351 /content/custom_val/images/4b770a_5_7_png_jpg.rf.eb00792a2ad43c9ef4b87e9f091bd002.jpg: 768x768 24 Players, 15.7ms\n",
            "image 50/351 /content/custom_val/images/4b770a_7_2_png_jpg.rf.65ad812a0f1d8196d7b6b681877c7729.jpg: 768x768 24 Players, 15.8ms\n",
            "image 51/351 /content/custom_val/images/4b770a_7_2_png_jpg.rf.9eb787deefaf59d978de0c2f62d6dd81.jpg: 768x768 23 Players, 15.8ms\n",
            "image 52/351 /content/custom_val/images/4b770a_7_4_png_jpg.rf.fb6f33c89dd9a64a4e84829fb1bef573.jpg: 768x768 22 Players, 16.0ms\n",
            "image 53/351 /content/custom_val/images/4b770a_7_5_png_jpg.rf.1745351620c8bb4c634bb5a0908bcfbd.jpg: 768x768 23 Players, 16.0ms\n",
            "image 54/351 /content/custom_val/images/4b770a_7_5_png_jpg.rf.cbb764a47b261f44f567ccc57da1cda7.jpg: 768x768 23 Players, 16.0ms\n",
            "image 55/351 /content/custom_val/images/4b770a_7_6_png_jpg.rf.1651c3066c658f3bdf3142a134400785.jpg: 768x768 22 Players, 15.9ms\n",
            "image 56/351 /content/custom_val/images/4b770a_7_6_png_jpg.rf.215f8ad711d080d86a64517c43858121.jpg: 768x768 21 Players, 16.2ms\n",
            "image 57/351 /content/custom_val/images/4b770a_7_6_png_jpg.rf.3634ef6910528f2d42540d2fbb5c64bc.jpg: 768x768 22 Players, 16.1ms\n",
            "image 58/351 /content/custom_val/images/4b770a_7_7_png_jpg.rf.7727e1053faebe753d1cd5141b0c2211.jpg: 768x768 22 Players, 16.2ms\n",
            "image 59/351 /content/custom_val/images/4b770a_7_7_png_jpg.rf.92a2893f8f45f072c4ff32ba78c24d12.jpg: 768x768 22 Players, 16.2ms\n",
            "image 60/351 /content/custom_val/images/4b770a_7_7_png_jpg.rf.9b9d6bc2734acbdb891e16f895994aa1.jpg: 768x768 22 Players, 16.2ms\n",
            "image 61/351 /content/custom_val/images/4b770a_7_7_png_jpg.rf.bb135c5af0135b11da4fa28be7db75eb.jpg: 768x768 23 Players, 14.5ms\n",
            "image 62/351 /content/custom_val/images/4b770a_9_8_png_jpg.rf.3ef18ecd0f3c8be1a1797bd2731daad1.jpg: 768x768 24 Players, 14.5ms\n",
            "image 63/351 /content/custom_val/images/4b770a_9_8_png_jpg.rf.b55943d2a5242f9d3ca86c8b74309fc7.jpg: 768x768 24 Players, 14.5ms\n",
            "image 64/351 /content/custom_val/images/4b770a_9_9_png_jpg.rf.6c70e544a32e9a327d64b874c8958a05.jpg: 768x768 24 Players, 14.5ms\n",
            "image 65/351 /content/custom_val/images/4b770a_9_9_png_jpg.rf.79237b1d49c701107ab08c31309b9f74.jpg: 768x768 25 Players, 14.5ms\n",
            "image 66/351 /content/custom_val/images/4b770a_9_9_png_jpg.rf.f285bd33ce7c7ad0c1936a9ce874034c.jpg: 768x768 27 Players, 14.2ms\n",
            "image 67/351 /content/custom_val/images/538438_1_10_png_jpg.rf.428a982ceaa2ea46fe8cf7e20caa8b72.jpg: 768x768 22 Players, 14.1ms\n",
            "image 68/351 /content/custom_val/images/538438_1_1_png_jpg.rf.14e07dcb0b69d481943674e787836a01.jpg: 768x768 22 Players, 14.2ms\n",
            "image 69/351 /content/custom_val/images/538438_1_1_png_jpg.rf.67bd0394401138e24dfdb7a4b48a58ed.jpg: 768x768 22 Players, 13.9ms\n",
            "image 70/351 /content/custom_val/images/538438_1_2_png_jpg.rf.553a376fc9a9ed8e7958553ebb7f9198.jpg: 768x768 22 Players, 13.9ms\n",
            "image 71/351 /content/custom_val/images/538438_1_3_png_jpg.rf.03076ed4e2adaa15f4d3d75272d86985.jpg: 768x768 22 Players, 13.8ms\n",
            "image 72/351 /content/custom_val/images/538438_1_3_png_jpg.rf.4999730cf02fc73d8506db85bcd616d6.jpg: 768x768 22 Players, 13.8ms\n",
            "image 73/351 /content/custom_val/images/538438_1_5_png_jpg.rf.4f33bc15fb6bbb74ebe244bf1952d381.jpg: 768x768 20 Players, 14.0ms\n",
            "image 74/351 /content/custom_val/images/538438_1_5_png_jpg.rf.c9321d5994c0049ae8ab92eb7beda8ef.jpg: 768x768 20 Players, 13.5ms\n",
            "image 75/351 /content/custom_val/images/538438_3_10_png_jpg.rf.21980e286a4db5a3f1e970abe86e44ac.jpg: 768x768 23 Players, 13.5ms\n",
            "image 76/351 /content/custom_val/images/538438_3_10_png_jpg.rf.941b69fe684e046dfef2fcbfc158bf06.jpg: 768x768 25 Players, 13.5ms\n",
            "image 77/351 /content/custom_val/images/538438_3_1_png_jpg.rf.a9bb84ba47762fae7b5944bce8864c5a.jpg: 768x768 24 Players, 13.5ms\n",
            "image 78/351 /content/custom_val/images/538438_3_3_png_jpg.rf.158a3d56744b79682244f3c4c5cce5ca.jpg: 768x768 1 Something, 23 Players, 13.5ms\n",
            "image 79/351 /content/custom_val/images/538438_3_3_png_jpg.rf.cdbbc928eae9644e802de504e696acbe.jpg: 768x768 1 Something, 25 Players, 13.5ms\n",
            "image 80/351 /content/custom_val/images/538438_3_7_png_jpg.rf.367f308c8a6c05abfcf70da8ed074f03.jpg: 768x768 24 Players, 13.5ms\n",
            "image 81/351 /content/custom_val/images/538438_3_7_png_jpg.rf.7ab872ccb61a68439dc843f846efc1ce.jpg: 768x768 23 Players, 13.4ms\n",
            "image 82/351 /content/custom_val/images/538438_3_7_png_jpg.rf.fad318feda43ada0b87fab28c03ad191.jpg: 768x768 25 Players, 13.5ms\n",
            "image 83/351 /content/custom_val/images/538438_5_1_png_jpg.rf.08bf41b27e0cb3522c437a11c258680b.jpg: 768x768 22 Players, 13.4ms\n",
            "image 84/351 /content/custom_val/images/538438_5_4_png_jpg.rf.08a6fe2da4d59cf53ee821bed15b02d3.jpg: 768x768 23 Players, 13.5ms\n",
            "image 85/351 /content/custom_val/images/538438_5_4_png_jpg.rf.31148ac9a2485d1c47d79ae9e431bfe6.jpg: 768x768 22 Players, 13.4ms\n",
            "image 86/351 /content/custom_val/images/538438_5_4_png_jpg.rf.7c197817c6970bb8f92a10af1cc1210e.jpg: 768x768 22 Players, 13.5ms\n",
            "image 87/351 /content/custom_val/images/538438_5_4_png_jpg.rf.a1a39902388457cfb9b42e33a359ba7f.jpg: 768x768 22 Players, 13.2ms\n",
            "image 88/351 /content/custom_val/images/538438_5_5_png_jpg.rf.26f92e5e67688dfe73e190729963296d.jpg: 768x768 1 Something, 15 Players, 13.2ms\n",
            "image 89/351 /content/custom_val/images/538438_5_6_png_jpg.rf.a323a02b61a69a05b5806e162bfd9181.jpg: 768x768 23 Players, 13.0ms\n",
            "image 90/351 /content/custom_val/images/538438_5_7_png_jpg.rf.08738bdd231db77dee7f3398b4c18045.jpg: 768x768 22 Players, 12.7ms\n",
            "image 91/351 /content/custom_val/images/538438_5_7_png_jpg.rf.680e676505d06a40e79ea1fe488ce293.jpg: 768x768 22 Players, 12.7ms\n",
            "image 92/351 /content/custom_val/images/538438_7_10_png_jpg.rf.b56a03a453b095835fc271cacd415824.jpg: 768x768 23 Players, 12.7ms\n",
            "image 93/351 /content/custom_val/images/538438_7_2_png_jpg.rf.9826004a2bb231049fb6c701a625651b.jpg: 768x768 23 Players, 12.8ms\n",
            "image 94/351 /content/custom_val/images/538438_7_2_png_jpg.rf.c349bbfbc259717d95917120569d78f7.jpg: 768x768 22 Players, 12.7ms\n",
            "image 95/351 /content/custom_val/images/538438_7_2_png_jpg.rf.fe20ee1df5c52f807e680567cd14a37f.jpg: 768x768 23 Players, 12.7ms\n",
            "image 96/351 /content/custom_val/images/538438_7_4_png_jpg.rf.9aba9c3ee777a2e2068357b0d871e880.jpg: 768x768 23 Players, 12.7ms\n",
            "image 97/351 /content/custom_val/images/538438_7_5_png_jpg.rf.68feb56ff200b79bd757d36878484a28.jpg: 768x768 22 Players, 12.7ms\n",
            "image 98/351 /content/custom_val/images/538438_7_5_png_jpg.rf.832637e056d482fa05fdcc141ebb25b3.jpg: 768x768 24 Players, 12.7ms\n",
            "image 99/351 /content/custom_val/images/538438_7_5_png_jpg.rf.965cefffc70e3a5266d200aae3820f99.jpg: 768x768 22 Players, 12.7ms\n",
            "image 100/351 /content/custom_val/images/538438_7_5_png_jpg.rf.dd32118b6d8dde09b8ceee79c2b49ab8.jpg: 768x768 24 Players, 12.4ms\n",
            "image 101/351 /content/custom_val/images/538438_7_6_png_jpg.rf.c585193cd9424a1c572d762a57256a8a.jpg: 768x768 25 Players, 12.4ms\n",
            "image 102/351 /content/custom_val/images/538438_7_7_png_jpg.rf.f2bd32bfbb9609c0bc52c719efbb6e40.jpg: 768x768 23 Players, 12.4ms\n",
            "image 103/351 /content/custom_val/images/538438_9_10_png_jpg.rf.48cd040f5ad65e062c3ad76887453e56.jpg: 768x768 22 Players, 15.1ms\n",
            "image 104/351 /content/custom_val/images/538438_9_10_png_jpg.rf.a55b745201a7bcbe864e5674f4813f52.jpg: 768x768 22 Players, 12.4ms\n",
            "image 105/351 /content/custom_val/images/538438_9_8_png_jpg.rf.d9eb8ff40aab42b82b165065775fbc2f.jpg: 768x768 1 Something, 24 Players, 12.4ms\n",
            "image 106/351 /content/custom_val/images/538438_9_9_png_jpg.rf.bc18d109b3cf169b02aafbbdb5f07f3e.jpg: 768x768 25 Players, 12.4ms\n",
            "image 107/351 /content/custom_val/images/538438_9_9_png_jpg.rf.c2dcb3cf88658ed32e07cd988ef851c1.jpg: 768x768 24 Players, 12.4ms\n",
            "image 108/351 /content/custom_val/images/538438_9_9_png_jpg.rf.ca8862b4e1df3cf3f260dd0e22d3c7c0.jpg: 768x768 24 Players, 12.4ms\n",
            "image 109/351 /content/custom_val/images/54745b_1_8_png_jpg.rf.115cf5e8d286170a91acf77e309315b9.jpg: 768x768 22 Players, 12.4ms\n",
            "image 110/351 /content/custom_val/images/54745b_1_8_png_jpg.rf.593d42ab107b2c3c312947f307930448.jpg: 768x768 22 Players, 12.4ms\n",
            "image 111/351 /content/custom_val/images/54745b_1_9_png_jpg.rf.94d783a68a2c469acc61d05dee278d4a.jpg: 768x768 22 Players, 12.4ms\n",
            "image 112/351 /content/custom_val/images/54745b_1_9_png_jpg.rf.adac34ff11aa9ea2bf887a009b2ea618.jpg: 768x768 22 Players, 12.4ms\n",
            "image 113/351 /content/custom_val/images/54745b_3_8_png_jpg.rf.89ef6dde49d7913804c5ff7eb195ac6a.jpg: 768x768 22 Players, 12.4ms\n",
            "image 114/351 /content/custom_val/images/54745b_3_8_png_jpg.rf.a0be42f9e8e872dcae53f49e66f97d75.jpg: 768x768 22 Players, 12.4ms\n",
            "image 115/351 /content/custom_val/images/54745b_3_8_png_jpg.rf.aa23fa03022fc7830524d60bdc299131.jpg: 768x768 21 Players, 12.4ms\n",
            "image 116/351 /content/custom_val/images/54745b_3_9_png_jpg.rf.3ec15c04033c224f54483d613fec2633.jpg: 768x768 22 Players, 12.4ms\n",
            "image 117/351 /content/custom_val/images/54745b_3_9_png_jpg.rf.6a3ae139c9afde8426023c5f0734bbeb.jpg: 768x768 22 Players, 12.4ms\n",
            "image 118/351 /content/custom_val/images/54745b_5_8_png_jpg.rf.4820e849118970ea760ce43de7f094c8.jpg: 768x768 23 Players, 12.4ms\n",
            "image 119/351 /content/custom_val/images/54745b_5_9_png_jpg.rf.692896862b17361241311486322434e0.jpg: 768x768 22 Players, 12.2ms\n",
            "image 120/351 /content/custom_val/images/54745b_7_8_png_jpg.rf.fa2caa6838618b166b8e4d69a6e0f490.jpg: 768x768 22 Players, 12.3ms\n",
            "image 121/351 /content/custom_val/images/54745b_7_9_png_jpg.rf.0b810de80933aa4f14f51fc279c4690a.jpg: 768x768 24 Players, 11.9ms\n",
            "image 122/351 /content/custom_val/images/54745b_7_9_png_jpg.rf.5dff7f7780a5b5fe1b3f20a8a5688bac.jpg: 768x768 23 Players, 11.9ms\n",
            "image 123/351 /content/custom_val/images/54745b_9_1_png_jpg.rf.6e369c1ffb2ccdd5f44709695fbf3b51.jpg: 768x768 21 Players, 11.9ms\n",
            "image 124/351 /content/custom_val/images/54745b_9_1_png_jpg.rf.f1413efd4e6b5f2e85acc9bd24451068.jpg: 768x768 21 Players, 11.9ms\n",
            "image 125/351 /content/custom_val/images/54745b_9_2_png_jpg.rf.94ccf5a565ed5bd3b9cb74452d4ee92e.jpg: 768x768 22 Players, 11.9ms\n",
            "image 126/351 /content/custom_val/images/54745b_9_2_png_jpg.rf.a1c44863428d6a34168412a56f37184e.jpg: 768x768 22 Players, 11.9ms\n",
            "image 127/351 /content/custom_val/images/54745b_9_2_png_jpg.rf.cbc69be25af9c86f85a95ab25710d226.jpg: 768x768 22 Players, 11.9ms\n",
            "image 128/351 /content/custom_val/images/54745b_9_3_png_jpg.rf.514ad64e3abc2d73eddbb785afaed510.jpg: 768x768 22 Players, 11.9ms\n",
            "image 129/351 /content/custom_val/images/54745b_9_5_png_jpg.rf.cee24b005e2ea996367fc78163270e95.jpg: 768x768 23 Players, 11.9ms\n",
            "image 130/351 /content/custom_val/images/54745b_9_6_png_jpg.rf.f7ab8f30d8f0beda3627fd5754d5aa5c.jpg: 768x768 22 Players, 11.9ms\n",
            "image 131/351 /content/custom_val/images/54745b_9_7_png_jpg.rf.ea62526796ac6c67fdf32e113c6a3eac.jpg: 768x768 24 Players, 11.9ms\n",
            "image 132/351 /content/custom_val/images/55c9d1_3_8_png_jpg.rf.39f117c78591c8958b0b1eef76cf43ce.jpg: 768x768 22 Players, 11.9ms\n",
            "image 133/351 /content/custom_val/images/55c9d1_3_8_png_jpg.rf.6560805d5fb8dc19497057a6fae10122.jpg: 768x768 22 Players, 11.9ms\n",
            "image 134/351 /content/custom_val/images/55c9d1_3_9_png_jpg.rf.c92a774b54ffdafd5cd06737c877d12e.jpg: 768x768 23 Players, 11.9ms\n",
            "image 135/351 /content/custom_val/images/573e61_3_10_png_jpg.rf.08b663a6f70dfe1e929337eb9c4a7525.jpg: 768x768 1 Something, 29 Players, 11.9ms\n",
            "image 136/351 /content/custom_val/images/573e61_3_10_png_jpg.rf.247228493bccaf549626aab8219d8fea.jpg: 768x768 1 Something, 23 Players, 11.9ms\n",
            "image 137/351 /content/custom_val/images/573e61_3_8_png_jpg.rf.395dd5ee2298ba99f18cdee8ac061743.jpg: 768x768 24 Players, 11.9ms\n",
            "image 138/351 /content/custom_val/images/573e61_3_8_png_jpg.rf.e7192d8e9cdd26ba1ad7732ddbff4fd4.jpg: 768x768 23 Players, 11.9ms\n",
            "image 139/351 /content/custom_val/images/573e61_3_9_png_jpg.rf.520a5e576d6d614200b3efcab4ce2b27.jpg: 768x768 23 Players, 11.9ms\n",
            "image 140/351 /content/custom_val/images/573e61_3_9_png_jpg.rf.5e29d44d2eefb1b9ddeef1a08597cc9a.jpg: 768x768 1 Something, 27 Players, 11.9ms\n",
            "image 141/351 /content/custom_val/images/573e61_3_9_png_jpg.rf.cd061ea4b56c65b274e43d996f8c87b1.jpg: 768x768 24 Players, 11.9ms\n",
            "image 142/351 /content/custom_val/images/573e61_5_9_png_jpg.rf.3e400cb97e2447a68df32b85710bfd9c.jpg: 768x768 23 Players, 11.9ms\n",
            "image 143/351 /content/custom_val/images/573e61_5_9_png_jpg.rf.477cc370d228e49be1379b161fb4d602.jpg: 768x768 23 Players, 11.9ms\n",
            "image 144/351 /content/custom_val/images/573e61_5_9_png_jpg.rf.520606f74c5c1ccebfe8e862e2fe4a88.jpg: 768x768 23 Players, 11.9ms\n",
            "image 145/351 /content/custom_val/images/573e61_5_9_png_jpg.rf.80a09dce8e1d59655e378c788ebb072a.jpg: 768x768 23 Players, 11.9ms\n",
            "image 146/351 /content/custom_val/images/573e61_7_10_png_jpg.rf.2b8228e9a20d60a11285af3f0b2edecf.jpg: 768x768 1 Something, 22 Players, 11.9ms\n",
            "image 147/351 /content/custom_val/images/573e61_7_10_png_jpg.rf.33aae9c4cc42174390cdb9e5a2531ee7.jpg: 768x768 1 Something, 21 Players, 11.9ms\n",
            "image 148/351 /content/custom_val/images/573e61_7_8_png_jpg.rf.86e23e59a025f812d232083bf8a54164.jpg: 768x768 23 Players, 11.9ms\n",
            "image 149/351 /content/custom_val/images/573e61_7_8_png_jpg.rf.d7cf6435e8927b8b27947396f6976705.jpg: 768x768 23 Players, 12.0ms\n",
            "image 150/351 /content/custom_val/images/573e61_9_10_png_jpg.rf.cda76f87551cb709fe02000bc0035f02.jpg: 768x768 24 Players, 11.9ms\n",
            "image 151/351 /content/custom_val/images/573e61_9_3_png_jpg.rf.47f059fa5cc52d72c312ab0d2afe9a69.jpg: 768x768 23 Players, 11.9ms\n",
            "image 152/351 /content/custom_val/images/573e61_9_3_png_jpg.rf.918542683da1614b5a05a5b52642326e.jpg: 768x768 24 Players, 11.9ms\n",
            "image 153/351 /content/custom_val/images/573e61_9_3_png_jpg.rf.f0f25d1ace2c38aa8622267445b5d82f.jpg: 768x768 23 Players, 11.9ms\n",
            "image 154/351 /content/custom_val/images/573e61_9_4_png_jpg.rf.2d62d2a5280029ed1e383ada615eedcf.jpg: 768x768 21 Players, 12.0ms\n",
            "image 155/351 /content/custom_val/images/573e61_9_4_png_jpg.rf.45de9f3db696c19616813d74da7c4a78.jpg: 768x768 21 Players, 11.9ms\n",
            "image 156/351 /content/custom_val/images/573e61_9_4_png_jpg.rf.b86499e1d70781902a3fe892db2785ea.jpg: 768x768 22 Players, 11.9ms\n",
            "image 157/351 /content/custom_val/images/573e61_9_5_png_jpg.rf.453b90d1604a8e3f9833fffc2ba11d74.jpg: 768x768 23 Players, 11.9ms\n",
            "image 158/351 /content/custom_val/images/573e61_9_5_png_jpg.rf.d712dee0b3c1519cfdec2c9fcce99d7a.jpg: 768x768 24 Players, 11.9ms\n",
            "image 159/351 /content/custom_val/images/573e61_9_7_png_jpg.rf.948f8e58929d5f2a1f5d7b5e4f7c35b8.jpg: 768x768 23 Players, 11.9ms\n",
            "image 160/351 /content/custom_val/images/744b27_1_1_png_jpg.rf.38c124d93c3bbf2642bd84f91705590a.jpg: 768x768 22 Players, 11.9ms\n",
            "image 161/351 /content/custom_val/images/744b27_1_1_png_jpg.rf.f952a7752ff55541a797c4342e994135.jpg: 768x768 22 Players, 11.9ms\n",
            "image 162/351 /content/custom_val/images/744b27_1_2_png_jpg.rf.19ebd5d5a09b11272637e3a02dd95d9d.jpg: 768x768 22 Players, 11.9ms\n",
            "image 163/351 /content/custom_val/images/744b27_1_3_png_jpg.rf.32b507c34a2a8c63c2f8ae99c61e2a20.jpg: 768x768 23 Players, 11.9ms\n",
            "image 164/351 /content/custom_val/images/744b27_1_3_png_jpg.rf.8bf703907c33dccc7a3bc4d021ba1c47.jpg: 768x768 23 Players, 11.9ms\n",
            "image 165/351 /content/custom_val/images/744b27_1_3_png_jpg.rf.f5072ff1b1b71523cf6ce426aa527822.jpg: 768x768 23 Players, 11.9ms\n",
            "image 166/351 /content/custom_val/images/744b27_1_4_png_jpg.rf.26c5217111ddfed9d60fc043f130b587.jpg: 768x768 23 Players, 11.9ms\n",
            "image 167/351 /content/custom_val/images/744b27_1_4_png_jpg.rf.ee8594532e9ba0599d5bc519e433ff6b.jpg: 768x768 23 Players, 11.9ms\n",
            "image 168/351 /content/custom_val/images/744b27_1_5_png_jpg.rf.56da2cf0f9f3276bdc77ca151de682fa.jpg: 768x768 22 Players, 11.9ms\n",
            "image 169/351 /content/custom_val/images/744b27_1_5_png_jpg.rf.7a026905d1addffc5ca4523f6423e683.jpg: 768x768 22 Players, 11.9ms\n",
            "image 170/351 /content/custom_val/images/744b27_1_5_png_jpg.rf.c0c36e83d3aa4d0db1dd0d6c40f8be0e.jpg: 768x768 22 Players, 11.9ms\n",
            "image 171/351 /content/custom_val/images/744b27_1_5_png_jpg.rf.f644ec8618e773793e0906d17180770a.jpg: 768x768 22 Players, 11.9ms\n",
            "image 172/351 /content/custom_val/images/744b27_1_7_png_jpg.rf.7371497939cf52d0f22400d9a438e02b.jpg: 768x768 23 Players, 11.9ms\n",
            "image 173/351 /content/custom_val/images/744b27_3_10_png_jpg.rf.49d55db0d95d970b1da43d8fd6c81d01.jpg: 768x768 23 Players, 11.9ms\n",
            "image 174/351 /content/custom_val/images/744b27_3_10_png_jpg.rf.4fff040a1db73df648df1a0635545bbf.jpg: 768x768 23 Players, 11.9ms\n",
            "image 175/351 /content/custom_val/images/744b27_3_1_png_jpg.rf.f56420711197a4e9162793d637b9cb9a.jpg: 768x768 1 Something, 23 Players, 11.9ms\n",
            "image 176/351 /content/custom_val/images/744b27_3_2_png_jpg.rf.25cbbd7f24ea8455099f07648c8c9d90.jpg: 768x768 23 Players, 11.9ms\n",
            "image 177/351 /content/custom_val/images/744b27_3_4_png_jpg.rf.73400a82f8d474c2eaccdaedd5754c2e.jpg: 768x768 21 Players, 12.0ms\n",
            "image 178/351 /content/custom_val/images/744b27_3_4_png_jpg.rf.86126cedf256dfc7c380993d61dfff42.jpg: 768x768 24 Players, 12.3ms\n",
            "image 179/351 /content/custom_val/images/744b27_3_5_png_jpg.rf.4ffffb17e97d40107dbd0120f5afd9c9.jpg: 768x768 23 Players, 12.3ms\n",
            "image 180/351 /content/custom_val/images/744b27_3_6_png_jpg.rf.7fbc28411438ebffd19f2cbdb700979b.jpg: 768x768 24 Players, 12.0ms\n",
            "image 181/351 /content/custom_val/images/744b27_3_6_png_jpg.rf.8d31a6b25a805c2e3cb519f81f5a84e4.jpg: 768x768 23 Players, 12.0ms\n",
            "image 182/351 /content/custom_val/images/744b27_3_7_png_jpg.rf.af445341e9a8f3eb9c78dfc00707b50c.jpg: 768x768 1 Something, 23 Players, 12.0ms\n",
            "image 183/351 /content/custom_val/images/744b27_5_10_png_jpg.rf.3072666b0ff47d6326dd335ccfd3d06a.jpg: 768x768 22 Players, 12.0ms\n",
            "image 184/351 /content/custom_val/images/744b27_5_10_png_jpg.rf.c30f5be84d8ba22345946030ac3d743a.jpg: 768x768 22 Players, 12.0ms\n",
            "image 185/351 /content/custom_val/images/744b27_5_1_png_jpg.rf.2b7547a2f1c607b422fc961a21ca508f.jpg: 768x768 23 Players, 12.0ms\n",
            "image 186/351 /content/custom_val/images/744b27_5_1_png_jpg.rf.3d78b40baf2d2a735732a7311a5ecdba.jpg: 768x768 23 Players, 12.0ms\n",
            "image 187/351 /content/custom_val/images/744b27_5_4_png_jpg.rf.18ab01c9b2b977752c3a391abbf44bab.jpg: 768x768 23 Players, 12.0ms\n",
            "image 188/351 /content/custom_val/images/744b27_5_4_png_jpg.rf.f33d007a4e5ce1a242d8e9e5f0b21dd4.jpg: 768x768 24 Players, 12.5ms\n",
            "image 189/351 /content/custom_val/images/744b27_5_5_png_jpg.rf.2b4369aa78cebc1d14e844b46259dc83.jpg: 768x768 23 Players, 12.5ms\n",
            "image 190/351 /content/custom_val/images/744b27_5_5_png_jpg.rf.a8e61558dec9658d3045739e2b2c70ad.jpg: 768x768 23 Players, 12.4ms\n",
            "image 191/351 /content/custom_val/images/744b27_5_6_png_jpg.rf.5e036bf138acc18167e9a2285811d7b5.jpg: 768x768 23 Players, 12.1ms\n",
            "image 192/351 /content/custom_val/images/744b27_5_7_png_jpg.rf.3f6b22f6b1d528278274b4a61b2d9a59.jpg: 768x768 24 Players, 12.1ms\n",
            "image 193/351 /content/custom_val/images/744b27_7_10_png_jpg.rf.62028d1f6479106644f75392bf626e78.jpg: 768x768 22 Players, 12.2ms\n",
            "image 194/351 /content/custom_val/images/744b27_7_10_png_jpg.rf.a03e278c94c29f9694ec1cbec7db37b3.jpg: 768x768 22 Players, 12.2ms\n",
            "image 195/351 /content/custom_val/images/744b27_7_10_png_jpg.rf.ef1a84280e2715efa11d763fccbc2aed.jpg: 768x768 22 Players, 12.1ms\n",
            "image 196/351 /content/custom_val/images/744b27_7_1_png_jpg.rf.f78327540b6d5bd16eed39a2d3a85bd6.jpg: 768x768 22 Players, 12.1ms\n",
            "image 197/351 /content/custom_val/images/744b27_7_2_png_jpg.rf.19393914bc43de0ae04c6663a93d3c90.jpg: 768x768 25 Players, 12.1ms\n",
            "image 198/351 /content/custom_val/images/744b27_7_2_png_jpg.rf.831557769626b5614ea389f400e55ae3.jpg: 768x768 25 Players, 12.1ms\n",
            "image 199/351 /content/custom_val/images/744b27_7_2_png_jpg.rf.8879d0c2becce6f2b8fea38aa4852a53.jpg: 768x768 25 Players, 12.3ms\n",
            "image 200/351 /content/custom_val/images/744b27_7_3_png_jpg.rf.0a162a8105f7ae6fd75ee08a2510575a.jpg: 768x768 23 Players, 12.2ms\n",
            "image 201/351 /content/custom_val/images/744b27_7_3_png_jpg.rf.95065599db59837fb4846fd850cd8e5a.jpg: 768x768 25 Players, 11.9ms\n",
            "image 202/351 /content/custom_val/images/744b27_7_3_png_jpg.rf.be49dbd74c49ef74bb44cb5671fb5689.jpg: 768x768 24 Players, 11.9ms\n",
            "image 203/351 /content/custom_val/images/744b27_7_7_png_jpg.rf.329601e37b385aa200bb472f721cbb5c.jpg: 768x768 1 Something, 23 Players, 12.0ms\n",
            "image 204/351 /content/custom_val/images/744b27_9_10_png_jpg.rf.126546c782934e04b372c4e25a292554.jpg: 768x768 23 Players, 11.9ms\n",
            "image 205/351 /content/custom_val/images/744b27_9_10_png_jpg.rf.9294182578807e2e6a0fe07b007758cb.jpg: 768x768 25 Players, 11.9ms\n",
            "image 206/351 /content/custom_val/images/744b27_9_10_png_jpg.rf.ed84f5d8769a9c13572c98df4b740c93.jpg: 768x768 23 Players, 11.9ms\n",
            "image 207/351 /content/custom_val/images/744b27_9_8_png_jpg.rf.4c5ef8fd364a6286033f3d8d3754d9be.jpg: 768x768 22 Players, 11.9ms\n",
            "image 208/351 /content/custom_val/images/798b45_1_2_png_jpg.rf.c621829fb27ce050d3575d56bb01e202.jpg: 768x768 23 Players, 11.9ms\n",
            "image 209/351 /content/custom_val/images/798b45_1_3_png_jpg.rf.5c3f16212c1c62d56a994e0e8edef634.jpg: 768x768 24 Players, 11.9ms\n",
            "image 210/351 /content/custom_val/images/798b45_1_3_png_jpg.rf.f12f8c6f77cc3ff126c36d47276d3c5b.jpg: 768x768 23 Players, 11.9ms\n",
            "image 211/351 /content/custom_val/images/798b45_1_4_png_jpg.rf.a63ca3618e0015ddda6561168e032422.jpg: 768x768 24 Players, 11.9ms\n",
            "image 212/351 /content/custom_val/images/798b45_1_4_png_jpg.rf.cc081c08ddc974a5ded700b9962cf633.jpg: 768x768 23 Players, 11.9ms\n",
            "image 213/351 /content/custom_val/images/798b45_1_4_png_jpg.rf.cdeb5ff0cee71303b16c62a9bad77333.jpg: 768x768 23 Players, 11.9ms\n",
            "image 214/351 /content/custom_val/images/798b45_1_5_png_jpg.rf.51e5db6715749d93b9bfa91585856cba.jpg: 768x768 23 Players, 12.0ms\n",
            "image 215/351 /content/custom_val/images/798b45_1_5_png_jpg.rf.8632b8424fae74ddd43c4f3c5156bf4b.jpg: 768x768 22 Players, 11.9ms\n",
            "image 216/351 /content/custom_val/images/798b45_1_5_png_jpg.rf.c5a5ace6a86d1cd548f24826a477aa64.jpg: 768x768 22 Players, 11.9ms\n",
            "image 217/351 /content/custom_val/images/798b45_1_6_png_jpg.rf.6196685d5872e12a1c126bfe919cce30.jpg: 768x768 23 Players, 11.9ms\n",
            "image 218/351 /content/custom_val/images/798b45_1_6_png_jpg.rf.81a120340fea36d5a0ca0bc32f16e42e.jpg: 768x768 24 Players, 11.9ms\n",
            "image 219/351 /content/custom_val/images/798b45_1_6_png_jpg.rf.84cd11fa2665f8fe9650874c9f5c69a8.jpg: 768x768 24 Players, 11.9ms\n",
            "image 220/351 /content/custom_val/images/798b45_1_7_png_jpg.rf.0a81a744f980c6a61dbf796151968c9a.jpg: 768x768 24 Players, 11.9ms\n",
            "image 221/351 /content/custom_val/images/798b45_1_7_png_jpg.rf.98a988d32d6f1894ef5465c4995085b4.jpg: 768x768 24 Players, 11.9ms\n",
            "image 222/351 /content/custom_val/images/798b45_1_7_png_jpg.rf.a238ee3cb3c2f30666b18a7338f119cc.jpg: 768x768 24 Players, 12.0ms\n",
            "image 223/351 /content/custom_val/images/798b45_3_1_png_jpg.rf.2ec1efc499da1a59a5d2bd7c1593c75a.jpg: 768x768 24 Players, 11.9ms\n",
            "image 224/351 /content/custom_val/images/798b45_3_1_png_jpg.rf.300f0f698efa109383acf45ab9ddcfa3.jpg: 768x768 22 Players, 11.9ms\n",
            "image 225/351 /content/custom_val/images/798b45_3_1_png_jpg.rf.f9657c3d0b92b6925831a86486c015bc.jpg: 768x768 22 Players, 11.9ms\n",
            "image 226/351 /content/custom_val/images/798b45_3_2_png_jpg.rf.1afd381bd27e4efd39d5cc9555f10a2c.jpg: 768x768 22 Players, 11.9ms\n",
            "image 227/351 /content/custom_val/images/798b45_3_2_png_jpg.rf.3759c62b02e915556a915a746903deeb.jpg: 768x768 22 Players, 11.9ms\n",
            "image 228/351 /content/custom_val/images/798b45_3_2_png_jpg.rf.b9e64014512f1736d68fea77fab81e79.jpg: 768x768 22 Players, 11.9ms\n",
            "image 229/351 /content/custom_val/images/798b45_3_4_png_jpg.rf.188a6cc51c76bd24e968e4fe8ed7d032.jpg: 768x768 23 Players, 11.9ms\n",
            "image 230/351 /content/custom_val/images/798b45_3_4_png_jpg.rf.49bcc0348529f022b1589eb2818bf63e.jpg: 768x768 24 Players, 11.9ms\n",
            "image 231/351 /content/custom_val/images/798b45_3_4_png_jpg.rf.d8265898c720f77d9b83bf814cbe7ce5.jpg: 768x768 23 Players, 12.0ms\n",
            "image 232/351 /content/custom_val/images/798b45_3_5_png_jpg.rf.2f55a175ac173ac64edec690551ad69f.jpg: 768x768 25 Players, 12.0ms\n",
            "image 233/351 /content/custom_val/images/798b45_3_5_png_jpg.rf.dc4f82a6c58344b23f3f23f8b8b68c24.jpg: 768x768 25 Players, 11.9ms\n",
            "image 234/351 /content/custom_val/images/798b45_3_6_png_jpg.rf.0c8826620b05945bb52b7f5c37410883.jpg: 768x768 22 Players, 11.9ms\n",
            "image 235/351 /content/custom_val/images/798b45_3_6_png_jpg.rf.19afd287bae5e7c01a97f9a115afe26a.jpg: 768x768 22 Players, 11.9ms\n",
            "image 236/351 /content/custom_val/images/798b45_3_6_png_jpg.rf.5a88a659368f7721c84b5c56d0fe0f45.jpg: 768x768 22 Players, 12.0ms\n",
            "image 237/351 /content/custom_val/images/798b45_3_7_png_jpg.rf.187877cd50ef7b879f3ae2bc99c5fa08.jpg: 768x768 22 Players, 11.9ms\n",
            "image 238/351 /content/custom_val/images/798b45_3_7_png_jpg.rf.b07bad0cf637c3a83a4c246ec3077d37.jpg: 768x768 22 Players, 11.9ms\n",
            "image 239/351 /content/custom_val/images/798b45_3_7_png_jpg.rf.cfa075e94896b5f5a6971b73c3a5276a.jpg: 768x768 22 Players, 11.9ms\n",
            "image 240/351 /content/custom_val/images/798b45_5_1_png_jpg.rf.0b2ac322a080ab4bd5988d55ca74f2b5.jpg: 768x768 24 Players, 11.9ms\n",
            "image 241/351 /content/custom_val/images/798b45_5_1_png_jpg.rf.91bac2cce99f11691ca9876880888cf3.jpg: 768x768 24 Players, 11.9ms\n",
            "image 242/351 /content/custom_val/images/798b45_5_1_png_jpg.rf.9b90d8852da5ae7f06344261d95df8da.jpg: 768x768 24 Players, 11.9ms\n",
            "image 243/351 /content/custom_val/images/798b45_5_2_png_jpg.rf.333b979f836ab5cdf0b7cd12abb89c09.jpg: 768x768 21 Players, 11.9ms\n",
            "image 244/351 /content/custom_val/images/798b45_5_2_png_jpg.rf.92d8c4515135c1ba50be09d4f69e86cd.jpg: 768x768 21 Players, 12.0ms\n",
            "image 245/351 /content/custom_val/images/798b45_5_2_png_jpg.rf.e184ccc8d040fd5467b80374e0791569.jpg: 768x768 21 Players, 12.1ms\n",
            "image 246/351 /content/custom_val/images/798b45_5_3_png_jpg.rf.161edba7733b6ddcf087a1e0e16dfba5.jpg: 768x768 21 Players, 12.5ms\n",
            "image 247/351 /content/custom_val/images/798b45_5_3_png_jpg.rf.2a671b3aafd4bdc0825ce0b78b5bcd5e.jpg: 768x768 21 Players, 12.5ms\n",
            "image 248/351 /content/custom_val/images/798b45_5_3_png_jpg.rf.de2f3ef1b049db82dde9cfaf050bf5cc.jpg: 768x768 21 Players, 12.3ms\n",
            "image 249/351 /content/custom_val/images/798b45_5_4_png_jpg.rf.1526cbce5fa36ad0391451b95a51a828.jpg: 768x768 23 Players, 12.2ms\n",
            "image 250/351 /content/custom_val/images/798b45_5_4_png_jpg.rf.e1d251794329c32d47f4ac06bcd7748a.jpg: 768x768 24 Players, 12.3ms\n",
            "image 251/351 /content/custom_val/images/798b45_5_4_png_jpg.rf.f17c80de80c129f1a2c6c005fd62fca5.jpg: 768x768 25 Players, 12.3ms\n",
            "image 252/351 /content/custom_val/images/798b45_5_5_png_jpg.rf.03045d281b2e6286b6efd45dfca5f324.jpg: 768x768 22 Players, 12.3ms\n",
            "image 253/351 /content/custom_val/images/798b45_5_5_png_jpg.rf.95f33f02abf0cac423b7cb8609a474b4.jpg: 768x768 23 Players, 12.3ms\n",
            "image 254/351 /content/custom_val/images/798b45_5_5_png_jpg.rf.f62d7f9a5f307c022846300e051f6db3.jpg: 768x768 22 Players, 12.3ms\n",
            "image 255/351 /content/custom_val/images/798b45_5_6_png_jpg.rf.5a3b2d28fa29e7a0ffefff32731f3cb7.jpg: 768x768 21 Players, 12.4ms\n",
            "image 256/351 /content/custom_val/images/798b45_5_6_png_jpg.rf.7377c35ec9ef4a68d4351c819341af10.jpg: 768x768 21 Players, 12.7ms\n",
            "image 257/351 /content/custom_val/images/798b45_5_6_png_jpg.rf.9c742fb5e77acc9859c331b1cdba7cdf.jpg: 768x768 21 Players, 12.7ms\n",
            "image 258/351 /content/custom_val/images/798b45_5_7_png_jpg.rf.3fb66a4ad0200b43d60ab73e5ec199f6.jpg: 768x768 21 Players, 12.7ms\n",
            "image 259/351 /content/custom_val/images/798b45_5_7_png_jpg.rf.8fe59a4d85b84fdf522bcfb4068f2715.jpg: 768x768 21 Players, 12.4ms\n",
            "image 260/351 /content/custom_val/images/798b45_5_7_png_jpg.rf.cca48bbab5d6a7489528735497b0aff6.jpg: 768x768 22 Players, 12.4ms\n",
            "image 261/351 /content/custom_val/images/798b45_7_1_png_jpg.rf.9fcdcea788e2783a3919a071f8b25e48.jpg: 768x768 22 Players, 12.5ms\n",
            "image 262/351 /content/custom_val/images/798b45_7_1_png_jpg.rf.ab0f0512ba2efe5d6d7b7a8167b027f2.jpg: 768x768 22 Players, 12.4ms\n",
            "image 263/351 /content/custom_val/images/798b45_7_1_png_jpg.rf.b3ee39d0a4958800878947e465afc623.jpg: 768x768 22 Players, 12.5ms\n",
            "image 264/351 /content/custom_val/images/798b45_7_2_png_jpg.rf.3483b591baf637c42f9146e27451bf3c.jpg: 768x768 22 Players, 12.4ms\n",
            "image 265/351 /content/custom_val/images/798b45_7_2_png_jpg.rf.6d6f562c804238880ba324390b321d46.jpg: 768x768 22 Players, 12.4ms\n",
            "image 266/351 /content/custom_val/images/798b45_7_2_png_jpg.rf.ba1de15f8f5d56975b5270778d48eac7.jpg: 768x768 22 Players, 12.9ms\n",
            "image 267/351 /content/custom_val/images/798b45_7_3_png_jpg.rf.a64f87ca19591bd9631533b31241b6bd.jpg: 768x768 23 Players, 12.9ms\n",
            "image 268/351 /content/custom_val/images/798b45_7_3_png_jpg.rf.d0f8839b0f027ad1d8c300dfdf4afc10.jpg: 768x768 23 Players, 12.9ms\n",
            "image 269/351 /content/custom_val/images/798b45_7_3_png_jpg.rf.ec30636800d162ff4f3aa811251a4dac.jpg: 768x768 23 Players, 12.5ms\n",
            "image 270/351 /content/custom_val/images/798b45_7_5_png_jpg.rf.b34f8ee133af11aa271328c22a055e76.jpg: 768x768 23 Players, 12.5ms\n",
            "image 271/351 /content/custom_val/images/798b45_7_6_png_jpg.rf.bf1da5db585b256c4304bebe49e971d4.jpg: 768x768 21 Players, 12.5ms\n",
            "image 272/351 /content/custom_val/images/798b45_7_6_png_jpg.rf.c2c6b46a9f65cfb622613f3487e67fef.jpg: 768x768 21 Players, 12.5ms\n",
            "image 273/351 /content/custom_val/images/798b45_7_6_png_jpg.rf.fc00f423b7a444b15e9da66894386e41.jpg: 768x768 21 Players, 12.5ms\n",
            "image 274/351 /content/custom_val/images/798b45_7_7_png_jpg.rf.37c11f95f80c61ffc81e404f6dae288f.jpg: 768x768 22 Players, 12.5ms\n",
            "image 275/351 /content/custom_val/images/798b45_7_7_png_jpg.rf.9c05d78411b9fe72d15f50f5005aafd1.jpg: 768x768 20 Players, 12.5ms\n",
            "image 276/351 /content/custom_val/images/798b45_7_7_png_jpg.rf.f9b5fc9e459c718b6eb528189e7d2a6a.jpg: 768x768 22 Players, 12.5ms\n",
            "image 277/351 /content/custom_val/images/798b45_9_8_png_jpg.rf.973e5b89553dec40cdea123ca703edd8.jpg: 768x768 23 Players, 12.7ms\n",
            "image 278/351 /content/custom_val/images/798b45_9_9_png_jpg.rf.2cd649562092c53576aa2dee6a8d880d.jpg: 768x768 22 Players, 12.7ms\n",
            "image 279/351 /content/custom_val/images/798b45_9_9_png_jpg.rf.4c11ae1fc8b55cfc1a31401f07ef9c5d.jpg: 768x768 22 Players, 12.6ms\n",
            "image 280/351 /content/custom_val/images/798b45_9_9_png_jpg.rf.b46324aadf2c27d2f0e3a98880d12b16.jpg: 768x768 22 Players, 12.5ms\n",
            "image 281/351 /content/custom_val/images/a9f16c_2_8_png_jpg.rf.0fbf20dab6928ce121541bf649849626.jpg: 768x768 21 Players, 12.4ms\n",
            "image 282/351 /content/custom_val/images/a9f16c_2_8_png_jpg.rf.62f17e4da72000ac8a458262a42dad63.jpg: 768x768 22 Players, 12.4ms\n",
            "image 283/351 /content/custom_val/images/a9f16c_2_8_png_jpg.rf.f30d5e072c72dd1637e7b4476b1da2dc.jpg: 768x768 22 Players, 12.4ms\n",
            "image 284/351 /content/custom_val/images/a9f16c_5_8_png_jpg.rf.1203cd0ec619bf08a4941fdc005dba3f.jpg: 768x768 22 Players, 12.4ms\n",
            "image 285/351 /content/custom_val/images/a9f16c_5_8_png_jpg.rf.17ff7a464e6c776f69f45307decd4adb.jpg: 768x768 21 Players, 12.4ms\n",
            "image 286/351 /content/custom_val/images/a9f16c_5_8_png_jpg.rf.2a05376131748fb586ffcb2624dbc498.jpg: 768x768 21 Players, 12.4ms\n",
            "image 287/351 /content/custom_val/images/a9f16c_5_9_png_jpg.rf.2f5a147a697254a494d5f3994f09ed2c.jpg: 768x768 24 Players, 12.4ms\n",
            "image 288/351 /content/custom_val/images/a9f16c_5_9_png_jpg.rf.5e5f39ceed7e17fd9690dac36d1cd84a.jpg: 768x768 23 Players, 12.4ms\n",
            "image 289/351 /content/custom_val/images/a9f16c_5_9_png_jpg.rf.b4bda88ba3deb608edabe11953f2cfdc.jpg: 768x768 23 Players, 12.4ms\n",
            "image 290/351 /content/custom_val/images/a9f16c_8_1_png_jpg.rf.01275a881041a3567b73da073cc8e3c0.jpg: 768x768 24 Players, 12.5ms\n",
            "image 291/351 /content/custom_val/images/a9f16c_8_1_png_jpg.rf.1d78467d4ae175870887ce7011905904.jpg: 768x768 25 Players, 12.4ms\n",
            "image 292/351 /content/custom_val/images/a9f16c_8_1_png_jpg.rf.8c1fd02cd8d7d21a86be88858d195838.jpg: 768x768 26 Players, 12.4ms\n",
            "image 293/351 /content/custom_val/images/a9f16c_8_2_png_jpg.rf.313ab0e9b326f31052a7a09c2346b13b.jpg: 768x768 21 Players, 12.4ms\n",
            "image 294/351 /content/custom_val/images/a9f16c_8_2_png_jpg.rf.90c6ddeeac915fc59e5c96a06db12d18.jpg: 768x768 21 Players, 12.4ms\n",
            "image 295/351 /content/custom_val/images/a9f16c_8_2_png_jpg.rf.cca6d2849537d9d8d39d7fd49e341479.jpg: 768x768 21 Players, 12.4ms\n",
            "image 296/351 /content/custom_val/images/a9f16c_8_3_png_jpg.rf.28cd57be03c8ad7ae7a1e7810cd71d2d.jpg: 768x768 25 Players, 12.4ms\n",
            "image 297/351 /content/custom_val/images/a9f16c_8_3_png_jpg.rf.5f7048cd2dd6354b1ebbc05c320842cf.jpg: 768x768 25 Players, 12.4ms\n",
            "image 298/351 /content/custom_val/images/a9f16c_8_3_png_jpg.rf.be3316ae6c07365f9ec235e83353e598.jpg: 768x768 25 Players, 12.4ms\n",
            "image 299/351 /content/custom_val/images/a9f16c_8_4_png_jpg.rf.7b88a67ad2612594bfeb18dc9389f912.jpg: 768x768 24 Players, 12.4ms\n",
            "image 300/351 /content/custom_val/images/a9f16c_8_4_png_jpg.rf.9f10e441f64b7967ba8e216c6f4e21a8.jpg: 768x768 24 Players, 12.4ms\n",
            "image 301/351 /content/custom_val/images/a9f16c_8_4_png_jpg.rf.a02da1bc9703a1e9af66d20841e326c1.jpg: 768x768 24 Players, 12.4ms\n",
            "image 302/351 /content/custom_val/images/a9f16c_8_5_png_jpg.rf.141836d807ee051f0f376e32f24a95c9.jpg: 768x768 21 Players, 12.4ms\n",
            "image 303/351 /content/custom_val/images/a9f16c_8_5_png_jpg.rf.390f6d80857db7605c9c06d47a0ed018.jpg: 768x768 21 Players, 12.4ms\n",
            "image 304/351 /content/custom_val/images/a9f16c_8_5_png_jpg.rf.59347938b348393f515cdb59af73d13b.jpg: 768x768 21 Players, 12.4ms\n",
            "image 305/351 /content/custom_val/images/c01561_1_10_png_jpg.rf.0b02a2d29878d7357523641abba411a8.jpg: 768x768 23 Players, 12.4ms\n",
            "image 306/351 /content/custom_val/images/c01561_1_10_png_jpg.rf.a67c4c4bc926d8c4147122d2da28b0ba.jpg: 768x768 23 Players, 12.4ms\n",
            "image 307/351 /content/custom_val/images/c01561_1_10_png_jpg.rf.ea8523be7e1e4a9bbabc7652840125bf.jpg: 768x768 23 Players, 12.4ms\n",
            "image 308/351 /content/custom_val/images/c01561_1_2_png_jpg.rf.090191e4df1bb6482f3c3a9d8c183834.jpg: 768x768 22 Players, 12.8ms\n",
            "image 309/351 /content/custom_val/images/c01561_1_2_png_jpg.rf.1b9894fe1be81e909ca33944bef9b183.jpg: 768x768 22 Players, 12.9ms\n",
            "image 310/351 /content/custom_val/images/c01561_1_2_png_jpg.rf.8ba28871bfd313c7aa8c7e572cf01cda.jpg: 768x768 21 Players, 12.9ms\n",
            "image 311/351 /content/custom_val/images/c01561_1_3_png_jpg.rf.5e376f16fd9e91f46078185a1ccbc550.jpg: 768x768 23 Players, 12.5ms\n",
            "image 312/351 /content/custom_val/images/c01561_1_3_png_jpg.rf.940aaa6f85342012980955b3725d31fa.jpg: 768x768 23 Players, 12.5ms\n",
            "image 313/351 /content/custom_val/images/c01561_1_3_png_jpg.rf.c8c38d5fdf10433ab073c64f542983db.jpg: 768x768 23 Players, 12.5ms\n",
            "image 314/351 /content/custom_val/images/c01561_1_4_png_jpg.rf.7c964931524f3c097cc8096c34bd3833.jpg: 768x768 22 Players, 12.4ms\n",
            "image 315/351 /content/custom_val/images/c01561_1_4_png_jpg.rf.c1a7df58f0b02e92ea549f6ca8e944c1.jpg: 768x768 22 Players, 12.4ms\n",
            "image 316/351 /content/custom_val/images/c01561_1_4_png_jpg.rf.e54b7c2755b61ebac25e1eef1e6007a3.jpg: 768x768 22 Players, 12.2ms\n",
            "image 317/351 /content/custom_val/images/c01561_1_5_png_jpg.rf.4bea093d065e846fe5cb4bde086e282b.jpg: 768x768 22 Players, 13.5ms\n",
            "image 318/351 /content/custom_val/images/c01561_1_5_png_jpg.rf.51d142f360395804461d3a7c014367be.jpg: 768x768 22 Players, 12.2ms\n",
            "image 319/351 /content/custom_val/images/c01561_1_5_png_jpg.rf.8b851e6b0fa78061fdaee3abd7d1752d.jpg: 768x768 22 Players, 12.2ms\n",
            "image 320/351 /content/custom_val/images/c01561_1_6_png_jpg.rf.45e5e23dd76733dbe21d1dd9a9b43713.jpg: 768x768 22 Players, 12.2ms\n",
            "image 321/351 /content/custom_val/images/c01561_1_6_png_jpg.rf.b9a1821b68e149d4f43cd6c0ca4cae41.jpg: 768x768 22 Players, 12.5ms\n",
            "image 322/351 /content/custom_val/images/c01561_1_6_png_jpg.rf.d8c455eae1e24ffafc904195061576cd.jpg: 768x768 22 Players, 12.1ms\n",
            "image 323/351 /content/custom_val/images/c01561_1_7_png_jpg.rf.74c7deeb7727483453ea3a575806731c.jpg: 768x768 23 Players, 12.2ms\n",
            "image 324/351 /content/custom_val/images/c01561_1_7_png_jpg.rf.bd0c147e572de24ad9549d04a0c0644e.jpg: 768x768 23 Players, 12.1ms\n",
            "image 325/351 /content/custom_val/images/c01561_1_7_png_jpg.rf.d71b514506e27b37865a48d19aea02cd.jpg: 768x768 23 Players, 12.2ms\n",
            "image 326/351 /content/custom_val/images/cd987c_0_1_png_jpg.rf.1ab393d301dc60bf26633ad7815725e4.jpg: 768x768 19 Players, 12.1ms\n",
            "image 327/351 /content/custom_val/images/cd987c_0_1_png_jpg.rf.65ca804c48006b629b64c9c0f675a4c4.jpg: 768x768 20 Players, 12.1ms\n",
            "image 328/351 /content/custom_val/images/cd987c_0_1_png_jpg.rf.7b5aa6f2c2f628cb079b39738587c97b.jpg: 768x768 20 Players, 12.1ms\n",
            "image 329/351 /content/custom_val/images/cd987c_0_2_png_jpg.rf.073be1eb178d2f0bd7926ba98a1c1765.jpg: 768x768 22 Players, 12.2ms\n",
            "image 330/351 /content/custom_val/images/cd987c_0_2_png_jpg.rf.a95b472b05690eb4ead2d590604a1151.jpg: 768x768 23 Players, 12.1ms\n",
            "image 331/351 /content/custom_val/images/cd987c_0_2_png_jpg.rf.b6770d980ceaf9013153dc6dd1c5d486.jpg: 768x768 22 Players, 12.1ms\n",
            "image 332/351 /content/custom_val/images/cd987c_0_3_png_jpg.rf.7b2ac958197b298c8f00a403be468332.jpg: 768x768 24 Players, 12.1ms\n",
            "image 333/351 /content/custom_val/images/cd987c_0_3_png_jpg.rf.9c8432e93a3010be80c4eec9886685a3.jpg: 768x768 24 Players, 12.1ms\n",
            "image 334/351 /content/custom_val/images/cd987c_0_3_png_jpg.rf.e7625e297d712bb490aded876e444a65.jpg: 768x768 24 Players, 12.1ms\n",
            "image 335/351 /content/custom_val/images/cd987c_0_4_png_jpg.rf.2a9561e58565c0fc2d8dc23f57d5e127.jpg: 768x768 24 Players, 12.1ms\n",
            "image 336/351 /content/custom_val/images/cd987c_0_4_png_jpg.rf.4e67fc9db93e31517f349244202680e9.jpg: 768x768 23 Players, 12.1ms\n",
            "image 337/351 /content/custom_val/images/cd987c_0_4_png_jpg.rf.c5557ee8aeee0b1b60a2ff49612870bb.jpg: 768x768 23 Players, 12.1ms\n",
            "image 338/351 /content/custom_val/images/cd987c_0_5_png_jpg.rf.44a11a88d79e17c03205098af7fdd26b.jpg: 768x768 24 Players, 12.1ms\n",
            "image 339/351 /content/custom_val/images/cd987c_0_5_png_jpg.rf.55a21fa983e59d5488c315a4beb84d48.jpg: 768x768 24 Players, 13.5ms\n",
            "image 340/351 /content/custom_val/images/cd987c_0_5_png_jpg.rf.a676b31011832ab9a305f21e4344c20c.jpg: 768x768 24 Players, 12.1ms\n",
            "image 341/351 /content/custom_val/images/cd987c_9_10_png_jpg.rf.0b0666e3fdb7acf08a5553a9833af50b.jpg: 768x768 23 Players, 12.1ms\n",
            "image 342/351 /content/custom_val/images/cd987c_9_10_png_jpg.rf.976fa13d962b560fac522e05e30bdee5.jpg: 768x768 23 Players, 12.1ms\n",
            "image 343/351 /content/custom_val/images/cd987c_9_10_png_jpg.rf.baef4013d73d74c61521b035ef936898.jpg: 768x768 24 Players, 12.1ms\n",
            "image 344/351 /content/custom_val/images/cd987c_9_8_png_jpg.rf.4cbf07b491a038a1b0367cf492bc091d.jpg: 768x768 23 Players, 12.2ms\n",
            "image 345/351 /content/custom_val/images/cd987c_9_8_png_jpg.rf.8252d96431e1ad73db358e527244b4fd.jpg: 768x768 23 Players, 12.1ms\n",
            "image 346/351 /content/custom_val/images/cd987c_9_8_png_jpg.rf.923f0427786ddced6783bee3b43dfaa5.jpg: 768x768 23 Players, 12.2ms\n",
            "image 347/351 /content/custom_val/images/cd987c_9_9_png_jpg.rf.1853570aed0c110cf494d3d51ec02f06.jpg: 768x768 25 Players, 12.2ms\n",
            "image 348/351 /content/custom_val/images/cd987c_9_9_png_jpg.rf.27dbe5ddc2f247d0aa7a4f54733692ce.jpg: 768x768 25 Players, 12.2ms\n",
            "image 349/351 /content/custom_val/images/cd987c_9_9_png_jpg.rf.cf2a1ad903d38875b1f869758c449398.jpg: 768x768 23 Players, 12.1ms\n",
            "image 350/351 /content/custom_val/images/football_mp4-14_jpg.rf.0bed8292f518b1addb6e2f444451c684.jpg: 768x768 4 Somethings, 14 Players, 12.7ms\n",
            "image 351/351 /content/custom_val/images/football_mp4-18_jpg.rf.e8fe246418a4248d80d8413c49f8873c.jpg: 768x768 13 Players, 14.2ms\n",
            "Speed: 4.4ms preprocess, 13.0ms inference, 1.5ms postprocess per image at shape (1, 3, 768, 768)\n",
            "Results saved to \u001b[1mruns/detect/predict3\u001b[0m\n",
            "351 labels saved to runs/detect/predict3/labels\n"
          ]
        }
      ]
    },
    {
      "cell_type": "code",
      "source": [
        "import os\n",
        "import pandas as pd\n",
        "from PIL import Image\n",
        "\n",
        "# Paths\n",
        "labels_dir = '/content/runs/detect/predict3/labels'\n",
        "images_dir = '/content/custom_val/images'  # or wherever your test images are\n",
        "template_csv = '/content/images_test.csv'\n",
        "output_csv = '/content/submission2.csv'\n",
        "\n",
        "# Read template\n",
        "test_df = pd.read_csv(template_csv)\n",
        "submission_rows = []\n",
        "\n",
        "for image_id in test_df['image_id']:\n",
        "    image_file = f\"{image_id}.jpg\"  # adjust extension if needed\n",
        "    label_file = f\"{image_id}.txt\"\n",
        "\n",
        "    image_path = os.path.join(images_dir, image_file)\n",
        "    label_path = os.path.join(labels_dir, label_file)\n",
        "\n",
        "    prediction_str = ''\n",
        "\n",
        "    if os.path.exists(label_path) and os.path.exists(image_path):\n",
        "        img = Image.open(image_path)\n",
        "        img_w, img_h = img.size\n",
        "\n",
        "        with open(label_path, 'r') as f:\n",
        "            for line in f:\n",
        "                parts = line.strip().split()\n",
        "                cls_id, x_c, y_c, w, h = map(float, parts)\n",
        "\n",
        "                if int(cls_id) != 2:  # Only keep \"Player\" class\n",
        "                    continue\n",
        "\n",
        "                x_center = x_c * img_w\n",
        "                y_center = y_c * img_h\n",
        "                box_w = w * img_w\n",
        "                box_h = h * img_h\n",
        "\n",
        "                x1 = x_center - box_w / 2\n",
        "                y1 = y_center - box_h / 2\n",
        "                x2 = x_center + box_w / 2\n",
        "                y2 = y_center + box_h / 2\n",
        "\n",
        "                prediction_str += f'Player 1.0 {x1:.1f} {y1:.1f} {x2:.1f} {y2:.1f} '\n",
        "\n",
        "    submission_rows.append({\n",
        "        'image_id': image_id,\n",
        "        'prediction_string': prediction_str.strip()\n",
        "    })\n",
        "\n",
        "# Create and save the final CSV\n",
        "submission_df = pd.DataFrame(submission_rows)\n",
        "submission_df.to_csv(output_csv, index=False)\n",
        "print(f\"✅ Final submission saved to {output_csv}\")\n"
      ],
      "metadata": {
        "colab": {
          "base_uri": "https://localhost:8080/"
        },
        "id": "kma9afkB5TeM",
        "outputId": "6b7adb87-2a80-489c-b5cd-d4d4b3812753"
      },
      "execution_count": 19,
      "outputs": [
        {
          "output_type": "stream",
          "name": "stdout",
          "text": [
            "✅ Final submission saved to /content/submission2.csv\n"
          ]
        }
      ]
    },
    {
      "cell_type": "code",
      "source": [
        "import os\n",
        "\n",
        "# Paths\n",
        "original_labels_dir = '/content/custom_data/labels'\n",
        "filtered_labels_dir = '/content/custom_data_new/labels'\n",
        "\n",
        "# Create new directory if it doesn't exist\n",
        "os.makedirs(filtered_labels_dir, exist_ok=True)\n",
        "\n",
        "# Loop through each label file\n",
        "for label_file in os.listdir(original_labels_dir):\n",
        "    if not label_file.endswith('.txt'):\n",
        "        continue\n",
        "\n",
        "    with open(os.path.join(original_labels_dir, label_file), 'r') as f:\n",
        "        lines = f.readlines()\n",
        "\n",
        "    # Keep only lines starting with class '2'\n",
        "    player_lines = [line for line in lines if line.strip().startswith('2 ')]\n",
        "\n",
        "    # Write to new file\n",
        "    with open(os.path.join(filtered_labels_dir, label_file), 'w') as f:\n",
        "        f.writelines(player_lines)\n"
      ],
      "metadata": {
        "id": "7peHJq3J-cFH"
      },
      "execution_count": 15,
      "outputs": []
    }
  ]
}